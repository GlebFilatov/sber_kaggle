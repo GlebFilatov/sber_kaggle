{
 "cells": [
  {
   "cell_type": "code",
   "execution_count": 126,
   "metadata": {
    "collapsed": false
   },
   "outputs": [],
   "source": [
    "import pandas as pd\n",
    "import matplotlib.pyplot as plt\n",
    "\n",
    "import seaborn as sns\n",
    "\n",
    "% matplotlib inline\n",
    "import numpy as np\n",
    "\n",
    "from sklearn.preprocessing import LabelEncoder, StandardScaler\n",
    "\n",
    "import warnings\n",
    "warnings.filterwarnings(\"ignore\")"
   ]
  },
  {
   "cell_type": "code",
   "execution_count": 127,
   "metadata": {
    "collapsed": true
   },
   "outputs": [],
   "source": [
    "from pylab import rcParams\n",
    "#rcParams['figure.figsize'] = 13, 4\n",
    "rcParams['figure.figsize'] = 13, 6"
   ]
  },
  {
   "cell_type": "code",
   "execution_count": 128,
   "metadata": {
    "collapsed": true
   },
   "outputs": [],
   "source": [
    "# The directory path\n",
    "DIR = 'C:/Users/User/Desktop/Kaggle/Data/Sberbank Russian Housing Market/'\n",
    "to_ensemble = 'C:/Users/User/Desktop/Kaggle/Data/Sberbank Russian Housing Market/to_ensemble/'"
   ]
  },
  {
   "cell_type": "code",
   "execution_count": 129,
   "metadata": {
    "collapsed": false
   },
   "outputs": [
    {
     "name": "stdout",
     "output_type": "stream",
     "text": [
      "Train shape = (30471, 292)\n",
      "Test shape = (7662, 291)\n",
      "Macro shape = (2484, 100)\n"
     ]
    }
   ],
   "source": [
    "train = pd.read_csv(DIR + 'train.csv')\n",
    "test = pd.read_csv(DIR + 'test.csv')\n",
    "macro = pd.read_csv(DIR + 'macro.csv')\n",
    "\n",
    "print('Train shape = ' + str(train.shape))\n",
    "print('Test shape = ' + str(test.shape))\n",
    "print('Macro shape = ' + str(macro.shape))"
   ]
  },
  {
   "cell_type": "code",
   "execution_count": 130,
   "metadata": {
    "collapsed": false
   },
   "outputs": [],
   "source": [
    "train['green > ind'] = (train['green_zone_part'] > train['indust_part']).astype(int)\n",
    "test['green > ind'] = (test['green_zone_part'] > test['indust_part']).astype(int)"
   ]
  },
  {
   "cell_type": "code",
   "execution_count": 131,
   "metadata": {
    "collapsed": false
   },
   "outputs": [],
   "source": [
    "d = {'yes' : 1, 'no' : 0}\n",
    "for j in ['culture_objects_top_25', 'thermal_power_plant_raion', 'incineration_raion', 'oil_chemistry_raion',\n",
    "         'radiation_raion', 'railroad_terminal_raion', 'big_market_raion', 'nuclear_reactor_raion',\n",
    "         'detention_facility_raion', 'water_1line', 'big_road1_1line', 'railroad_1line']:\n",
    "    train[j] = train[j].apply(lambda x: d[x])\n",
    "    test[j] = test[j].apply(lambda x: d[x])"
   ]
  },
  {
   "cell_type": "code",
   "execution_count": 132,
   "metadata": {
    "collapsed": true
   },
   "outputs": [],
   "source": [
    "#Детей на детские сады\n",
    "train['child_per_preschool'] = train['children_preschool'] / train['preschool_education_centers_raion']\n",
    "test['child_per_preschool'] = test['children_preschool'] / test['preschool_education_centers_raion']\n",
    "\n",
    "#Детей на школы\n",
    "train['child_per_school'] = train['children_school'] / train['school_education_centers_raion']\n",
    "test['child_per_school'] = test['children_school'] / test['school_education_centers_raion']\n",
    "\n",
    "train['all_kids'] = train['children_school'] + train['children_preschool']\n",
    "test['all_kids'] = test['children_school'] + test['children_preschool']\n",
    "\n",
    "#Обычные школы: школы - топ-20 школы\n",
    "train['reg_schools'] = train['school_education_centers_raion'] - train['school_education_centers_top_20_raion']\n",
    "test['reg_schools'] = test['school_education_centers_raion'] - test['school_education_centers_top_20_raion']\n",
    "\n",
    "#Детсады + школы + госпитали + ...\n",
    "train['rayon_goods'] = train['big_market_raion'] + train['office_raion'] + train['shopping_centers_raion'] + train['additional_education_raion'] + train['preschool_education_centers_raion'] + train['school_education_centers_raion'] + train['healthcare_centers_raion'] + train['sport_objects_raion']\n",
    "test['rayon_goods'] = test['big_market_raion'] + test['office_raion'] + test['shopping_centers_raion'] + test['additional_education_raion'] + test['preschool_education_centers_raion'] + test['school_education_centers_raion'] + test['healthcare_centers_raion'] + test['sport_objects_raion']\n",
    "\n",
    "train['rayon_bads'] = train['detention_facility_raion'] + train['nuclear_reactor_raion'] + train['incineration_raion'] + train['oil_chemistry_raion']\n",
    "test['rayon_bads'] = test['detention_facility_raion'] + test['nuclear_reactor_raion'] + test['incineration_raion'] + test['oil_chemistry_raion']\n",
    "\n",
    "#Топ-универы + топ-школы\n",
    "train['top-schools + top-university'] = train['university_top_20_raion'] + train['school_education_centers_top_20_raion']\n",
    "test['top-schools + top-university'] = test['university_top_20_raion'] + test['school_education_centers_top_20_raion']"
   ]
  },
  {
   "cell_type": "code",
   "execution_count": 133,
   "metadata": {
    "collapsed": false
   },
   "outputs": [],
   "source": [
    "train['male_perc'] = train['male_f'] / train['full_all']\n",
    "test['male_perc'] = test['male_f'] / test['full_all']\n",
    "\n",
    "train['female_perc'] = train['female_f'] / train['full_all']\n",
    "test['female_perc'] = test['female_f'] / test['full_all']\n",
    "\n",
    "train['young_perc'] = train['young_all'] / train['full_all']\n",
    "test['young_perc'] = test['young_all'] / test['full_all']\n",
    "\n",
    "train['young_male'] = train['young_male'] / train['young_all']\n",
    "test['young_male'] = test['young_male'] / test['young_all']\n",
    "\n",
    "train['young_female'] = train['young_female'] / train['young_all']\n",
    "test['young_female'] = test['young_female'] / test['young_all']"
   ]
  },
  {
   "cell_type": "code",
   "execution_count": 134,
   "metadata": {
    "collapsed": true
   },
   "outputs": [],
   "source": [
    "train['work_perc'] = train['work_all'] / train['full_all']\n",
    "test['work_perc'] = test['work_all'] / test['full_all']\n",
    "\n",
    "train['working_male'] = train['work_male'] / train['work_all']\n",
    "test['working_male'] = test['work_male'] / test['work_all']\n",
    "\n",
    "train['working_female'] = train['work_female'] / train['work_all']\n",
    "test['working_female'] = test['work_female'] / test['work_all']\n",
    "\n",
    "train['elder_perc'] = train['ekder_all'] / train['full_all']\n",
    "test['elder_perc'] = test['ekder_all'] / test['full_all']\n",
    "\n",
    "train['elder_work_perc'] = train['ekder_all'] / train['work_all']\n",
    "test['elder_work_perc'] = test['ekder_all'] / test['work_all']\n",
    "\n",
    "train['elder_males'] = train['ekder_male'] / train['ekder_all']\n",
    "test['elder_males'] = test['ekder_male'] / test['ekder_all']\n",
    "\n",
    "train['elder_females'] = train['ekder_female'] / train['ekder_all']\n",
    "test['elder_females'] = test['ekder_female'] / test['ekder_all']"
   ]
  },
  {
   "cell_type": "code",
   "execution_count": 135,
   "metadata": {
    "collapsed": true
   },
   "outputs": [],
   "source": [
    "for j in ['0_6_all', '0_6_male', '0_6_female', '7_14_all', '7_14_male', '7_14_female', '0_17_all',\n",
    "         '0_17_male', '0_17_female', '16_29_all', '16_29_male', '16_29_female', '0_13_all', '0_13_male', '0_13_female']:\n",
    "    train[j + '_perc'] = train[j] / train['full_all']\n",
    "    test[j + '_perc'] = test[j] / test['full_all']\n",
    "    train[j + '_work_perc'] = train[j] / train['work_all']\n",
    "    test[j + '_work_perc'] = test[j] / test['work_all']"
   ]
  },
  {
   "cell_type": "code",
   "execution_count": 136,
   "metadata": {
    "collapsed": false
   },
   "outputs": [],
   "source": [
    "train['metro_avto/metro_walk'] = train['metro_km_avto'] / train['metro_km_walk']\n",
    "test['metro_avto/metro_walk'] = test['metro_km_avto'] / test['metro_km_walk']\n",
    "\n",
    "train['metro_min_walk/metro_min_avto'] = train['metro_min_walk'] / train['metro_min_avto']\n",
    "test['metro_min_walk/metro_min_avto'] = test['metro_min_walk'] / test['metro_min_avto']"
   ]
  },
  {
   "cell_type": "code",
   "execution_count": 137,
   "metadata": {
    "collapsed": true
   },
   "outputs": [],
   "source": [
    "for j in ['metro_km_walk', 'kindergarten_km', 'park_km', 'school_km', 'green_zone_km', 'industrial_km',\n",
    "         'water_treatment_km', 'cemetery_km', 'incineration_km', 'railroad_station_avto_km',\n",
    "          'water_km', 'public_transport_station_km', 'mkad_km', 'ttk_km', 'sadovoe_km', 'bulvar_ring_km',\n",
    "         'kremlin_km', 'big_road1_km', 'big_road2_km', 'railroad_km', 'zd_vokzaly_avto_km', 'bus_terminal_avto_km',\n",
    "         'oil_chemistry_km', 'nuclear_reactor_km', 'radiation_km', 'power_transmission_line_km', 'thermal_power_plant_km',\n",
    "         'ts_km', 'big_market_km', 'market_shop_km', 'fitness_km', 'swim_pool_km', 'ice_rink_km', 'stadium_km',\n",
    "         'hospice_morgue_km', 'detention_facility_km', 'public_healthcare_km', 'university_km', 'workplaces_km',\n",
    "         'shopping_centers_km', 'office_km', 'additional_education_km', 'preschool_km', 'big_church_km',\n",
    "          'church_synagogue_km', 'mosque_km', 'theater_km', 'museum_km', 'exhibition_km', 'catering_km']:\n",
    "    train['exp(-' + j + ')'] = np.exp(-train[j])\n",
    "    test['exp(-' + j + ')'] = np.exp(-test[j])"
   ]
  },
  {
   "cell_type": "code",
   "execution_count": 138,
   "metadata": {
    "collapsed": false
   },
   "outputs": [],
   "source": [
    "#Подсчитать частотность!\n",
    "train['metro_ID_&_avto_dist_combo'] = train['ID_metro'].apply(lambda x: str(x)) + '|' + train['metro_km_avto'].apply(lambda x: str(int(x)))\n",
    "test['metro_ID_&_avto_dist_combo'] = test['ID_metro'].apply(lambda x: str(x)) + '|' + test['metro_km_avto'].apply(lambda x: str(int(x)))\n",
    "\n",
    "train['rail_ID_&_avto_dist_combo'] = train['ID_railroad_station_avto'].apply(lambda x: str(x)) + '|' + train['railroad_station_avto_km'].apply(lambda x: str(int(x)))\n",
    "test['rail_ID_&_avto_dist_combo'] = test['ID_railroad_station_avto'].apply(lambda x: str(x)) + '|' + test['railroad_station_avto_km'].apply(lambda x: str(int(x)))"
   ]
  },
  {
   "cell_type": "code",
   "execution_count": 146,
   "metadata": {
    "collapsed": true
   },
   "outputs": [],
   "source": [
    "#Расстояние до транспортных ништяков\n",
    "train['sum_of_transport_distances'] = train['public_transport_station_km'] + train['metro_km_walk'] + train['railroad_station_avto_km']\n",
    "test['sum_of_transport_distances'] = test['public_transport_station_km'] + test['metro_km_walk'] + test['railroad_station_avto_km']\n",
    "\n",
    "train['-exp(sum_of_transport_distances)'] = np.exp((-1) * (train['public_transport_station_km'] + train['metro_km_walk'] + train['railroad_station_avto_km']))\n",
    "test['-exp(sum_of_transport_distances)'] = np.exp((-1) * (test['public_transport_station_km'] + test['metro_km_walk'] + test['railroad_station_avto_km']))"
   ]
  },
  {
   "cell_type": "code",
   "execution_count": 155,
   "metadata": {
    "collapsed": true
   },
   "outputs": [],
   "source": [
    "#Расстояние до магазинов\n",
    "train['sum_of_shop_distances'] = train[['shopping_centers_km', 'big_market_km', 'market_shop_km']].sum(axis = 1)\n",
    "test['sum_of_shop_distances'] = test[['shopping_centers_km', 'big_market_km', 'market_shop_km']].sum(axis = 1)\n",
    "\n",
    "train['-exp(sum_of_shop_distances)'] = np.exp(-train[['shopping_centers_km', 'big_market_km', 'market_shop_km']].sum(axis = 1))\n",
    "test['-exp(sum_of_shop_distances)'] = np.exp(-test[['shopping_centers_km', 'big_market_km', 'market_shop_km']].sum(axis = 1))"
   ]
  },
  {
   "cell_type": "code",
   "execution_count": null,
   "metadata": {
    "collapsed": true
   },
   "outputs": [],
   "source": []
  },
  {
   "cell_type": "code",
   "execution_count": 160,
   "metadata": {
    "collapsed": false
   },
   "outputs": [
    {
     "data": {
      "text/html": [
       "<div>\n",
       "<table border=\"1\" class=\"dataframe\">\n",
       "  <thead>\n",
       "    <tr style=\"text-align: right;\">\n",
       "      <th></th>\n",
       "      <th>rayon_goods</th>\n",
       "      <th>rayon_bads</th>\n",
       "      <th>price_doc</th>\n",
       "      <th>sum_of_shop_distances</th>\n",
       "      <th>-exp(sum_of_shop_distances)</th>\n",
       "    </tr>\n",
       "  </thead>\n",
       "  <tbody>\n",
       "    <tr>\n",
       "      <th>rayon_goods</th>\n",
       "      <td>1.000000</td>\n",
       "      <td>0.277331</td>\n",
       "      <td>0.200563</td>\n",
       "      <td>-0.288651</td>\n",
       "      <td>0.044204</td>\n",
       "    </tr>\n",
       "    <tr>\n",
       "      <th>rayon_bads</th>\n",
       "      <td>0.277331</td>\n",
       "      <td>1.000000</td>\n",
       "      <td>-0.018334</td>\n",
       "      <td>-0.166171</td>\n",
       "      <td>0.002232</td>\n",
       "    </tr>\n",
       "    <tr>\n",
       "      <th>price_doc</th>\n",
       "      <td>0.200563</td>\n",
       "      <td>-0.018334</td>\n",
       "      <td>1.000000</td>\n",
       "      <td>-0.128952</td>\n",
       "      <td>0.036525</td>\n",
       "    </tr>\n",
       "    <tr>\n",
       "      <th>sum_of_shop_distances</th>\n",
       "      <td>-0.288651</td>\n",
       "      <td>-0.166171</td>\n",
       "      <td>-0.128952</td>\n",
       "      <td>1.000000</td>\n",
       "      <td>-0.221260</td>\n",
       "    </tr>\n",
       "    <tr>\n",
       "      <th>-exp(sum_of_shop_distances)</th>\n",
       "      <td>0.044204</td>\n",
       "      <td>0.002232</td>\n",
       "      <td>0.036525</td>\n",
       "      <td>-0.221260</td>\n",
       "      <td>1.000000</td>\n",
       "    </tr>\n",
       "  </tbody>\n",
       "</table>\n",
       "</div>"
      ],
      "text/plain": [
       "                             rayon_goods  rayon_bads  price_doc  \\\n",
       "rayon_goods                     1.000000    0.277331   0.200563   \n",
       "rayon_bads                      0.277331    1.000000  -0.018334   \n",
       "price_doc                       0.200563   -0.018334   1.000000   \n",
       "sum_of_shop_distances          -0.288651   -0.166171  -0.128952   \n",
       "-exp(sum_of_shop_distances)     0.044204    0.002232   0.036525   \n",
       "\n",
       "                             sum_of_shop_distances  \\\n",
       "rayon_goods                              -0.288651   \n",
       "rayon_bads                               -0.166171   \n",
       "price_doc                                -0.128952   \n",
       "sum_of_shop_distances                     1.000000   \n",
       "-exp(sum_of_shop_distances)              -0.221260   \n",
       "\n",
       "                             -exp(sum_of_shop_distances)  \n",
       "rayon_goods                                     0.044204  \n",
       "rayon_bads                                      0.002232  \n",
       "price_doc                                       0.036525  \n",
       "sum_of_shop_distances                          -0.221260  \n",
       "-exp(sum_of_shop_distances)                     1.000000  "
      ]
     },
     "execution_count": 160,
     "metadata": {},
     "output_type": "execute_result"
    }
   ],
   "source": [
    "train[['rayon_goods', 'rayon_bads', 'price_doc', 'sum_of_shop_distances', '-exp(sum_of_shop_distances)']].corr()"
   ]
  },
  {
   "cell_type": "code",
   "execution_count": 159,
   "metadata": {
    "collapsed": false
   },
   "outputs": [
    {
     "data": {
      "text/plain": [
       "<matplotlib.collections.PathCollection at 0xd9b35f8>"
      ]
     },
     "execution_count": 159,
     "metadata": {},
     "output_type": "execute_result"
    },
    {
     "data": {
      "image/png": "[encoded data removed]",
      "text/plain": [
       "<matplotlib.figure.Figure at 0xd824080>"
      ]
     },
     "metadata": {},
     "output_type": "display_data"
    }
   ],
   "source": [
    "plt.scatter(train['sum_of_shop_distances'], train['price_doc'])"
   ]
  }
 ],
 "metadata": {
  "anaconda-cloud": {},
  "kernelspec": {
   "display_name": "Python [conda env:py34]",
   "language": "python",
   "name": "conda-env-py34-py"
  },
  "language_info": {
   "codemirror_mode": {
    "name": "ipython",
    "version": 3
   },
   "file_extension": ".py",
   "mimetype": "text/x-python",
   "name": "python",
   "nbconvert_exporter": "python",
   "pygments_lexer": "ipython3",
   "version": "3.4.5"
  }
 },
 "nbformat": 4,
 "nbformat_minor": 1
}
