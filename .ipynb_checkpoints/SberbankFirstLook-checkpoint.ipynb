{
 "cells": [
  {
   "cell_type": "code",
   "execution_count": 1,
   "metadata": {
    "collapsed": false
   },
   "outputs": [
    {
     "name": "stderr",
     "output_type": "stream",
     "text": [
      "D:\\Anaconda3\\envs\\py34\\lib\\site-packages\\IPython\\html.py:14: ShimWarning: The `IPython.html` package has been deprecated. You should import from `notebook` instead. `IPython.html.widgets` has moved to `ipywidgets`.\n",
      "  \"`IPython.html.widgets` has moved to `ipywidgets`.\", ShimWarning)\n"
     ]
    }
   ],
   "source": [
    "import pandas as pd\n",
    "import matplotlib.pyplot as plt\n",
    "\n",
    "import seaborn as sns\n",
    "\n",
    "% matplotlib inline\n",
    "import numpy as np\n",
    "\n",
    "\n",
    "from sklearn.model_selection import KFold\n",
    "from sklearn.preprocessing import LabelEncoder, StandardScaler\n",
    "from scipy.stats import skew\n",
    "\n",
    "import warnings\n",
    "warnings.filterwarnings(\"ignore\")"
   ]
  },
  {
   "cell_type": "markdown",
   "metadata": {},
   "source": [
    "1. id - непонятно, ничего пока не сделал\n",
    "+2. timestamp - см. 27 и 28.\n",
    "3. full_sq - заменил наны и нули на медианное значение (из трейна и теста, соответственно), но есть выброс в трейне и в тесте\n",
    "4. life_sq - заменил наны и нули на медианное значение (из трейна и теста, соответственно), но есть выброс в трейне и в тесте\n",
    "+5. life_percentage = life_sq / full_sq\n",
    "+6. Новые таргеты: предсказываем цену на 1 м2 площади, на 1 м2 жилой площади, на одну комнату и их трансформации\n",
    "+7. count_full_sq\n",
    "+8. count_life_sq\n",
    "+9. count_product_type\n",
    "+10. count_sub_area\n",
    "+11. floor - наны есть, заменяем их на int(6.5)\n",
    "+12. count_floor - частота появления этажа в трейне/тесте \n",
    "+13. product_type - заменил пропуски в тесте\n",
    "+14. max_floor - в тесте нет пропусков, в трейне много (30%). Заполнил наны числом 20 - наиболее частотный этаж 17 + 3\n",
    "+15. floor_rank = floor / max_floor \n",
    "+16. count_max_floor\n",
    "+17. material - в тесте нет пропусков, в трейне много (30%) и у тех же объектов, что и макс_флоор. Заполнил наиб. част. значением (1)\n",
    "+18. count_material\n",
    "+19. count_build_year\n",
    "+20. build_year - много нулей и пропусков. Нули заполняем (train['build_year'], test['build_year']).median\n",
    "+21. num_room - заполняем наны тройками\n",
    "+22. kitch_sq - заполняем наны 6-й, это медиана (train['build_year'], test['build_year']).median\n",
    "+23. kitch_percentage =  kitch_sq / full_sq, еще вариат - kitch_percentage = kitch_sq / (full_sq - life_sq)\n",
    "+24. state - заполняем наны медианой 2 (train['state'], test['state']).median\n",
    "+25. count_state\n",
    "+26. count_num_room\n",
    "+27. weekday, year, month, weekofyear + фичи индуса SRK\n",
    "+28. train['object_age'] = train['year'] - train['build_year']\n",
    "+29. train['area_m / popul'] = train['area_m'] / train['raion_popul'] - неизвестно, что такое area_m\n",
    "+30. preschool_quota - наны заполняем медианными\n",
    "+31. train['green > ind'] = (train['green_zone_part'] > train['indust_part']).apply(lambda x: int(x))\n",
    "+32. train['preschool_quota / popul'] = train['preschool_quota'] / train['raion_popul']\n",
    "+33. train['children_preschool / popul'] = train['children_preschool'] / train['raion_popul']\n",
    "+34. train['children_preschool / edu_centers'] = train['children_preschool'] / train['preschool_education_centers_raion']\n",
    "+35. train['floor_diff'] = train['max_floor'] - train['floor']\n",
    "+36. school_quota - наны заполняем медианой\n",
    "+37. hospital_beds_raion - наны заполняем медианой\n",
    "38. oil_urals | macro\n",
    "39. gdp_quart, gdp_quart_growth - мало нанов, надо их заполнить соседями\n",
    "40. cpi, ppi - см. 39\n",
    "41. gdp_deflator - уже больше нанов!\n",
    "42. balance_trade, balance_trade_growth - см. 39\n",
    "43. nan_count - количество нанов в строке\n",
    "\n",
    "-------------------------------------------------\n",
    "Идеи:\n",
    "+а) Надо кластеризовать объекты, как говорил Носков\n",
    "б) Добавить площадь sub_area, прирост населения в 2016 году (относительно 2015 года), геокординаты\n",
    "+в) Написать кастомную функцию для xgb (https://www.kaggle.com/anokas/sberbank-russian-housing-market/simple-xgboost-btb-0-32)\n",
    "г) Постпроцессинг от Носкова\n",
    "д) Подумать над валидацией\n",
    "ж) Попробовать медианную регрессию\n",
    "+е) Фича: количество миссингов в строке\n",
    "з) Использовать информацию о соседних районах\n",
    "у) Поработать с датами: найти праздники и выходные по производственному календарю, дачные сезоны и т.д.\n",
    "и) Сделать алгоритм обнаружения выбросов (через хгб).\n",
    "к) Несколько таргетов: цена за м2, цена за ливинг м2, цена за китчен м2.\n",
    "с) Максимальный этаж - какие они бывают в Москве?\n",
    "э) Попробовать убрать объекты с расхождением площадей\n",
    "ю) В трейне по общей площади нет дробных чисел, а в тесте - есть.\n",
    "х) Раскидать sub_area по московским АО\n",
    "т) Найти на NBER информацию о рынке недвижимости!Как макроэкономические показатели влияют на цены недвижимости в стране/столице.\n",
    "й) Найти макро: деловая активность, денежная масса, инфляция, процентная ставка по ипотечным кредитам, количество ипотечных сделок,\n",
    "какие-нибудь инвестиции\n",
    "о) http://www.irn.ru/ - отсюда данные нельзя брать, но можно будет ответ сравнить средний таргет\n",
    "ё) Написать Цыплаковой\n",
    "ш) Просуммировать всякие расстояния\n",
    "л) По каким дням life_sq > full_sq?\n",
    "+н) test[test['full_sq'] < test['life_sq']] - есть интересные строчки с ошибками\n",
    "ц) Закодировать года построения домов по википедии\n",
    "ы) Вставить куда-нибудь коэффициенты корреляции и автокорреляции\n",
    "о) Попробовать категориальные переменные в ЛайтГБМ ( gbm.fit(X, Y, categorical_feature = ['job_position', 'tariff_id']) )\n",
    "ч) Попробовать SVD и PCA на линейные модели\n",
    "a) Использовать xgbfi\n",
    "b) Разобратся с паттернами НАН\n",
    "c) Нейронная сеть - EMA (https://gist.github.com/alno/e9d3baf6cb8d028795fbd861511fd61d)\n",
    "d) Укрупнить саб ареа\n",
    "e) Надо разбиратся! Попробовать Keras Embedding layer (https://keras.io/layers/embeddings/   http://stackoverflow.com/questions/38189713/what-is-an-embedding-in-keras   https://habrahabr.ru/company/dca/blog/274027/)\n",
    "f) Надо разбиратся! Попробовать categorical embedding XGB (https://www.kaggle.com/mmueller/allstate-claims-severity/categorical-embedding-with-xgb )\n",
    "+g) Сделать флажок full_sq < life_sq\n",
    "h) Фича: сумма площадей\n",
    "j) Надо подумать, как по-лучше восстановить max_floor и build_year, и num_room\n",
    "k) Сделать шифты и группировки по макро\n",
    "l) Проблемы с Инвестмент ( https://www.kaggle.com/aharless/an-interesting-fact-about-investment-properties , https://kaggle2.blob.core.windows.net/forum-message-attachments/181522/6470/Invesrment_vs_Owner.png) \n",
    "z) Сделать группировки по ценам из кернела Энди пункта l\n",
    "x) Что-то с пятиэтажками\n",
    "y) https://www.kaggle.com/alexandrudaia/nan-imputation-with-kinetic-energy/ - обратить внимание\n",
    "m) Попробовать LSTM сетку для прогнозирования временных рядов (например, среднюю цену на месяц), используя макроданные: http://machinelearningmastery.com/time-series-prediction-lstm-recurrent-neural-networks-python-keras/\n",
    "n) В конце посчитать количество нулей по строке\n",
    "j) pre-investment - когда таймстемп меньше года строительства\n",
    "t) Новый таргет - Y в долларах по курсу, Y / CPI\n",
    "x) Вытащить географические координаты каждого объекта\n",
    "w) Посмотреть через xgbfi, насколько сильно влиять будут макроданные\n",
    "u) Нужно сделать много трансформаций Y, чтобы избавится от завышения предсказаний\n",
    "z) Попробовать IsolationForest"
   ]
  },
  {
   "cell_type": "code",
   "execution_count": 2,
   "metadata": {
    "collapsed": true
   },
   "outputs": [],
   "source": [
    "from pylab import rcParams\n",
    "#rcParams['figure.figsize'] = 13, 4\n",
    "rcParams['figure.figsize'] = 13, 6"
   ]
  },
  {
   "cell_type": "code",
   "execution_count": 3,
   "metadata": {
    "collapsed": true
   },
   "outputs": [],
   "source": [
    "# The directory path\n",
    "DIR = 'C:/Users/User/Desktop/Kaggle/Data/Sberbank Russian Housing Market/'\n",
    "to_ensemble = 'C:/Users/User/Desktop/Kaggle/Data/Sberbank Russian Housing Market/to_ensemble/'"
   ]
  },
  {
   "cell_type": "code",
   "execution_count": 57,
   "metadata": {
    "collapsed": false
   },
   "outputs": [
    {
     "name": "stdout",
     "output_type": "stream",
     "text": [
      "Train shape = (30471, 292)\n",
      "Test shape = (7662, 291)\n",
      "Macro shape = (2484, 100)\n"
     ]
    }
   ],
   "source": [
    "train = pd.read_csv(DIR + 'train.csv')\n",
    "test = pd.read_csv(DIR + 'test.csv')\n",
    "macro = pd.read_csv(DIR + 'macro.csv')\n",
    "\n",
    "print('Train shape = ' + str(train.shape))\n",
    "print('Test shape = ' + str(test.shape))\n",
    "print('Macro shape = ' + str(macro.shape))"
   ]
  },
  {
   "cell_type": "code",
   "execution_count": 58,
   "metadata": {
    "collapsed": true
   },
   "outputs": [],
   "source": [
    "def count_encoder(x):\n",
    "    t = pd.concat([train[x], test[x]], axis = 0)\n",
    "    tmp = t.value_counts()\n",
    "    return train[x].apply(lambda x: tmp[x]), test[x].apply(lambda x: tmp[x])\n",
    "def label_encoder(x):\n",
    "    t = pd.concat([train[x], test[x]], axis = 0)\n",
    "    le = LabelEncoder()\n",
    "    le.fit(t)\n",
    "    return le.transform(train[x]), le.transform(test[x])\n",
    "def fill_median(x):\n",
    "    t = pd.concat([train[x], test[x]], axis = 0)\n",
    "    t = t.median()\n",
    "    return train[x].fillna(t), test[x].fillna(t)\n",
    "def fill_frequent(x):\n",
    "    t = pd.concat([train[x], test[x]], axis = 0)\n",
    "    t = t.value_counts().index[0]\n",
    "    return train[x].fillna(t), test[x].fillna(t)\n",
    "def get_dummies(train, test):\n",
    "    comb = pd.get_dummies(pd.concat([train, test], axis = 0))\n",
    "    train_rows = train.shape[0]\n",
    "    train = comb.iloc[:train_rows, :]\n",
    "    test = comb.iloc[train_rows:, :] \n",
    "    return train, test"
   ]
  },
  {
   "cell_type": "code",
   "execution_count": 59,
   "metadata": {
    "collapsed": false
   },
   "outputs": [],
   "source": [
    "#Для деревьев считаем количество нанов в строке\n",
    "train['nan_count'] = train.isnull().sum(axis = 1)\n",
    "test['nan_count'] = test.isnull().sum(axis = 1)\n",
    "\n",
    "#Для деревьев\n",
    "train['full < life'] = (train['full_sq'] < train['life_sq']).apply(lambda x: float(x))\n",
    "test['full < life'] = (test['full_sq'] < test['life_sq']).apply(lambda x: float(x))\n",
    "\n",
    "#Нули в строке\n",
    "train['zeroes_in_row_I'] = (train == 0).astype(int).sum(axis = 1)\n",
    "test['zeroes_in_row_I'] = (test == 0).astype(int).sum(axis = 1)"
   ]
  },
  {
   "cell_type": "code",
   "execution_count": 60,
   "metadata": {
    "collapsed": false
   },
   "outputs": [
    {
     "data": {
      "image/png": "[encoded data removed]",
      "text/plain": [
       "<matplotlib.figure.Figure at 0xc2026d8>"
      ]
     },
     "metadata": {},
     "output_type": "display_data"
    },
    {
     "name": "stdout",
     "output_type": "stream",
     "text": [
      "Распределения отличаются\n"
     ]
    },
    {
     "data": {
      "image/png": "[encoded data removed]",
      "text/plain": [
       "<matplotlib.figure.Figure at 0xc256320>"
      ]
     },
     "metadata": {},
     "output_type": "display_data"
    }
   ],
   "source": [
    "train['nan_count'].hist(bins = [10 * c for c in range(10)], facecolor = '#80daeb')\n",
    "plt.show()\n",
    "test['nan_count'].hist(bins = [10 * c for c in range(10)], facecolor = '#80daeb')\n",
    "print('Распределения отличаются')"
   ]
  },
  {
   "cell_type": "code",
   "execution_count": 61,
   "metadata": {
    "collapsed": false
   },
   "outputs": [
    {
     "data": {
      "image/png": "[encoded data removed]",
      "text/plain": [
       "<matplotlib.figure.Figure at 0xb4e5160>"
      ]
     },
     "metadata": {},
     "output_type": "display_data"
    },
    {
     "name": "stdout",
     "output_type": "stream",
     "text": [
      "Распределение одинаковое\n"
     ]
    },
    {
     "data": {
      "image/png": "[encoded data removed]",
      "text/plain": [
       "<matplotlib.figure.Figure at 0xc561668>"
      ]
     },
     "metadata": {},
     "output_type": "display_data"
    }
   ],
   "source": [
    "train['full_sq'].hist(bins = [10 * c for c in range(60)], facecolor = '#80daeb')\n",
    "plt.show()\n",
    "test['full_sq'].hist(bins = [10 * c for c in range(60)], facecolor = '#80daeb')\n",
    "print('Распределение одинаковое')"
   ]
  },
  {
   "cell_type": "code",
   "execution_count": 62,
   "metadata": {
    "collapsed": false
   },
   "outputs": [
    {
     "data": {
      "image/png": "[encoded data removed]",
      "text/plain": [
       "<matplotlib.figure.Figure at 0xca22b70>"
      ]
     },
     "metadata": {},
     "output_type": "display_data"
    },
    {
     "name": "stdout",
     "output_type": "stream",
     "text": [
      "Распределение одинаковое\n"
     ]
    },
    {
     "data": {
      "image/png": "[encoded data removed]",
      "text/plain": [
       "<matplotlib.figure.Figure at 0xb37ba90>"
      ]
     },
     "metadata": {},
     "output_type": "display_data"
    }
   ],
   "source": [
    "train['life_sq'].hist(bins = [10 * c for c in range(60)], facecolor = '#80daeb')\n",
    "plt.show()\n",
    "test['life_sq'].hist(bins = [10 * c for c in range(60)], facecolor = '#80daeb')\n",
    "print('Распределение одинаковое')"
   ]
  },
  {
   "cell_type": "code",
   "execution_count": 63,
   "metadata": {
    "collapsed": false
   },
   "outputs": [
    {
     "data": {
      "image/png": "[encoded data removed]",
      "text/plain": [
       "<matplotlib.figure.Figure at 0xb9a2f98>"
      ]
     },
     "metadata": {},
     "output_type": "display_data"
    },
    {
     "name": "stdout",
     "output_type": "stream",
     "text": [
      "Распределения одинаковые\n"
     ]
    },
    {
     "data": {
      "image/png": "[encoded data removed]",
      "text/plain": [
       "<matplotlib.figure.Figure at 0xc1b6470>"
      ]
     },
     "metadata": {},
     "output_type": "display_data"
    }
   ],
   "source": [
    "train['zeroes_in_row_I'].hist(bins = [10 * c for c in range(10)], facecolor = '#80daeb')\n",
    "plt.show()\n",
    "test['zeroes_in_row_I'].hist(bins = [10 * c for c in range(10)], facecolor = '#80daeb')\n",
    "print('Распределения одинаковые')"
   ]
  },
  {
   "cell_type": "code",
   "execution_count": 64,
   "metadata": {
    "collapsed": false
   },
   "outputs": [
    {
     "name": "stdout",
     "output_type": "stream",
     "text": [
      "skew(Y) = 4.474524591691862\n"
     ]
    },
    {
     "data": {
      "image/png": "[encoded data removed]",
      "text/plain": [
       "<matplotlib.figure.Figure at 0xcc1f278>"
      ]
     },
     "metadata": {},
     "output_type": "display_data"
    },
    {
     "name": "stdout",
     "output_type": "stream",
     "text": [
      "skew(log(1 + Y)) = -0.6866809492861209\n"
     ]
    },
    {
     "data": {
      "image/png": "[encoded data removed]",
      "text/plain": [
       "<matplotlib.figure.Figure at 0xc5bdc88>"
      ]
     },
     "metadata": {},
     "output_type": "display_data"
    },
    {
     "name": "stdout",
     "output_type": "stream",
     "text": [
      "skew(Y ** 0.25) = 0.20230120569472365\n"
     ]
    },
    {
     "data": {
      "image/png": "[encoded data removed]",
      "text/plain": [
       "<matplotlib.figure.Figure at 0xbeeb1d0>"
      ]
     },
     "metadata": {},
     "output_type": "display_data"
    }
   ],
   "source": [
    "#Lets look on the target\n",
    "Y = train['price_doc']\n",
    "#del train['price_doc']\n",
    "\n",
    "Y.hist(facecolor = '#5fe620', bins = 50)\n",
    "print('skew(Y) = ' + str(skew(Y)))\n",
    "plt.show()\n",
    "\n",
    "np.log(1 + Y).hist(facecolor = '#32cd32', bins = 50)\n",
    "print('skew(log(1 + Y)) = ' + str(skew(np.log(1 + Y))))\n",
    "plt.show()\n",
    "\n",
    "(Y ** 0.25).hist(facecolor = '#0bda51', bins = 50)\n",
    "print('skew(Y ** 0.25) = ' + str(skew(Y ** 0.25)))\n",
    "plt.show()"
   ]
  },
  {
   "cell_type": "code",
   "execution_count": 65,
   "metadata": {
    "collapsed": true
   },
   "outputs": [],
   "source": [
    "#Меняем местами full_sq и life_sq, где фулл < 20 и где они стоят неправильно\n",
    "#ЧЯистим экстримальные значения площадей (больше 500). Наны заливаем в ноль.\n",
    "\n",
    "train.ix[1188 : 1188, 'full_sq' : 'full_sq'] = 44\n",
    "train.ix[1188 : 1188, 'life_sq' : 'life_sq'] = 9\n",
    "#\n",
    "train.ix[1822 : 1822, 'full_sq' : 'full_sq'] = 38\n",
    "train.ix[1822 : 1822, 'life_sq' : 'life_sq'] = 18\n",
    "#\n",
    "train.ix[2009 : 2009, 'full_sq' : 'full_sq'] = 40\n",
    "train.ix[2009 : 2009, 'life_sq' : 'life_sq'] = 5\n",
    "#\n",
    "train.ix[11332 : 11332, 'full_sq' : 'full_sq'] = 40\n",
    "train.ix[11332 : 11332, 'life_sq' : 'life_sq'] = 1\n",
    "#\n",
    "train.ix[22412 : 22412, 'full_sq' : 'full_sq'] = 47\n",
    "train.ix[22412 : 22412, 'life_sq' : 'life_sq'] = 1\n",
    "#\n",
    "train.ix[24296 : 24296, 'full_sq' : 'full_sq'] = 77\n",
    "train.ix[24296 : 24296, 'life_sq' : 'life_sq'] = 0\n",
    "#\n",
    "train.ix[26264 : 26264, 'full_sq' : 'full_sq'] = 60\n",
    "train.ix[26264 : 26264, 'life_sq' : 'life_sq'] = 1\n",
    "#\n",
    "train.ix[26363 : 26363, 'full_sq' : 'full_sq'] = 64\n",
    "train.ix[26363 : 26363, 'life_sq' : 'life_sq'] = 1\n",
    "#\n",
    "train.ix[3527 : 3527, 'full_sq' : 'full_sq'] = 53.26\n",
    "#\n",
    "train.ix[23715 : 23715, 'life_sq' : 'life_sq'] = 0\n",
    "#\n",
    "train.ix[1610 : 1610, 'full_sq' : 'full_sq'] = 39.4\n",
    "#\n",
    "train.ix[3596 : 3596, 'life_sq' : 'life_sq'] = 0\n",
    "#\n",
    "train.ix[16743 : 16743, 'life_sq' : 'life_sq'] = 0"
   ]
  },
  {
   "cell_type": "code",
   "execution_count": 66,
   "metadata": {
    "collapsed": true
   },
   "outputs": [],
   "source": [
    "test.ix[464 : 464, 'full_sq' : 'full_sq'] = 37.8\n",
    "test.ix[464 : 464, 'life_sq' : 'life_sq'] = 0\n",
    "#\n",
    "test.ix[2804 : 2804, 'full_sq' : 'full_sq'] = 33.8\n",
    "test.ix[2804 : 2804, 'life_sq' : 'life_sq'] = 14.8\n",
    "#\n",
    "test.ix[5383 : 5383, 'full_sq' : 'full_sq'] = 42.07\n",
    "test.ix[5383 : 5383, 'life_sq' : 'life_sq'] = 1"
   ]
  },
  {
   "cell_type": "code",
   "execution_count": 67,
   "metadata": {
    "collapsed": true
   },
   "outputs": [],
   "source": [
    "# Исправляем несколько ошибок\n",
    "# Есть объекты, где жилая площадь и площадь кухни больше, чем общая площадь, возможно, их стоит удалить\n",
    "train = train[train['full_sq'] > 10]\n",
    "train.ix[10368 : 10368, 'kitch_sq' : 'kitch_sq'] = 0\n",
    "train.ix[13117 : 13117, 'build_year' : 'build_year'] = 1970\n",
    "train.ix[13117 : 13117, 'kitch_sq' : 'kitch_sq'] = 0\n",
    "#Удалили явные ошибки"
   ]
  },
  {
   "cell_type": "code",
   "execution_count": 68,
   "metadata": {
    "collapsed": true
   },
   "outputs": [],
   "source": [
    "#Исправляем точки, где full_sq < life_sq\n",
    "train.ix[1084 : 1084, 'life_sq' : 'life_sq'] = 28.1\n",
    "\n",
    "train.ix[1863 : 1863, 'life_sq' : 'life_sq'] = 17.8\n",
    "train.ix[4385 : 4385, 'life_sq' : 'life_sq'] = 42.6\n",
    "\n",
    "train.ix[6336 : 6336, 'life_sq' : 'life_sq'] = 19.1\n",
    "\n",
    "train.ix[6531 : 6531, 'full_sq' : 'full_sq'] = 88\n",
    "train.ix[6531 : 6531, 'life_sq' : 'life_sq'] = 80\n",
    "\n",
    "train.ix[6993 : 6993, 'full_sq' : 'full_sq'] = 77\n",
    "train.ix[6993 : 6993, 'life_sq' : 'life_sq'] = 73\n",
    "\n",
    "train.ix[7208 : 7208, 'life_sq' : 'life_sq'] = 19.5\n",
    "\n",
    "train.ix[8101 : 8101, 'full_sq' : 'full_sq'] = 38\n",
    "train.ix[8101 : 8101, 'life_sq' : 'life_sq'] = 37\n",
    "\n",
    "train.ix[9237 : 9237, 'life_sq' : 'life_sq'] = 30.1\n",
    "\n",
    "train.ix[9256 : 9256, 'life_sq' : 'life_sq'] = 45.8\n",
    "\n",
    "train.ix[9482 : 9482, 'full_sq' : 'full_sq'] = 53\n",
    "train.ix[9482 : 9482, 'life_sq' : 'life_sq'] = 52\n",
    "\n",
    "train.ix[9646 : 9646, 'life_sq' : 'life_sq'] = 80.2\n",
    "\n",
    "train.ix[11711 : 11711, 'full_sq' : 'full_sq'] = 58\n",
    "train.ix[11711 : 11711, 'life_sq' : 'life_sq'] = 56\n",
    "\n",
    "train.ix[11784 : 11784, 'full_sq' : 'full_sq'] = 59\n",
    "train.ix[11784 : 11784, 'life_sq' : 'life_sq'] = 46\n",
    "\n",
    "train.ix[12569 : 12569, 'full_sq' : 'full_sq'] = 60\n",
    "train.ix[12569 : 12569, 'life_sq' : 'life_sq'] = 56\n",
    "\n",
    "train.ix[13546 : 13546, 'life_sq' : 'life_sq'] = 74.78\n",
    "\n",
    "train.ix[13629 : 13629, 'life_sq' : 'life_sq'] = 25.9\n",
    "\n",
    "train.ix[13797 : 13797, 'life_sq' : 'life_sq'] = 16.3\n",
    "\n",
    "train.ix[14799 : 14799, 'full_sq' : 'full_sq'] = 77\n",
    "train.ix[14799 : 14799, 'life_sq' : 'life_sq'] = 73\n",
    "\n",
    "train.ix[16067 : 16067, 'full_sq' : 'full_sq'] = 52\n",
    "train.ix[16067 : 16067, 'life_sq' : 'life_sq'] = 50\n",
    "\n",
    "train.ix[16116 : 16116, 'full_sq' : 'full_sq'] = 85\n",
    "train.ix[16116 : 16116, 'life_sq' : 'life_sq'] = 84\n",
    "\n",
    "train.ix[16284 : 16284, 'full_sq' : 'full_sq'] = 62\n",
    "train.ix[16284 : 16284, 'life_sq' : 'life_sq'] = 33\n",
    "\n",
    "train.ix[20672 : 20672, 'full_sq' : 'full_sq'] = 45\n",
    "train.ix[20672 : 20672, 'life_sq' : 'life_sq'] = 44\n",
    "\n",
    "train.ix[21080 : 21080, 'full_sq' : 'full_sq'] = 52\n",
    "train.ix[21080 : 21080, 'life_sq' : 'life_sq'] = 34.9\n",
    "\n",
    "train.ix[22611 : 22611, 'full_sq' : 'full_sq'] = 38\n",
    "train.ix[22611 : 22611, 'life_sq' : 'life_sq'] = 37\n",
    "\n",
    "train.ix[22804 : 22804, 'full_sq' : 'full_sq'] = 55\n",
    "train.ix[22804 : 22804, 'life_sq' : 'life_sq'] = 54\n",
    "\n",
    "train.ix[24428 : 24428, 'full_sq' : 'full_sq'] = 55\n",
    "train.ix[24428 : 24428, 'life_sq' : 'life_sq'] = 54\n",
    "\n",
    "train.ix[26342 : 26342, 'life_sq' : 'life_sq'] = 43.5\n",
    "\n",
    "train.ix[29302 : 29302, 'full_sq' : 'full_sq'] = 57\n",
    "train.ix[29302 : 29302, 'life_sq' : 'life_sq'] = 56"
   ]
  },
  {
   "cell_type": "code",
   "execution_count": 69,
   "metadata": {
    "collapsed": true
   },
   "outputs": [],
   "source": [
    "test.ix[64 : 64, 'full_sq' : 'full_sq'] = 30.6\n",
    "test.ix[64 : 64, 'life_sq' : 'life_sq'] = 29.8\n",
    "\n",
    "test.ix[119 : 119, 'full_sq' : 'full_sq'] = 104.28\n",
    "test.ix[119 : 119, 'life_sq' : 'life_sq'] = 100.04\n",
    "\n",
    "test.ix[171: 171, 'full_sq' : 'full_sq'] = 60\n",
    "test.ix[171 : 171, 'life_sq' : 'life_sq'] = 57.8\n",
    "\n",
    "test.ix[601 : 601, 'life_sq' : 'life_sq'] = 74.2\n",
    "\n",
    "test.ix[1896 : 1896, 'life_sq' : 'life_sq'] = 36.1\n",
    "\n",
    "test.ix[2027 : 2027, 'full_sq' : 'full_sq'] = 93.2\n",
    "test.ix[2027 : 2027, 'life_sq' : 'life_sq'] = 51.9\n",
    "\n",
    "test.ix[2031 : 2031, 'full_sq' : 'full_sq'] = 40.2\n",
    "test.ix[2031 : 2031, 'life_sq' : 'life_sq'] = 23.7\n",
    "\n",
    "test.ix[2791 : 2791, 'life_sq' : 'life_sq'] = 86.9\n",
    "\n",
    "test.ix[5187 : 5187, 'full_sq' : 'full_sq'] = 56.3\n",
    "test.ix[5187 : 5187, 'life_sq' : 'life_sq'] = 28.3"
   ]
  },
  {
   "cell_type": "code",
   "execution_count": 70,
   "metadata": {
    "collapsed": false
   },
   "outputs": [
    {
     "name": "stdout",
     "output_type": "stream",
     "text": [
      "skew(full_sq) = 5.063661846478695\n"
     ]
    },
    {
     "data": {
      "image/png": "[encoded data removed]",
      "text/plain": [
       "<matplotlib.figure.Figure at 0xbf20400>"
      ]
     },
     "metadata": {},
     "output_type": "display_data"
    },
    {
     "name": "stdout",
     "output_type": "stream",
     "text": [
      "skew(log(1 + full_sq)) = 0.5587243770762964\n"
     ]
    },
    {
     "data": {
      "image/png": "[encoded data removed]",
      "text/plain": [
       "<matplotlib.figure.Figure at 0xb471668>"
      ]
     },
     "metadata": {},
     "output_type": "display_data"
    }
   ],
   "source": [
    "#Full_sq\n",
    "train['full_sq'].hist(bins = 50, facecolor = '#5fe620')\n",
    "print('skew(full_sq) = ' + str(skew(train['full_sq'])))\n",
    "plt.show()\n",
    "\n",
    "np.log(1 + train['full_sq']).hist(bins = 50, facecolor = '#32cd32')\n",
    "print('skew(log(1 + full_sq)) = ' + str(skew(np.log(1 + train['full_sq']))))"
   ]
  },
  {
   "cell_type": "code",
   "execution_count": 71,
   "metadata": {
    "collapsed": false
   },
   "outputs": [
    {
     "name": "stdout",
     "output_type": "stream",
     "text": [
      "skew(full_sq) = 2.8572076331560305\n"
     ]
    },
    {
     "data": {
      "image/png": "[encoded data removed]",
      "text/plain": [
       "<matplotlib.figure.Figure at 0xc5223c8>"
      ]
     },
     "metadata": {},
     "output_type": "display_data"
    },
    {
     "name": "stdout",
     "output_type": "stream",
     "text": [
      "skew(log(1 + full_sq)) = 0.4162959636773064\n"
     ]
    },
    {
     "data": {
      "image/png": "[encoded data removed]",
      "text/plain": [
       "<matplotlib.figure.Figure at 0xc522160>"
      ]
     },
     "metadata": {},
     "output_type": "display_data"
    }
   ],
   "source": [
    "#Full_sq\n",
    "test['full_sq'].hist(bins = 50, facecolor = '#cc0605')\n",
    "print('skew(full_sq) = ' + str(skew(test['full_sq'])))\n",
    "plt.show()\n",
    "\n",
    "np.log(1 + test['full_sq']).hist(bins = 50, facecolor = '#b00000')\n",
    "print('skew(log(1 + full_sq)) = ' + str(skew(np.log(1 + test['full_sq']))))"
   ]
  },
  {
   "cell_type": "code",
   "execution_count": 72,
   "metadata": {
    "collapsed": false
   },
   "outputs": [
    {
     "data": {
      "text/plain": [
       "(6379, 1176)"
      ]
     },
     "execution_count": 72,
     "metadata": {},
     "output_type": "execute_result"
    }
   ],
   "source": [
    "train['life_sq'].isnull().sum(), test['life_sq'].isnull().sum()\n",
    "#Есть наны"
   ]
  },
  {
   "cell_type": "code",
   "execution_count": 73,
   "metadata": {
    "collapsed": true
   },
   "outputs": [],
   "source": [
    "#Заполняем нулями или половинками\n",
    "train['life_sq'] = train['life_sq'].fillna(0)\n",
    "test['life_sq'] = test['life_sq'].fillna(0)"
   ]
  },
  {
   "cell_type": "code",
   "execution_count": 74,
   "metadata": {
    "collapsed": false
   },
   "outputs": [
    {
     "data": {
      "text/plain": [
       "(30448, 295)"
      ]
     },
     "execution_count": 74,
     "metadata": {},
     "output_type": "execute_result"
    }
   ],
   "source": [
    "train.shape"
   ]
  },
  {
   "cell_type": "code",
   "execution_count": 75,
   "metadata": {
    "collapsed": false
   },
   "outputs": [
    {
     "data": {
      "text/html": [
       "<div>\n",
       "<table border=\"1\" class=\"dataframe\">\n",
       "  <thead>\n",
       "    <tr style=\"text-align: right;\">\n",
       "      <th></th>\n",
       "      <th>id</th>\n",
       "      <th>timestamp</th>\n",
       "      <th>full_sq</th>\n",
       "      <th>life_sq</th>\n",
       "      <th>floor</th>\n",
       "      <th>max_floor</th>\n",
       "      <th>material</th>\n",
       "      <th>build_year</th>\n",
       "      <th>num_room</th>\n",
       "      <th>kitch_sq</th>\n",
       "      <th>...</th>\n",
       "      <th>big_church_count_5000</th>\n",
       "      <th>church_count_5000</th>\n",
       "      <th>mosque_count_5000</th>\n",
       "      <th>leisure_count_5000</th>\n",
       "      <th>sport_count_5000</th>\n",
       "      <th>market_count_5000</th>\n",
       "      <th>price_doc</th>\n",
       "      <th>nan_count</th>\n",
       "      <th>full &lt; life</th>\n",
       "      <th>zeroes_in_row_I</th>\n",
       "    </tr>\n",
       "  </thead>\n",
       "  <tbody>\n",
       "    <tr>\n",
       "      <th>8056</th>\n",
       "      <td>8059</td>\n",
       "      <td>2013-05-21</td>\n",
       "      <td>11.0</td>\n",
       "      <td>11.0</td>\n",
       "      <td>2.0</td>\n",
       "      <td>5.0</td>\n",
       "      <td>2.0</td>\n",
       "      <td>1907.0</td>\n",
       "      <td>1.0</td>\n",
       "      <td>12.0</td>\n",
       "      <td>...</td>\n",
       "      <td>133</td>\n",
       "      <td>207</td>\n",
       "      <td>1</td>\n",
       "      <td>89</td>\n",
       "      <td>161</td>\n",
       "      <td>10</td>\n",
       "      <td>2750000</td>\n",
       "      <td>0</td>\n",
       "      <td>0.0</td>\n",
       "      <td>19</td>\n",
       "    </tr>\n",
       "    <tr>\n",
       "      <th>9172</th>\n",
       "      <td>9175</td>\n",
       "      <td>2013-07-12</td>\n",
       "      <td>37.0</td>\n",
       "      <td>19.0</td>\n",
       "      <td>9.0</td>\n",
       "      <td>10.0</td>\n",
       "      <td>1.0</td>\n",
       "      <td>2006.0</td>\n",
       "      <td>1.0</td>\n",
       "      <td>73.0</td>\n",
       "      <td>...</td>\n",
       "      <td>5</td>\n",
       "      <td>9</td>\n",
       "      <td>0</td>\n",
       "      <td>2</td>\n",
       "      <td>17</td>\n",
       "      <td>6</td>\n",
       "      <td>5600000</td>\n",
       "      <td>1</td>\n",
       "      <td>0.0</td>\n",
       "      <td>73</td>\n",
       "    </tr>\n",
       "    <tr>\n",
       "      <th>11520</th>\n",
       "      <td>11523</td>\n",
       "      <td>2013-10-24</td>\n",
       "      <td>38.0</td>\n",
       "      <td>23.0</td>\n",
       "      <td>11.0</td>\n",
       "      <td>14.0</td>\n",
       "      <td>5.0</td>\n",
       "      <td>1971.0</td>\n",
       "      <td>2.0</td>\n",
       "      <td>620.0</td>\n",
       "      <td>...</td>\n",
       "      <td>7</td>\n",
       "      <td>16</td>\n",
       "      <td>0</td>\n",
       "      <td>9</td>\n",
       "      <td>49</td>\n",
       "      <td>11</td>\n",
       "      <td>6300000</td>\n",
       "      <td>3</td>\n",
       "      <td>0.0</td>\n",
       "      <td>55</td>\n",
       "    </tr>\n",
       "    <tr>\n",
       "      <th>12245</th>\n",
       "      <td>12248</td>\n",
       "      <td>2013-11-18</td>\n",
       "      <td>22.0</td>\n",
       "      <td>14.0</td>\n",
       "      <td>3.0</td>\n",
       "      <td>5.0</td>\n",
       "      <td>2.0</td>\n",
       "      <td>1970.0</td>\n",
       "      <td>1.0</td>\n",
       "      <td>33.0</td>\n",
       "      <td>...</td>\n",
       "      <td>17</td>\n",
       "      <td>30</td>\n",
       "      <td>0</td>\n",
       "      <td>7</td>\n",
       "      <td>93</td>\n",
       "      <td>3</td>\n",
       "      <td>3600000</td>\n",
       "      <td>4</td>\n",
       "      <td>0.0</td>\n",
       "      <td>56</td>\n",
       "    </tr>\n",
       "    <tr>\n",
       "      <th>21415</th>\n",
       "      <td>21418</td>\n",
       "      <td>2014-08-11</td>\n",
       "      <td>43.0</td>\n",
       "      <td>43.0</td>\n",
       "      <td>3.0</td>\n",
       "      <td>1.0</td>\n",
       "      <td>1.0</td>\n",
       "      <td>2014.0</td>\n",
       "      <td>1.0</td>\n",
       "      <td>2014.0</td>\n",
       "      <td>...</td>\n",
       "      <td>0</td>\n",
       "      <td>12</td>\n",
       "      <td>1</td>\n",
       "      <td>0</td>\n",
       "      <td>6</td>\n",
       "      <td>1</td>\n",
       "      <td>3801200</td>\n",
       "      <td>22</td>\n",
       "      <td>0.0</td>\n",
       "      <td>83</td>\n",
       "    </tr>\n",
       "    <tr>\n",
       "      <th>23216</th>\n",
       "      <td>23219</td>\n",
       "      <td>2014-10-02</td>\n",
       "      <td>43.0</td>\n",
       "      <td>29.0</td>\n",
       "      <td>5.0</td>\n",
       "      <td>5.0</td>\n",
       "      <td>2.0</td>\n",
       "      <td>1962.0</td>\n",
       "      <td>2.0</td>\n",
       "      <td>44.0</td>\n",
       "      <td>...</td>\n",
       "      <td>9</td>\n",
       "      <td>12</td>\n",
       "      <td>0</td>\n",
       "      <td>2</td>\n",
       "      <td>53</td>\n",
       "      <td>5</td>\n",
       "      <td>5900000</td>\n",
       "      <td>6</td>\n",
       "      <td>0.0</td>\n",
       "      <td>65</td>\n",
       "    </tr>\n",
       "    <tr>\n",
       "      <th>26236</th>\n",
       "      <td>26239</td>\n",
       "      <td>2014-12-11</td>\n",
       "      <td>34.0</td>\n",
       "      <td>16.0</td>\n",
       "      <td>2.0</td>\n",
       "      <td>17.0</td>\n",
       "      <td>2.0</td>\n",
       "      <td>2016.0</td>\n",
       "      <td>1.0</td>\n",
       "      <td>84.0</td>\n",
       "      <td>...</td>\n",
       "      <td>0</td>\n",
       "      <td>10</td>\n",
       "      <td>0</td>\n",
       "      <td>0</td>\n",
       "      <td>0</td>\n",
       "      <td>0</td>\n",
       "      <td>3281884</td>\n",
       "      <td>19</td>\n",
       "      <td>0.0</td>\n",
       "      <td>100</td>\n",
       "    </tr>\n",
       "    <tr>\n",
       "      <th>26850</th>\n",
       "      <td>26853</td>\n",
       "      <td>2014-12-19</td>\n",
       "      <td>38.0</td>\n",
       "      <td>20.0</td>\n",
       "      <td>4.0</td>\n",
       "      <td>12.0</td>\n",
       "      <td>1.0</td>\n",
       "      <td>1977.0</td>\n",
       "      <td>1.0</td>\n",
       "      <td>86.0</td>\n",
       "      <td>...</td>\n",
       "      <td>8</td>\n",
       "      <td>12</td>\n",
       "      <td>0</td>\n",
       "      <td>7</td>\n",
       "      <td>45</td>\n",
       "      <td>10</td>\n",
       "      <td>2000000</td>\n",
       "      <td>7</td>\n",
       "      <td>0.0</td>\n",
       "      <td>66</td>\n",
       "    </tr>\n",
       "    <tr>\n",
       "      <th>28734</th>\n",
       "      <td>28737</td>\n",
       "      <td>2015-03-31</td>\n",
       "      <td>31.0</td>\n",
       "      <td>16.0</td>\n",
       "      <td>2.0</td>\n",
       "      <td>12.0</td>\n",
       "      <td>5.0</td>\n",
       "      <td>1972.0</td>\n",
       "      <td>1.0</td>\n",
       "      <td>1974.0</td>\n",
       "      <td>...</td>\n",
       "      <td>1</td>\n",
       "      <td>2</td>\n",
       "      <td>0</td>\n",
       "      <td>2</td>\n",
       "      <td>7</td>\n",
       "      <td>2</td>\n",
       "      <td>1000000</td>\n",
       "      <td>1</td>\n",
       "      <td>0.0</td>\n",
       "      <td>82</td>\n",
       "    </tr>\n",
       "    <tr>\n",
       "      <th>28997</th>\n",
       "      <td>29000</td>\n",
       "      <td>2015-04-09</td>\n",
       "      <td>50.0</td>\n",
       "      <td>30.0</td>\n",
       "      <td>4.0</td>\n",
       "      <td>17.0</td>\n",
       "      <td>1.0</td>\n",
       "      <td>2014.0</td>\n",
       "      <td>2.0</td>\n",
       "      <td>97.0</td>\n",
       "      <td>...</td>\n",
       "      <td>4</td>\n",
       "      <td>6</td>\n",
       "      <td>0</td>\n",
       "      <td>0</td>\n",
       "      <td>8</td>\n",
       "      <td>1</td>\n",
       "      <td>6500000</td>\n",
       "      <td>9</td>\n",
       "      <td>0.0</td>\n",
       "      <td>96</td>\n",
       "    </tr>\n",
       "  </tbody>\n",
       "</table>\n",
       "<p>10 rows × 295 columns</p>\n",
       "</div>"
      ],
      "text/plain": [
       "          id   timestamp  full_sq  life_sq  floor  max_floor  material  \\\n",
       "8056    8059  2013-05-21     11.0     11.0    2.0        5.0       2.0   \n",
       "9172    9175  2013-07-12     37.0     19.0    9.0       10.0       1.0   \n",
       "11520  11523  2013-10-24     38.0     23.0   11.0       14.0       5.0   \n",
       "12245  12248  2013-11-18     22.0     14.0    3.0        5.0       2.0   \n",
       "21415  21418  2014-08-11     43.0     43.0    3.0        1.0       1.0   \n",
       "23216  23219  2014-10-02     43.0     29.0    5.0        5.0       2.0   \n",
       "26236  26239  2014-12-11     34.0     16.0    2.0       17.0       2.0   \n",
       "26850  26853  2014-12-19     38.0     20.0    4.0       12.0       1.0   \n",
       "28734  28737  2015-03-31     31.0     16.0    2.0       12.0       5.0   \n",
       "28997  29000  2015-04-09     50.0     30.0    4.0       17.0       1.0   \n",
       "\n",
       "       build_year  num_room  kitch_sq       ...         big_church_count_5000  \\\n",
       "8056       1907.0       1.0      12.0       ...                           133   \n",
       "9172       2006.0       1.0      73.0       ...                             5   \n",
       "11520      1971.0       2.0     620.0       ...                             7   \n",
       "12245      1970.0       1.0      33.0       ...                            17   \n",
       "21415      2014.0       1.0    2014.0       ...                             0   \n",
       "23216      1962.0       2.0      44.0       ...                             9   \n",
       "26236      2016.0       1.0      84.0       ...                             0   \n",
       "26850      1977.0       1.0      86.0       ...                             8   \n",
       "28734      1972.0       1.0    1974.0       ...                             1   \n",
       "28997      2014.0       2.0      97.0       ...                             4   \n",
       "\n",
       "      church_count_5000 mosque_count_5000  leisure_count_5000  \\\n",
       "8056                207                 1                  89   \n",
       "9172                  9                 0                   2   \n",
       "11520                16                 0                   9   \n",
       "12245                30                 0                   7   \n",
       "21415                12                 1                   0   \n",
       "23216                12                 0                   2   \n",
       "26236                10                 0                   0   \n",
       "26850                12                 0                   7   \n",
       "28734                 2                 0                   2   \n",
       "28997                 6                 0                   0   \n",
       "\n",
       "       sport_count_5000  market_count_5000  price_doc  nan_count  full < life  \\\n",
       "8056                161                 10    2750000          0          0.0   \n",
       "9172                 17                  6    5600000          1          0.0   \n",
       "11520                49                 11    6300000          3          0.0   \n",
       "12245                93                  3    3600000          4          0.0   \n",
       "21415                 6                  1    3801200         22          0.0   \n",
       "23216                53                  5    5900000          6          0.0   \n",
       "26236                 0                  0    3281884         19          0.0   \n",
       "26850                45                 10    2000000          7          0.0   \n",
       "28734                 7                  2    1000000          1          0.0   \n",
       "28997                 8                  1    6500000          9          0.0   \n",
       "\n",
       "       zeroes_in_row_I  \n",
       "8056                19  \n",
       "9172                73  \n",
       "11520               55  \n",
       "12245               56  \n",
       "21415               83  \n",
       "23216               65  \n",
       "26236              100  \n",
       "26850               66  \n",
       "28734               82  \n",
       "28997               96  \n",
       "\n",
       "[10 rows x 295 columns]"
      ]
     },
     "execution_count": 75,
     "metadata": {},
     "output_type": "execute_result"
    }
   ],
   "source": [
    "train[train['kitch_sq'] > train['full_sq']]"
   ]
  },
  {
   "cell_type": "code",
   "execution_count": 76,
   "metadata": {
    "collapsed": false
   },
   "outputs": [
    {
     "data": {
      "text/html": [
       "<div>\n",
       "<table border=\"1\" class=\"dataframe\">\n",
       "  <thead>\n",
       "    <tr style=\"text-align: right;\">\n",
       "      <th></th>\n",
       "      <th>id</th>\n",
       "      <th>timestamp</th>\n",
       "      <th>full_sq</th>\n",
       "      <th>life_sq</th>\n",
       "      <th>floor</th>\n",
       "      <th>max_floor</th>\n",
       "      <th>material</th>\n",
       "      <th>build_year</th>\n",
       "      <th>num_room</th>\n",
       "      <th>kitch_sq</th>\n",
       "      <th>...</th>\n",
       "      <th>cafe_count_5000_price_high</th>\n",
       "      <th>big_church_count_5000</th>\n",
       "      <th>church_count_5000</th>\n",
       "      <th>mosque_count_5000</th>\n",
       "      <th>leisure_count_5000</th>\n",
       "      <th>sport_count_5000</th>\n",
       "      <th>market_count_5000</th>\n",
       "      <th>nan_count</th>\n",
       "      <th>full &lt; life</th>\n",
       "      <th>zeroes_in_row_I</th>\n",
       "    </tr>\n",
       "  </thead>\n",
       "  <tbody>\n",
       "    <tr>\n",
       "      <th>907</th>\n",
       "      <td>31381</td>\n",
       "      <td>2015-09-01</td>\n",
       "      <td>53.9</td>\n",
       "      <td>32.1</td>\n",
       "      <td>3</td>\n",
       "      <td>9</td>\n",
       "      <td>1</td>\n",
       "      <td>1968.0</td>\n",
       "      <td>2</td>\n",
       "      <td>1968.0</td>\n",
       "      <td>...</td>\n",
       "      <td>0</td>\n",
       "      <td>12</td>\n",
       "      <td>13</td>\n",
       "      <td>1</td>\n",
       "      <td>1</td>\n",
       "      <td>59</td>\n",
       "      <td>4</td>\n",
       "      <td>1</td>\n",
       "      <td>0.0</td>\n",
       "      <td>57</td>\n",
       "    </tr>\n",
       "    <tr>\n",
       "      <th>2031</th>\n",
       "      <td>32505</td>\n",
       "      <td>2015-10-30</td>\n",
       "      <td>40.2</td>\n",
       "      <td>23.7</td>\n",
       "      <td>11</td>\n",
       "      <td>11</td>\n",
       "      <td>1</td>\n",
       "      <td>2016.0</td>\n",
       "      <td>2</td>\n",
       "      <td>67.0</td>\n",
       "      <td>...</td>\n",
       "      <td>4</td>\n",
       "      <td>12</td>\n",
       "      <td>26</td>\n",
       "      <td>0</td>\n",
       "      <td>6</td>\n",
       "      <td>106</td>\n",
       "      <td>7</td>\n",
       "      <td>0</td>\n",
       "      <td>1.0</td>\n",
       "      <td>35</td>\n",
       "    </tr>\n",
       "    <tr>\n",
       "      <th>3859</th>\n",
       "      <td>34333</td>\n",
       "      <td>2016-01-15</td>\n",
       "      <td>38.6</td>\n",
       "      <td>19.1</td>\n",
       "      <td>11</td>\n",
       "      <td>17</td>\n",
       "      <td>1</td>\n",
       "      <td>2006.0</td>\n",
       "      <td>1</td>\n",
       "      <td>74.0</td>\n",
       "      <td>...</td>\n",
       "      <td>0</td>\n",
       "      <td>6</td>\n",
       "      <td>9</td>\n",
       "      <td>0</td>\n",
       "      <td>1</td>\n",
       "      <td>12</td>\n",
       "      <td>3</td>\n",
       "      <td>4</td>\n",
       "      <td>0.0</td>\n",
       "      <td>81</td>\n",
       "    </tr>\n",
       "    <tr>\n",
       "      <th>6337</th>\n",
       "      <td>36811</td>\n",
       "      <td>2016-03-19</td>\n",
       "      <td>58.5</td>\n",
       "      <td>58.5</td>\n",
       "      <td>15</td>\n",
       "      <td>17</td>\n",
       "      <td>1</td>\n",
       "      <td>2017.0</td>\n",
       "      <td>2</td>\n",
       "      <td>1000.0</td>\n",
       "      <td>...</td>\n",
       "      <td>0</td>\n",
       "      <td>0</td>\n",
       "      <td>8</td>\n",
       "      <td>0</td>\n",
       "      <td>0</td>\n",
       "      <td>3</td>\n",
       "      <td>2</td>\n",
       "      <td>20</td>\n",
       "      <td>0.0</td>\n",
       "      <td>86</td>\n",
       "    </tr>\n",
       "    <tr>\n",
       "      <th>6496</th>\n",
       "      <td>36970</td>\n",
       "      <td>2016-03-23</td>\n",
       "      <td>44.1</td>\n",
       "      <td>30.0</td>\n",
       "      <td>1</td>\n",
       "      <td>5</td>\n",
       "      <td>5</td>\n",
       "      <td>1961.0</td>\n",
       "      <td>2</td>\n",
       "      <td>53.0</td>\n",
       "      <td>...</td>\n",
       "      <td>9</td>\n",
       "      <td>35</td>\n",
       "      <td>82</td>\n",
       "      <td>1</td>\n",
       "      <td>33</td>\n",
       "      <td>123</td>\n",
       "      <td>11</td>\n",
       "      <td>0</td>\n",
       "      <td>0.0</td>\n",
       "      <td>32</td>\n",
       "    </tr>\n",
       "  </tbody>\n",
       "</table>\n",
       "<p>5 rows × 294 columns</p>\n",
       "</div>"
      ],
      "text/plain": [
       "         id   timestamp  full_sq  life_sq  floor  max_floor  material  \\\n",
       "907   31381  2015-09-01     53.9     32.1      3          9         1   \n",
       "2031  32505  2015-10-30     40.2     23.7     11         11         1   \n",
       "3859  34333  2016-01-15     38.6     19.1     11         17         1   \n",
       "6337  36811  2016-03-19     58.5     58.5     15         17         1   \n",
       "6496  36970  2016-03-23     44.1     30.0      1          5         5   \n",
       "\n",
       "      build_year  num_room  kitch_sq       ...         \\\n",
       "907       1968.0         2    1968.0       ...          \n",
       "2031      2016.0         2      67.0       ...          \n",
       "3859      2006.0         1      74.0       ...          \n",
       "6337      2017.0         2    1000.0       ...          \n",
       "6496      1961.0         2      53.0       ...          \n",
       "\n",
       "      cafe_count_5000_price_high big_church_count_5000 church_count_5000  \\\n",
       "907                            0                    12                13   \n",
       "2031                           4                    12                26   \n",
       "3859                           0                     6                 9   \n",
       "6337                           0                     0                 8   \n",
       "6496                           9                    35                82   \n",
       "\n",
       "      mosque_count_5000  leisure_count_5000  sport_count_5000  \\\n",
       "907                   1                   1                59   \n",
       "2031                  0                   6               106   \n",
       "3859                  0                   1                12   \n",
       "6337                  0                   0                 3   \n",
       "6496                  1                  33               123   \n",
       "\n",
       "      market_count_5000  nan_count  full < life  zeroes_in_row_I  \n",
       "907                   4          1          0.0               57  \n",
       "2031                  7          0          1.0               35  \n",
       "3859                  3          4          0.0               81  \n",
       "6337                  2         20          0.0               86  \n",
       "6496                 11          0          0.0               32  \n",
       "\n",
       "[5 rows x 294 columns]"
      ]
     },
     "execution_count": 76,
     "metadata": {},
     "output_type": "execute_result"
    }
   ],
   "source": [
    "test[test['kitch_sq'] > test['full_sq']]"
   ]
  },
  {
   "cell_type": "code",
   "execution_count": 77,
   "metadata": {
    "collapsed": true
   },
   "outputs": [],
   "source": [
    "#Исправляем строки, где kitch_sq > full_sq, заполянем нулями / делим на 10\n",
    "train.ix[21415 : 21415, 'kitch_sq' : 'kitch_sq'] = 0\n",
    "train.ix[28734 : 28734, 'kitch_sq' : 'kitch_sq'] = 0\n",
    "train.ix[8056 : 8056, 'kitch_sq' : 'kitch_sq'] = 1.2\n",
    "train.ix[9172 : 9172, 'kitch_sq' : 'kitch_sq'] = 7.3\n",
    "train.ix[11520 : 11520, 'kitch_sq' : 'kitch_sq'] = 6.2\n",
    "train.ix[12245 : 12245, 'kitch_sq' : 'kitch_sq'] = 3.3\n",
    "train.ix[23216 : 23216, 'kitch_sq' : 'kitch_sq'] = 4.4\n",
    "train.ix[26236 : 26236, 'kitch_sq' : 'kitch_sq'] = 8.4\n",
    "train.ix[26850 : 26850, 'kitch_sq' : 'kitch_sq'] = 8.6\n",
    "train.ix[28997 : 28997, 'kitch_sq' : 'kitch_sq'] = 9.7\n",
    "\n",
    "\n",
    "test.ix[907 : 907, 'kitch_sq' : 'kitch_sq'] = 0\n",
    "test.ix[28734 : 28734, 'kitch_sq' : 'kitch_sq'] = 0\n",
    "test.ix[2031 : 2031, 'kitch_sq' : 'kitch_sq'] = 6.7\n",
    "test.ix[3859 : 3859, 'kitch_sq' : 'kitch_sq'] = 7.4\n",
    "test.ix[6337 : 6337, 'kitch_sq' : 'kitch_sq'] = 10\n",
    "test.ix[6496 : 6496, 'kitch_sq' : 'kitch_sq'] = 5.3"
   ]
  },
  {
   "cell_type": "code",
   "execution_count": 78,
   "metadata": {
    "collapsed": true
   },
   "outputs": [],
   "source": [
    "#Заполняем нулями\n",
    "train['kitch_sq'] = train['kitch_sq'].fillna(0)\n",
    "test['kitch_sq'] = test['kitch_sq'].fillna(0)"
   ]
  },
  {
   "cell_type": "code",
   "execution_count": 79,
   "metadata": {
    "collapsed": false
   },
   "outputs": [],
   "source": [
    "#Для деревьев\n",
    "train['max_fl < fl'] = (train['floor'] > train['max_floor']).apply(lambda x: float(x))\n",
    "test['max_fl < fl'] = (test['floor'] > test['max_floor']).apply(lambda x: float(x))\n",
    "\n",
    "#Для деревьев\n",
    "train['max_fl = 0'] = (train['max_floor'] == 0).apply(lambda x: float(x))\n",
    "test['max_fl = 0'] = (test['max_floor'] == 0).apply(lambda x: float(x))\n",
    "\n",
    "train['fl = 0'] = (train['floor'] == 0).apply(lambda x: float(x))\n",
    "test['fl = 0'] = (test['floor'] == 0).apply(lambda x: float(x))\n",
    "\n",
    "train['max_fl, fl = 0'] = ((train['max_floor'] + train['floor']) == 0).apply(lambda x: float(x))\n",
    "test['max_fl, fl = 0'] = ((test['max_floor'] + test['floor']) == 0).apply(lambda x: float(x))"
   ]
  },
  {
   "cell_type": "code",
   "execution_count": 80,
   "metadata": {
    "collapsed": false
   },
   "outputs": [
    {
     "name": "stdout",
     "output_type": "stream",
     "text": [
      "skew(life_sq) = 2.131710848981789\n"
     ]
    },
    {
     "data": {
      "image/png": "[encoded data removed]",
      "text/plain": [
       "<matplotlib.figure.Figure at 0xc65ea58>"
      ]
     },
     "metadata": {},
     "output_type": "display_data"
    }
   ],
   "source": [
    "#Life_sq\n",
    "train['life_sq'].hist(bins = 50, facecolor = '#5fe620')\n",
    "print('skew(life_sq) = ' + str(skew(train['life_sq'])))"
   ]
  },
  {
   "cell_type": "code",
   "execution_count": 81,
   "metadata": {
    "collapsed": false
   },
   "outputs": [
    {
     "name": "stdout",
     "output_type": "stream",
     "text": [
      "skew(life_sq) = 1.0154390905366377\n"
     ]
    },
    {
     "data": {
      "image/png": "[encoded data removed]",
      "text/plain": [
       "<matplotlib.figure.Figure at 0xc5d5a58>"
      ]
     },
     "metadata": {},
     "output_type": "display_data"
    }
   ],
   "source": [
    "#Life_sq\n",
    "test['life_sq'].hist(bins = 100, facecolor = '#cc0605')\n",
    "print('skew(life_sq) = ' + str(skew(test['life_sq'])))"
   ]
  },
  {
   "cell_type": "code",
   "execution_count": 82,
   "metadata": {
    "collapsed": false
   },
   "outputs": [
    {
     "data": {
      "text/plain": [
       "41"
      ]
     },
     "execution_count": 82,
     "metadata": {},
     "output_type": "execute_result"
    }
   ],
   "source": [
    "test['floor'].max()"
   ]
  },
  {
   "cell_type": "code",
   "execution_count": 83,
   "metadata": {
    "collapsed": false
   },
   "outputs": [],
   "source": [
    "#Исправляем этаж по максимальному этажу\n",
    "train.ix[23584 : 23584, 'floor':'floor'] = 7\n",
    "#Судя по всему, айди 2499 и 30311 имеют одинаковый дом?\n",
    "#В тесте все ок"
   ]
  },
  {
   "cell_type": "code",
   "execution_count": 84,
   "metadata": {
    "collapsed": false
   },
   "outputs": [],
   "source": [
    "#Заполняем наны в этажах единицами\n",
    "train['floor'] = train['floor'].fillna(1)\n",
    "test['floor'] = test['floor'].fillna(1)"
   ]
  },
  {
   "cell_type": "code",
   "execution_count": 163,
   "metadata": {
    "collapsed": false
   },
   "outputs": [],
   "source": [
    "#Слишком много комнат! Восстанавливаем по медиане из train.groupby('full_sq').median()\n",
    "train.ix[11621 : 11621, 'num_room' : 'num_room'] = 1\n",
    "train.ix[26713 : 26713, 'num_room' : 'num_room'] = 2\n",
    "train.ix[17764 : 17764, 'num_room' : 'num_room'] = 2\n",
    "train.ix[29172 : 29172, 'num_room' : 'num_room'] = 2\n",
    "train.ix[19390 : 19390, 'num_room' : 'num_room'] = 2\n",
    "train.ix[17428 : 17428, 'num_room' : 'num_room'] = 1\n",
    "train.ix[25999 : 25999, 'num_room' : 'num_room'] = 1\n",
    "\n",
    "#Исправляем нулевые комнаты по медиане из train.groupby('full_sq').median()\n",
    "train.ix[18669 : 18669, 'num_room' : 'num_room'] = 5\n",
    "train.ix[27454 : 27454, 'num_room' : 'num_room'] = 3\n",
    "train.ix[25372 : 25372, 'num_room' : 'num_room'] = 1\n",
    "train.ix[24880 : 24880, 'num_room' : 'num_room'] = 1\n",
    "train.ix[24043 : 24043, 'num_room' : 'num_room'] = 4\n",
    "train.ix[23191 : 23191, 'num_room' : 'num_room'] = 3\n",
    "train.ix[21439 : 21439, 'num_room' : 'num_room'] = 3\n",
    "train.ix[20670 : 20670, 'num_room' : 'num_room'] = 3\n",
    "train.ix[18123 : 18123, 'num_room' : 'num_room'] = 3\n",
    "train.ix[10452 : 10452, 'num_room' : 'num_room'] = 2\n",
    "train.ix[11183 : 11183, 'num_room' : 'num_room'] = 1\n",
    "train.ix[11791 : 11791, 'num_room' : 'num_room'] = 2\n",
    "train.ix[15992 : 15992, 'num_room' : 'num_room'] = 2\n",
    "\n",
    "#Одна строчка для теста\n",
    "test.ix[3174 : 3174, 'num_room' : 'num_room'] = 1"
   ]
  },
  {
   "cell_type": "code",
   "execution_count": null,
   "metadata": {
    "collapsed": true
   },
   "outputs": [],
   "source": []
  },
  {
   "cell_type": "code",
   "execution_count": 168,
   "metadata": {
    "collapsed": false
   },
   "outputs": [
    {
     "name": "stdout",
     "output_type": "stream",
     "text": [
      "skew(kitch_sq) = 4.135241682629942\n"
     ]
    },
    {
     "data": {
      "image/png": "[encoded data removed]",
      "text/plain": [
       "<matplotlib.figure.Figure at 0xc63e4e0>"
      ]
     },
     "metadata": {},
     "output_type": "display_data"
    }
   ],
   "source": [
    "#Life_sq\n",
    "train['kitch_sq'].hist(bins = 100, facecolor = '#5fe620')\n",
    "print('skew(kitch_sq) = ' + str(skew(train['kitch_sq'])))"
   ]
  },
  {
   "cell_type": "code",
   "execution_count": 169,
   "metadata": {
    "collapsed": false
   },
   "outputs": [
    {
     "name": "stdout",
     "output_type": "stream",
     "text": [
      "skew(kitch_sq) = 3.3646997820432336\n"
     ]
    },
    {
     "data": {
      "image/png": "[encoded data removed]",
      "text/plain": [
       "<matplotlib.figure.Figure at 0xc56d438>"
      ]
     },
     "metadata": {},
     "output_type": "display_data"
    }
   ],
   "source": [
    "#kitch_sq\n",
    "test['kitch_sq'].hist(bins = 100, facecolor = '#cc0605')\n",
    "print('skew(kitch_sq) = ' + str(skew(test['kitch_sq'])))"
   ]
  },
  {
   "cell_type": "code",
   "execution_count": 35,
   "metadata": {
    "collapsed": false
   },
   "outputs": [],
   "source": [
    "#Новый Y\n",
    "#Y = np.log(1 + train['price_doc'])"
   ]
  },
  {
   "cell_type": "code",
   "execution_count": 170,
   "metadata": {
    "collapsed": false
   },
   "outputs": [],
   "source": [
    "#Alternative target\n",
    "Y_full_sq = train['price_doc'] / train['full_sq']"
   ]
  },
  {
   "cell_type": "code",
   "execution_count": 171,
   "metadata": {
    "collapsed": false
   },
   "outputs": [
    {
     "name": "stdout",
     "output_type": "stream",
     "text": [
      "skew(Y_full_sq) = 1.6682916261271956\n"
     ]
    },
    {
     "data": {
      "image/png": "[encoded data removed]",
      "text/plain": [
       "<matplotlib.figure.Figure at 0xc68c630>"
      ]
     },
     "metadata": {},
     "output_type": "display_data"
    },
    {
     "name": "stdout",
     "output_type": "stream",
     "text": [
      "skew(log(1 + Y_full_sq)) = -1.547128673615545\n"
     ]
    },
    {
     "data": {
      "image/png": "[encoded data removed]",
      "text/plain": [
       "<matplotlib.figure.Figure at 0xbe49fd0>"
      ]
     },
     "metadata": {},
     "output_type": "display_data"
    },
    {
     "name": "stdout",
     "output_type": "stream",
     "text": [
      "skew(Y_full_sq ** 0.25) = -0.9606889682911732\n"
     ]
    },
    {
     "data": {
      "image/png": "[encoded data removed]",
      "text/plain": [
       "<matplotlib.figure.Figure at 0xc57e2e8>"
      ]
     },
     "metadata": {},
     "output_type": "display_data"
    }
   ],
   "source": [
    "Y_full_sq.hist(facecolor = '#5fe620', bins = 50)\n",
    "print('skew(Y_full_sq) = ' + str(skew(Y_full_sq)))\n",
    "plt.show()\n",
    "\n",
    "np.log(1 + Y_full_sq).hist(facecolor = '#32cd32')\n",
    "print('skew(log(1 + Y_full_sq)) = ' + str(skew(np.log(1 + Y_full_sq))))\n",
    "plt.show()\n",
    "\n",
    "(Y_full_sq ** 0.25).hist(facecolor = '#0bda51')\n",
    "print('skew(Y_full_sq ** 0.25) = ' + str(skew(Y_full_sq ** 0.25)))\n",
    "plt.show()"
   ]
  },
  {
   "cell_type": "code",
   "execution_count": 174,
   "metadata": {
    "collapsed": true
   },
   "outputs": [],
   "source": [
    "#Alternative target\n",
    "Y_life_sq = train['price_doc'] / (1 + train['life_sq'])"
   ]
  },
  {
   "cell_type": "code",
   "execution_count": 175,
   "metadata": {
    "collapsed": false
   },
   "outputs": [
    {
     "name": "stdout",
     "output_type": "stream",
     "text": [
      "skew(Y_life_sq) = 5.232291816523194\n"
     ]
    },
    {
     "data": {
      "image/png": "[encoded data removed]",
      "text/plain": [
       "<matplotlib.figure.Figure at 0xb4fbb38>"
      ]
     },
     "metadata": {},
     "output_type": "display_data"
    },
    {
     "name": "stdout",
     "output_type": "stream",
     "text": [
      "skew(log(1 + Y_life_sq)) = 0.8645319887039673\n"
     ]
    },
    {
     "data": {
      "image/png": "[encoded data removed]",
      "text/plain": [
       "<matplotlib.figure.Figure at 0xb4fbe80>"
      ]
     },
     "metadata": {},
     "output_type": "display_data"
    },
    {
     "name": "stdout",
     "output_type": "stream",
     "text": [
      "skew(Y_life_sq ** 0.25) = 1.3488350450202384\n"
     ]
    },
    {
     "data": {
      "image/png": "[encoded data removed]",
      "text/plain": [
       "<matplotlib.figure.Figure at 0xbdcaf28>"
      ]
     },
     "metadata": {},
     "output_type": "display_data"
    }
   ],
   "source": [
    "Y_life_sq.hist(facecolor = '#5fe620', bins = 50)\n",
    "print('skew(Y_life_sq) = ' + str(skew(Y_life_sq)))\n",
    "plt.show()\n",
    "\n",
    "np.log(1 + Y_life_sq).hist(facecolor = '#32cd32')\n",
    "print('skew(log(1 + Y_life_sq)) = ' + str(skew(np.log(1 + Y_life_sq))))\n",
    "plt.show()\n",
    "\n",
    "(Y_life_sq ** 0.25).hist(facecolor = '#0bda51')\n",
    "print('skew(Y_life_sq ** 0.25) = ' + str(skew(Y_life_sq ** 0.25)))\n",
    "plt.show()"
   ]
  },
  {
   "cell_type": "code",
   "execution_count": 176,
   "metadata": {
    "collapsed": false
   },
   "outputs": [
    {
     "name": "stdout",
     "output_type": "stream",
     "text": [
      "skew(life_perc) = -0.4343425534603938\n"
     ]
    },
    {
     "data": {
      "image/png": "[encoded data removed]",
      "text/plain": [
       "<matplotlib.figure.Figure at 0xb4a3048>"
      ]
     },
     "metadata": {},
     "output_type": "display_data"
    },
    {
     "name": "stdout",
     "output_type": "stream",
     "text": [
      "skew(log(1 + life_perc)) = -0.7682488295720232\n"
     ]
    },
    {
     "data": {
      "image/png": "[encoded data removed]",
      "text/plain": [
       "<matplotlib.figure.Figure at 0xc575208>"
      ]
     },
     "metadata": {},
     "output_type": "display_data"
    }
   ],
   "source": [
    "#New naive feature - life_sq / full_sq =: life_percentage\n",
    "#We can use log(1 + life_percentage) \n",
    "train['life_percentage'] = train['life_sq'] / train['full_sq']\n",
    "train['life_percentage'].hist(bins = 100, facecolor = '#5fe620')\n",
    "print('skew(life_perc) = ' + str(skew(train['life_percentage'])))\n",
    "plt.show()\n",
    "\n",
    "np.log(1 + train['life_percentage']).hist(bins = 100, facecolor = '#32cd32')\n",
    "print('skew(log(1 + life_perc)) = ' + str(skew(np.log(1 + train['life_percentage']))))"
   ]
  },
  {
   "cell_type": "code",
   "execution_count": 177,
   "metadata": {
    "collapsed": false
   },
   "outputs": [
    {
     "name": "stdout",
     "output_type": "stream",
     "text": [
      "skew(life_perc) = -0.5126810244580702\n"
     ]
    },
    {
     "data": {
      "image/png": "[encoded data removed]",
      "text/plain": [
       "<matplotlib.figure.Figure at 0xbea1668>"
      ]
     },
     "metadata": {},
     "output_type": "display_data"
    },
    {
     "name": "stdout",
     "output_type": "stream",
     "text": [
      "skew(log(1 + life_perc)) = -0.8909264252448434\n"
     ]
    },
    {
     "data": {
      "image/png": "[encoded data removed]",
      "text/plain": [
       "<matplotlib.figure.Figure at 0xbee9588>"
      ]
     },
     "metadata": {},
     "output_type": "display_data"
    }
   ],
   "source": [
    "test['life_percentage'] = test['life_sq'] / test['full_sq']\n",
    "test['life_percentage'].hist(bins = 100, facecolor = '#cc0605')\n",
    "print('skew(life_perc) = ' + str(skew(test['life_percentage'])))\n",
    "plt.show()\n",
    "\n",
    "np.log(1 + test['life_percentage']).hist(bins = 100, facecolor = '#b00000')\n",
    "print('skew(log(1 + life_perc)) = ' + str(skew(np.log(1 + test['life_percentage']))))"
   ]
  },
  {
   "cell_type": "code",
   "execution_count": 42,
   "metadata": {
    "collapsed": false
   },
   "outputs": [
    {
     "name": "stdout",
     "output_type": "stream",
     "text": [
      "166 0\n",
      "Есть нулевые этажи. Это что? 8 штук в трейне, в тесте нулей нет\n",
      "Выкидываем 166 строк с нан-этажами и несколько строк с нулевыми этажами\n",
      "0.7941977618063076 процентов данных выброшено\n"
     ]
    }
   ],
   "source": [
    "#Floor\n",
    "print(train['floor'].isnull().sum(), test['floor'].isnull().sum())\n",
    "print('Есть нулевые этажи. Это что? ' + str(train['floor'].value_counts()[0]) + ' штук в трейне, в тесте нулей нет')\n",
    "train = train[train['floor'].isnull() == 0]\n",
    "train = train[train['floor'] > 0]\n",
    "print('Выкидываем 166 строк с нан-этажами и несколько строк с нулевыми этажами')\n",
    "print(str(100 * (30471 - train.shape[0]) / 30471) + ' процентов данных выброшено')"
   ]
  },
  {
   "cell_type": "code",
   "execution_count": 178,
   "metadata": {
    "collapsed": false
   },
   "outputs": [
    {
     "name": "stdout",
     "output_type": "stream",
     "text": [
      "skew of train: 0.9721727453602417\n"
     ]
    },
    {
     "data": {
      "image/png": "[encoded data removed]",
      "text/plain": [
       "<matplotlib.figure.Figure at 0xbf44160>"
      ]
     },
     "metadata": {},
     "output_type": "display_data"
    },
    {
     "name": "stdout",
     "output_type": "stream",
     "text": [
      "skew of train: -0.006759968707777338\n"
     ]
    },
    {
     "data": {
      "image/png": "[encoded data removed]",
      "text/plain": [
       "<matplotlib.figure.Figure at 0xbfd1588>"
      ]
     },
     "metadata": {},
     "output_type": "display_data"
    },
    {
     "name": "stdout",
     "output_type": "stream",
     "text": [
      "skew of test: 0.9492663327045952\n"
     ]
    },
    {
     "data": {
      "image/png": "[encoded data removed]",
      "text/plain": [
       "<matplotlib.figure.Figure at 0xc63e9e8>"
      ]
     },
     "metadata": {},
     "output_type": "display_data"
    },
    {
     "name": "stdout",
     "output_type": "stream",
     "text": [
      "skew of test: -0.03259093301303287\n"
     ]
    },
    {
     "data": {
      "image/png": "[encoded data removed]",
      "text/plain": [
       "<matplotlib.figure.Figure at 0x10565c0>"
      ]
     },
     "metadata": {},
     "output_type": "display_data"
    }
   ],
   "source": [
    "#Заполнили наны, их не много? всего 166 штук\n",
    "train['floor'].hist(facecolor = '#5fe620')\n",
    "print('skew of train: ' + str(skew(train['floor'])))\n",
    "plt.show()\n",
    "\n",
    "(train['floor'] ** 0.33).hist(facecolor = '#32cd32')\n",
    "print('skew of train: ' + str(skew(train['floor'] ** 0.33)))\n",
    "plt.show()\n",
    "\n",
    "test['floor'].hist(facecolor = '#cc0605')\n",
    "print('skew of test: ' + str(skew(test['floor'])))\n",
    "plt.show()\n",
    "\n",
    "(test['floor'] ** 0.33).hist(facecolor = '#b00000')\n",
    "print('skew of test: ' + str(skew(test['floor'] ** 0.33)))"
   ]
  },
  {
   "cell_type": "code",
   "execution_count": 179,
   "metadata": {
    "collapsed": false
   },
   "outputs": [
    {
     "name": "stdout",
     "output_type": "stream",
     "text": [
      "skew of train: 0.39361773814053064\n"
     ]
    },
    {
     "data": {
      "image/png": "[encoded data removed]",
      "text/plain": [
       "<matplotlib.figure.Figure at 0xc507b70>"
      ]
     },
     "metadata": {},
     "output_type": "display_data"
    },
    {
     "name": "stdout",
     "output_type": "stream",
     "text": [
      "skew of test: 0.30812235779640834\n"
     ]
    },
    {
     "data": {
      "image/png": "[encoded data removed]",
      "text/plain": [
       "<matplotlib.figure.Figure at 0xb52b0b8>"
      ]
     },
     "metadata": {},
     "output_type": "display_data"
    }
   ],
   "source": [
    "train['raion_popul'].hist(facecolor = '#5fe620')\n",
    "print('skew of train: ' + str(skew(train['raion_popul'])))\n",
    "plt.show()\n",
    "\n",
    "\n",
    "test['raion_popul'].hist(facecolor = '#cc0605')\n",
    "print('skew of test: ' + str(skew(test['raion_popul'])))"
   ]
  },
  {
   "cell_type": "code",
   "execution_count": 45,
   "metadata": {
    "collapsed": true
   },
   "outputs": [],
   "source": [
    "#Заполняем по википедии\n",
    "train.ix[7672 : 7672, 'build_year' : 'build_year'] = 2000\n",
    "train.ix[8111 : 8111, 'build_year' : 'build_year'] = 1985\n",
    "train.ix[8144 : 8144, 'build_year' : 'build_year'] = 2000\n",
    "train.ix[8168 : 8168, 'build_year' : 'build_year'] = 2000\n",
    "\n",
    "#Исправляем ошибки и дополняем\n",
    "train.ix[2499 : 2499, 'max_floor' : 'max_floor'] = 48\n",
    "train.ix[2499 : 2499, 'material' : 'material'] = 4\n",
    "train.ix[2499 : 2499, 'build_year' : 'build_year'] = 2000\n",
    "\n",
    "#77 -> 7\n",
    "train.ix[23584 : 23584, 'floor' : 'floor'] = 7"
   ]
  },
  {
   "cell_type": "code",
   "execution_count": 46,
   "metadata": {
    "collapsed": false
   },
   "outputs": [],
   "source": [
    "#max_floor - очень зашумленная переменная\n",
    "train['max_floor'], test['max_floor'] = fill_median('max_floor')"
   ]
  },
  {
   "cell_type": "code",
   "execution_count": 47,
   "metadata": {
    "collapsed": true
   },
   "outputs": [],
   "source": [
    "train['floor_rank'] = train['floor'] / (1 + train['max_floor'])\n",
    "test['floor_rank'] = test['floor'] / (1 + test['max_floor'])\n",
    "\n",
    "train['floor_diff'] = train['max_floor'] - train['floor']\n",
    "test['floor_diff'] = test['max_floor'] - test['floor']"
   ]
  },
  {
   "cell_type": "code",
   "execution_count": 48,
   "metadata": {
    "collapsed": false
   },
   "outputs": [],
   "source": [
    "train['material'], test['material'] = fill_frequent('material')"
   ]
  },
  {
   "cell_type": "code",
   "execution_count": 49,
   "metadata": {
    "collapsed": false
   },
   "outputs": [
    {
     "data": {
      "image/png": "[encoded data removed]",
      "text/plain": [
       "<matplotlib.figure.Figure at 0xc4a9048>"
      ]
     },
     "metadata": {},
     "output_type": "display_data"
    },
    {
     "data": {
      "text/plain": [
       "<matplotlib.axes._subplots.AxesSubplot at 0xd0e8d68>"
      ]
     },
     "execution_count": 49,
     "metadata": {},
     "output_type": "execute_result"
    },
    {
     "data": {
      "image/png": "[encoded data removed]",
      "text/plain": [
       "<matplotlib.figure.Figure at 0x1945048>"
      ]
     },
     "metadata": {},
     "output_type": "display_data"
    }
   ],
   "source": [
    "train['material'].hist(facecolor = '#5fe620')\n",
    "plt.show()\n",
    "test['material'].hist(facecolor = '#cc0605')"
   ]
  },
  {
   "cell_type": "code",
   "execution_count": 50,
   "metadata": {
    "collapsed": false
   },
   "outputs": [
    {
     "data": {
      "text/plain": [
       "1.0    23543\n",
       "2.0     2986\n",
       "5.0     1558\n",
       "4.0     1340\n",
       "6.0      801\n",
       "3.0        1\n",
       "Name: material, dtype: int64"
      ]
     },
     "execution_count": 50,
     "metadata": {},
     "output_type": "execute_result"
    }
   ],
   "source": [
    "#3 ? есть и в тесте\n",
    "train['material'].value_counts()"
   ]
  },
  {
   "cell_type": "code",
   "execution_count": 51,
   "metadata": {
    "collapsed": false
   },
   "outputs": [
    {
     "data": {
      "text/plain": [
       "material\n",
       "1.0    6150000.0\n",
       "2.0    6900000.0\n",
       "3.0    6931143.0\n",
       "4.0    7244656.0\n",
       "5.0    6496000.0\n",
       "6.0    6330265.0\n",
       "Name: price_doc, dtype: float64"
      ]
     },
     "execution_count": 51,
     "metadata": {},
     "output_type": "execute_result"
    }
   ],
   "source": [
    "train.groupby('material').median()['price_doc']"
   ]
  },
  {
   "cell_type": "code",
   "execution_count": 52,
   "metadata": {
    "collapsed": false
   },
   "outputs": [],
   "source": [
    "dum_tr = pd.get_dummies(train['material'])\n",
    "dum_te = pd.get_dummies(test['material'])\n",
    "\n",
    "dum_tr.columns = ['material_1', 'material_2', 'material_3', 'material_4', 'material_5', 'material_6']\n",
    "dum_te.columns = dum_tr.columns\n",
    "\n",
    "train = pd.concat([train, dum_tr], axis = 1)\n",
    "test = pd.concat([test, dum_te], axis = 1)\n",
    "del train['material'], test['material']"
   ]
  },
  {
   "cell_type": "code",
   "execution_count": 53,
   "metadata": {
    "collapsed": false
   },
   "outputs": [],
   "source": [
    "train['build_year'], test['build_year'] = fill_median('build_year')"
   ]
  },
  {
   "cell_type": "code",
   "execution_count": 54,
   "metadata": {
    "collapsed": false
   },
   "outputs": [],
   "source": [
    "train['timestamp'] = pd.to_datetime(train['timestamp'])\n",
    "test['timestamp'] = pd.to_datetime(test['timestamp'])\n",
    "\n",
    "train['weekday'] = train['timestamp'].dt.weekday\n",
    "test['weekday'] = test['timestamp'].dt.weekday\n",
    "\n",
    "train['year'] = train['timestamp'].dt.year\n",
    "test['year'] = test['timestamp'].dt.year\n",
    "\n",
    "train['month'] = train['timestamp'].dt.month\n",
    "test['month'] = test['timestamp'].dt.month\n",
    "\n",
    "train['weekofyear'] = train['timestamp'].dt.weekofyear\n",
    "test['weekofyear'] = test['timestamp'].dt.weekofyear\n",
    "\n",
    "train['quarter'] = train['timestamp'].dt.quarter\n",
    "test['quarter'] = test['timestamp'].dt.quarter\n",
    "\n",
    "\n",
    "train[\"yearmonth\"] = train[\"timestamp\"].dt.year * 100 + train[\"timestamp\"].dt.month # Подсказал индус SRK\n",
    "test[\"yearmonth\"] = test[\"timestamp\"].dt.year * 100 + test[\"timestamp\"].dt.month\n",
    "\n",
    "\n",
    "train[\"yearweek\"] = train[\"timestamp\"].dt.year * 100 + train[\"timestamp\"].dt.weekofyear\n",
    "test[\"yearweek\"] = test[\"timestamp\"].dt.year * 100 + test[\"timestamp\"].dt.weekofyear\n",
    "\n",
    "\n",
    "train['object_age'] = train['year'] - train['build_year']\n",
    "test['object_age'] = test['year'] - test['build_year']"
   ]
  },
  {
   "cell_type": "code",
   "execution_count": 55,
   "metadata": {
    "collapsed": false
   },
   "outputs": [
    {
     "name": "stdout",
     "output_type": "stream",
     "text": [
      "(30217, 308)\n"
     ]
    }
   ],
   "source": [
    "train = train[train['num_room'] != 0]\n",
    "print(train.shape)"
   ]
  },
  {
   "cell_type": "code",
   "execution_count": 56,
   "metadata": {
    "collapsed": false
   },
   "outputs": [],
   "source": [
    "train['num_room'], test['num_room'] = fill_median('num_room')"
   ]
  },
  {
   "cell_type": "code",
   "execution_count": 57,
   "metadata": {
    "collapsed": false
   },
   "outputs": [],
   "source": [
    "train.ix[10089 : 10089, 'state' : 'state'] = 3\n",
    "train['state'], test['state'] = fill_median('state')"
   ]
  },
  {
   "cell_type": "code",
   "execution_count": 58,
   "metadata": {
    "collapsed": true
   },
   "outputs": [],
   "source": [
    "train['sub_area'] = train['sub_area'].apply(lambda x: x.lower())\n",
    "test['sub_area'] = test['sub_area'].apply(lambda x: x.lower())"
   ]
  },
  {
   "cell_type": "code",
   "execution_count": 59,
   "metadata": {
    "collapsed": false
   },
   "outputs": [],
   "source": [
    "a, b = get_dummies(train['sub_area'], test['sub_area'])\n",
    "train = pd.concat([train, a], axis = 1)\n",
    "test = pd.concat([test, b], axis = 1)\n",
    "del a, b"
   ]
  },
  {
   "cell_type": "code",
   "execution_count": 60,
   "metadata": {
    "collapsed": false
   },
   "outputs": [],
   "source": [
    "train['density'] = train['raion_popul'] / train['area_m']\n",
    "test['density'] = test['raion_popul'] / test['area_m']"
   ]
  },
  {
   "cell_type": "code",
   "execution_count": null,
   "metadata": {
    "collapsed": true
   },
   "outputs": [],
   "source": []
  },
  {
   "cell_type": "code",
   "execution_count": 61,
   "metadata": {
    "collapsed": false
   },
   "outputs": [],
   "source": [
    "train['school_quota'], test['school_quota'] = fill_median('school_quota')\n",
    "train['preschool_quota'], test['preschool_quota'] = fill_median('preschool_quota')\n",
    "train['hospital_beds_raion'], test['hospital_beds_raion'] = fill_median('hospital_beds_raion')"
   ]
  },
  {
   "cell_type": "code",
   "execution_count": null,
   "metadata": {
    "collapsed": true
   },
   "outputs": [],
   "source": []
  },
  {
   "cell_type": "code",
   "execution_count": 162,
   "metadata": {
    "collapsed": false
   },
   "outputs": [
    {
     "data": {
      "text/plain": [
       "Series([], Name: sub_area, dtype: int64)"
      ]
     },
     "execution_count": 162,
     "metadata": {},
     "output_type": "execute_result"
    }
   ],
   "source": [
    "train[train['hospital_beds_raion'].isnull() == 1]['sub_area'].value_counts()"
   ]
  },
  {
   "cell_type": "code",
   "execution_count": 110,
   "metadata": {
    "collapsed": false
   },
   "outputs": [
    {
     "data": {
      "text/plain": [
       "Series([], Name: hospital_beds_raion, dtype: int64)"
      ]
     },
     "execution_count": 110,
     "metadata": {},
     "output_type": "execute_result"
    }
   ],
   "source": [
    "train[train['sub_area'] == 'krylatskoe']['hospital_beds_raion'].value_counts()"
   ]
  },
  {
   "cell_type": "code",
   "execution_count": 169,
   "metadata": {
    "collapsed": false
   },
   "outputs": [
    {
     "data": {
      "text/plain": [
       "<matplotlib.collections.PathCollection at 0xc88d588>"
      ]
     },
     "execution_count": 169,
     "metadata": {},
     "output_type": "execute_result"
    },
    {
     "data": {
      "image/png": "[encoded data removed]",
      "text/plain": [
       "<matplotlib.figure.Figure at 0xc9c4d30>"
      ]
     },
     "metadata": {},
     "output_type": "display_data"
    }
   ],
   "source": [
    "plt.scatter(train['raion_build_count_with_material_info'].fillna(0), train['price_doc'])"
   ]
  },
  {
   "cell_type": "code",
   "execution_count": 66,
   "metadata": {
    "collapsed": false
   },
   "outputs": [
    {
     "data": {
      "text/plain": [
       "0"
      ]
     },
     "execution_count": 66,
     "metadata": {},
     "output_type": "execute_result"
    }
   ],
   "source": [
    "train['indust_part'].isnull().sum()"
   ]
  },
  {
   "cell_type": "code",
   "execution_count": 67,
   "metadata": {
    "collapsed": true
   },
   "outputs": [],
   "source": [
    "train['green > indust'] = (train['green_zone_part'] > train['indust_part']).apply(lambda x: float(x))\n",
    "test['green > indust'] = (test['green_zone_part'] > test['indust_part']).apply(lambda x: float(x))"
   ]
  },
  {
   "cell_type": "code",
   "execution_count": 76,
   "metadata": {
    "collapsed": false
   },
   "outputs": [
    {
     "data": {
      "text/plain": [
       "(6250000.0, 6300000.0)"
      ]
     },
     "execution_count": 76,
     "metadata": {},
     "output_type": "execute_result"
    }
   ],
   "source": [
    "#Особо нет разницы\n",
    "train[train['green > indust'] == 0]['price_doc'].median(), train[train['green > indust'] == 1]['price_doc'].median()"
   ]
  },
  {
   "cell_type": "code",
   "execution_count": 101,
   "metadata": {
    "collapsed": false
   },
   "outputs": [
    {
     "data": {
      "text/plain": [
       "<matplotlib.collections.PathCollection at 0x171c9780>"
      ]
     },
     "execution_count": 101,
     "metadata": {},
     "output_type": "execute_result"
    },
    {
     "data": {
      "image/png": "[encoded data removed]",
      "text/plain": [
       "<matplotlib.figure.Figure at 0x15298a58>"
      ]
     },
     "metadata": {},
     "output_type": "display_data"
    }
   ],
   "source": [
    "plt.scatter(train['metro_min_walk'], Y)"
   ]
  },
  {
   "cell_type": "code",
   "execution_count": 97,
   "metadata": {
    "collapsed": false
   },
   "outputs": [
    {
     "data": {
      "text/html": [
       "<div>\n",
       "<table border=\"1\" class=\"dataframe\">\n",
       "  <thead>\n",
       "    <tr style=\"text-align: right;\">\n",
       "      <th></th>\n",
       "      <th>metro_min_avto</th>\n",
       "      <th>metro_km_avto</th>\n",
       "      <th>metro_min_walk</th>\n",
       "      <th>metro_km_walk</th>\n",
       "      <th>kindergarten_km</th>\n",
       "      <th>school_km</th>\n",
       "      <th>park_km</th>\n",
       "      <th>green_zone_km</th>\n",
       "      <th>industrial_km</th>\n",
       "      <th>water_treatment_km</th>\n",
       "      <th>...</th>\n",
       "      <th>vostochnoe</th>\n",
       "      <th>vostochnoe degunino</th>\n",
       "      <th>vostochnoe izmajlovo</th>\n",
       "      <th>vyhino-zhulebino</th>\n",
       "      <th>zamoskvorech'e</th>\n",
       "      <th>zapadnoe degunino</th>\n",
       "      <th>zjablikovo</th>\n",
       "      <th>zjuzino</th>\n",
       "      <th>density</th>\n",
       "      <th>green &gt; indust</th>\n",
       "    </tr>\n",
       "  </thead>\n",
       "  <tbody>\n",
       "    <tr>\n",
       "      <th>0</th>\n",
       "      <td>2.590241</td>\n",
       "      <td>1.131260</td>\n",
       "      <td>13.575119</td>\n",
       "      <td>1.131260</td>\n",
       "      <td>0.145700</td>\n",
       "      <td>0.177975</td>\n",
       "      <td>2.158587</td>\n",
       "      <td>0.600973</td>\n",
       "      <td>1.080934</td>\n",
       "      <td>23.683460</td>\n",
       "      <td>...</td>\n",
       "      <td>0.0</td>\n",
       "      <td>0.0</td>\n",
       "      <td>0.0</td>\n",
       "      <td>0.0</td>\n",
       "      <td>0.0</td>\n",
       "      <td>0.0</td>\n",
       "      <td>0.0</td>\n",
       "      <td>0.0</td>\n",
       "      <td>0.024279</td>\n",
       "      <td>1.0</td>\n",
       "    </tr>\n",
       "    <tr>\n",
       "      <th>1</th>\n",
       "      <td>0.936700</td>\n",
       "      <td>0.647337</td>\n",
       "      <td>7.620630</td>\n",
       "      <td>0.635053</td>\n",
       "      <td>0.147754</td>\n",
       "      <td>0.273345</td>\n",
       "      <td>0.550690</td>\n",
       "      <td>0.065321</td>\n",
       "      <td>0.966479</td>\n",
       "      <td>1.317476</td>\n",
       "      <td>...</td>\n",
       "      <td>0.0</td>\n",
       "      <td>0.0</td>\n",
       "      <td>0.0</td>\n",
       "      <td>0.0</td>\n",
       "      <td>0.0</td>\n",
       "      <td>0.0</td>\n",
       "      <td>0.0</td>\n",
       "      <td>0.0</td>\n",
       "      <td>0.012029</td>\n",
       "      <td>1.0</td>\n",
       "    </tr>\n",
       "    <tr>\n",
       "      <th>2</th>\n",
       "      <td>2.120999</td>\n",
       "      <td>1.637996</td>\n",
       "      <td>17.351515</td>\n",
       "      <td>1.445960</td>\n",
       "      <td>0.049102</td>\n",
       "      <td>0.158072</td>\n",
       "      <td>0.374848</td>\n",
       "      <td>0.453172</td>\n",
       "      <td>0.939275</td>\n",
       "      <td>4.912660</td>\n",
       "      <td>...</td>\n",
       "      <td>0.0</td>\n",
       "      <td>0.0</td>\n",
       "      <td>0.0</td>\n",
       "      <td>0.0</td>\n",
       "      <td>0.0</td>\n",
       "      <td>0.0</td>\n",
       "      <td>0.0</td>\n",
       "      <td>0.0</td>\n",
       "      <td>0.021153</td>\n",
       "      <td>0.0</td>\n",
       "    </tr>\n",
       "    <tr>\n",
       "      <th>3</th>\n",
       "      <td>1.489049</td>\n",
       "      <td>0.984537</td>\n",
       "      <td>11.565624</td>\n",
       "      <td>0.963802</td>\n",
       "      <td>0.179441</td>\n",
       "      <td>0.236455</td>\n",
       "      <td>0.078090</td>\n",
       "      <td>0.106125</td>\n",
       "      <td>0.451173</td>\n",
       "      <td>15.623710</td>\n",
       "      <td>...</td>\n",
       "      <td>0.0</td>\n",
       "      <td>0.0</td>\n",
       "      <td>0.0</td>\n",
       "      <td>0.0</td>\n",
       "      <td>0.0</td>\n",
       "      <td>0.0</td>\n",
       "      <td>0.0</td>\n",
       "      <td>0.0</td>\n",
       "      <td>0.014183</td>\n",
       "      <td>1.0</td>\n",
       "    </tr>\n",
       "    <tr>\n",
       "      <th>4</th>\n",
       "      <td>1.257186</td>\n",
       "      <td>0.876620</td>\n",
       "      <td>8.266305</td>\n",
       "      <td>0.688859</td>\n",
       "      <td>0.247901</td>\n",
       "      <td>0.376838</td>\n",
       "      <td>0.258289</td>\n",
       "      <td>0.236214</td>\n",
       "      <td>0.392871</td>\n",
       "      <td>10.683540</td>\n",
       "      <td>...</td>\n",
       "      <td>0.0</td>\n",
       "      <td>0.0</td>\n",
       "      <td>0.0</td>\n",
       "      <td>0.0</td>\n",
       "      <td>0.0</td>\n",
       "      <td>0.0</td>\n",
       "      <td>0.0</td>\n",
       "      <td>0.0</td>\n",
       "      <td>0.012880</td>\n",
       "      <td>0.0</td>\n",
       "    </tr>\n",
       "    <tr>\n",
       "      <th>5</th>\n",
       "      <td>2.735884</td>\n",
       "      <td>1.593246</td>\n",
       "      <td>18.378170</td>\n",
       "      <td>1.531514</td>\n",
       "      <td>0.145955</td>\n",
       "      <td>0.113466</td>\n",
       "      <td>1.073495</td>\n",
       "      <td>1.497903</td>\n",
       "      <td>0.256487</td>\n",
       "      <td>7.186740</td>\n",
       "      <td>...</td>\n",
       "      <td>0.0</td>\n",
       "      <td>0.0</td>\n",
       "      <td>0.0</td>\n",
       "      <td>0.0</td>\n",
       "      <td>0.0</td>\n",
       "      <td>0.0</td>\n",
       "      <td>0.0</td>\n",
       "      <td>0.0</td>\n",
       "      <td>0.005834</td>\n",
       "      <td>0.0</td>\n",
       "    </tr>\n",
       "    <tr>\n",
       "      <th>6</th>\n",
       "      <td>1.453762</td>\n",
       "      <td>1.026916</td>\n",
       "      <td>12.322993</td>\n",
       "      <td>1.026916</td>\n",
       "      <td>0.501166</td>\n",
       "      <td>0.516979</td>\n",
       "      <td>2.393239</td>\n",
       "      <td>0.632445</td>\n",
       "      <td>0.707268</td>\n",
       "      <td>13.900700</td>\n",
       "      <td>...</td>\n",
       "      <td>0.0</td>\n",
       "      <td>0.0</td>\n",
       "      <td>0.0</td>\n",
       "      <td>0.0</td>\n",
       "      <td>0.0</td>\n",
       "      <td>0.0</td>\n",
       "      <td>0.0</td>\n",
       "      <td>0.0</td>\n",
       "      <td>0.005562</td>\n",
       "      <td>1.0</td>\n",
       "    </tr>\n",
       "    <tr>\n",
       "      <th>7</th>\n",
       "      <td>3.623270</td>\n",
       "      <td>1.593203</td>\n",
       "      <td>11.527788</td>\n",
       "      <td>0.960649</td>\n",
       "      <td>0.134365</td>\n",
       "      <td>0.581511</td>\n",
       "      <td>1.602056</td>\n",
       "      <td>0.165124</td>\n",
       "      <td>1.166992</td>\n",
       "      <td>23.118380</td>\n",
       "      <td>...</td>\n",
       "      <td>0.0</td>\n",
       "      <td>0.0</td>\n",
       "      <td>0.0</td>\n",
       "      <td>0.0</td>\n",
       "      <td>0.0</td>\n",
       "      <td>0.0</td>\n",
       "      <td>0.0</td>\n",
       "      <td>0.0</td>\n",
       "      <td>0.024279</td>\n",
       "      <td>1.0</td>\n",
       "    </tr>\n",
       "    <tr>\n",
       "      <th>8</th>\n",
       "      <td>2.175431</td>\n",
       "      <td>1.338707</td>\n",
       "      <td>14.742289</td>\n",
       "      <td>1.228524</td>\n",
       "      <td>0.112905</td>\n",
       "      <td>0.256589</td>\n",
       "      <td>0.939584</td>\n",
       "      <td>0.148957</td>\n",
       "      <td>0.670432</td>\n",
       "      <td>20.940970</td>\n",
       "      <td>...</td>\n",
       "      <td>0.0</td>\n",
       "      <td>0.0</td>\n",
       "      <td>0.0</td>\n",
       "      <td>0.0</td>\n",
       "      <td>0.0</td>\n",
       "      <td>0.0</td>\n",
       "      <td>0.0</td>\n",
       "      <td>0.0</td>\n",
       "      <td>0.020253</td>\n",
       "      <td>0.0</td>\n",
       "    </tr>\n",
       "    <tr>\n",
       "      <th>9</th>\n",
       "      <td>1.383373</td>\n",
       "      <td>0.396275</td>\n",
       "      <td>4.755297</td>\n",
       "      <td>0.396275</td>\n",
       "      <td>0.309673</td>\n",
       "      <td>0.150686</td>\n",
       "      <td>1.969774</td>\n",
       "      <td>0.191191</td>\n",
       "      <td>2.024971</td>\n",
       "      <td>16.753090</td>\n",
       "      <td>...</td>\n",
       "      <td>0.0</td>\n",
       "      <td>0.0</td>\n",
       "      <td>0.0</td>\n",
       "      <td>0.0</td>\n",
       "      <td>0.0</td>\n",
       "      <td>0.0</td>\n",
       "      <td>0.0</td>\n",
       "      <td>0.0</td>\n",
       "      <td>0.002721</td>\n",
       "      <td>1.0</td>\n",
       "    </tr>\n",
       "    <tr>\n",
       "      <th>10</th>\n",
       "      <td>1.775183</td>\n",
       "      <td>1.278159</td>\n",
       "      <td>14.860185</td>\n",
       "      <td>1.238349</td>\n",
       "      <td>0.175444</td>\n",
       "      <td>0.317739</td>\n",
       "      <td>0.202279</td>\n",
       "      <td>0.191740</td>\n",
       "      <td>0.859735</td>\n",
       "      <td>4.355838</td>\n",
       "      <td>...</td>\n",
       "      <td>0.0</td>\n",
       "      <td>0.0</td>\n",
       "      <td>0.0</td>\n",
       "      <td>0.0</td>\n",
       "      <td>0.0</td>\n",
       "      <td>0.0</td>\n",
       "      <td>0.0</td>\n",
       "      <td>0.0</td>\n",
       "      <td>0.004846</td>\n",
       "      <td>0.0</td>\n",
       "    </tr>\n",
       "    <tr>\n",
       "      <th>11</th>\n",
       "      <td>2.844125</td>\n",
       "      <td>2.067243</td>\n",
       "      <td>27.678043</td>\n",
       "      <td>2.306504</td>\n",
       "      <td>0.341368</td>\n",
       "      <td>0.185713</td>\n",
       "      <td>0.847394</td>\n",
       "      <td>0.455926</td>\n",
       "      <td>0.343829</td>\n",
       "      <td>17.940390</td>\n",
       "      <td>...</td>\n",
       "      <td>0.0</td>\n",
       "      <td>0.0</td>\n",
       "      <td>0.0</td>\n",
       "      <td>0.0</td>\n",
       "      <td>0.0</td>\n",
       "      <td>1.0</td>\n",
       "      <td>0.0</td>\n",
       "      <td>0.0</td>\n",
       "      <td>0.010325</td>\n",
       "      <td>0.0</td>\n",
       "    </tr>\n",
       "    <tr>\n",
       "      <th>12</th>\n",
       "      <td>2.124787</td>\n",
       "      <td>1.623329</td>\n",
       "      <td>19.479949</td>\n",
       "      <td>1.623329</td>\n",
       "      <td>0.240614</td>\n",
       "      <td>0.725989</td>\n",
       "      <td>2.370263</td>\n",
       "      <td>0.441058</td>\n",
       "      <td>0.093758</td>\n",
       "      <td>18.754870</td>\n",
       "      <td>...</td>\n",
       "      <td>0.0</td>\n",
       "      <td>0.0</td>\n",
       "      <td>0.0</td>\n",
       "      <td>0.0</td>\n",
       "      <td>0.0</td>\n",
       "      <td>0.0</td>\n",
       "      <td>0.0</td>\n",
       "      <td>0.0</td>\n",
       "      <td>0.002721</td>\n",
       "      <td>1.0</td>\n",
       "    </tr>\n",
       "    <tr>\n",
       "      <th>13</th>\n",
       "      <td>1.598880</td>\n",
       "      <td>1.214706</td>\n",
       "      <td>14.576476</td>\n",
       "      <td>1.214706</td>\n",
       "      <td>0.478112</td>\n",
       "      <td>0.718828</td>\n",
       "      <td>0.448685</td>\n",
       "      <td>0.086053</td>\n",
       "      <td>0.652803</td>\n",
       "      <td>13.415910</td>\n",
       "      <td>...</td>\n",
       "      <td>0.0</td>\n",
       "      <td>0.0</td>\n",
       "      <td>0.0</td>\n",
       "      <td>0.0</td>\n",
       "      <td>0.0</td>\n",
       "      <td>0.0</td>\n",
       "      <td>0.0</td>\n",
       "      <td>0.0</td>\n",
       "      <td>0.010593</td>\n",
       "      <td>1.0</td>\n",
       "    </tr>\n",
       "    <tr>\n",
       "      <th>14</th>\n",
       "      <td>1.023328</td>\n",
       "      <td>0.590130</td>\n",
       "      <td>7.081564</td>\n",
       "      <td>0.590130</td>\n",
       "      <td>0.196604</td>\n",
       "      <td>0.797255</td>\n",
       "      <td>1.479844</td>\n",
       "      <td>0.385974</td>\n",
       "      <td>0.256814</td>\n",
       "      <td>9.341380</td>\n",
       "      <td>...</td>\n",
       "      <td>0.0</td>\n",
       "      <td>0.0</td>\n",
       "      <td>0.0</td>\n",
       "      <td>0.0</td>\n",
       "      <td>0.0</td>\n",
       "      <td>0.0</td>\n",
       "      <td>0.0</td>\n",
       "      <td>0.0</td>\n",
       "      <td>0.010004</td>\n",
       "      <td>0.0</td>\n",
       "    </tr>\n",
       "    <tr>\n",
       "      <th>15</th>\n",
       "      <td>1.495313</td>\n",
       "      <td>1.045237</td>\n",
       "      <td>12.542844</td>\n",
       "      <td>1.045237</td>\n",
       "      <td>0.238081</td>\n",
       "      <td>0.302749</td>\n",
       "      <td>1.123550</td>\n",
       "      <td>0.175785</td>\n",
       "      <td>1.836321</td>\n",
       "      <td>3.667428</td>\n",
       "      <td>...</td>\n",
       "      <td>0.0</td>\n",
       "      <td>0.0</td>\n",
       "      <td>0.0</td>\n",
       "      <td>0.0</td>\n",
       "      <td>0.0</td>\n",
       "      <td>0.0</td>\n",
       "      <td>0.0</td>\n",
       "      <td>0.0</td>\n",
       "      <td>0.021053</td>\n",
       "      <td>1.0</td>\n",
       "    </tr>\n",
       "    <tr>\n",
       "      <th>16</th>\n",
       "      <td>0.908195</td>\n",
       "      <td>0.683326</td>\n",
       "      <td>7.453252</td>\n",
       "      <td>0.621104</td>\n",
       "      <td>0.354595</td>\n",
       "      <td>0.266978</td>\n",
       "      <td>1.093671</td>\n",
       "      <td>0.125797</td>\n",
       "      <td>2.055711</td>\n",
       "      <td>5.025273</td>\n",
       "      <td>...</td>\n",
       "      <td>0.0</td>\n",
       "      <td>0.0</td>\n",
       "      <td>0.0</td>\n",
       "      <td>0.0</td>\n",
       "      <td>0.0</td>\n",
       "      <td>0.0</td>\n",
       "      <td>0.0</td>\n",
       "      <td>0.0</td>\n",
       "      <td>0.017815</td>\n",
       "      <td>1.0</td>\n",
       "    </tr>\n",
       "    <tr>\n",
       "      <th>17</th>\n",
       "      <td>1.612975</td>\n",
       "      <td>1.183976</td>\n",
       "      <td>14.134526</td>\n",
       "      <td>1.177877</td>\n",
       "      <td>0.303114</td>\n",
       "      <td>0.462189</td>\n",
       "      <td>1.413752</td>\n",
       "      <td>0.263064</td>\n",
       "      <td>0.052200</td>\n",
       "      <td>3.683112</td>\n",
       "      <td>...</td>\n",
       "      <td>0.0</td>\n",
       "      <td>0.0</td>\n",
       "      <td>0.0</td>\n",
       "      <td>0.0</td>\n",
       "      <td>0.0</td>\n",
       "      <td>0.0</td>\n",
       "      <td>0.0</td>\n",
       "      <td>0.0</td>\n",
       "      <td>0.014712</td>\n",
       "      <td>0.0</td>\n",
       "    </tr>\n",
       "    <tr>\n",
       "      <th>18</th>\n",
       "      <td>2.047848</td>\n",
       "      <td>1.428758</td>\n",
       "      <td>17.145101</td>\n",
       "      <td>1.428758</td>\n",
       "      <td>0.161435</td>\n",
       "      <td>0.678491</td>\n",
       "      <td>0.421275</td>\n",
       "      <td>0.198449</td>\n",
       "      <td>0.911485</td>\n",
       "      <td>4.091432</td>\n",
       "      <td>...</td>\n",
       "      <td>0.0</td>\n",
       "      <td>0.0</td>\n",
       "      <td>0.0</td>\n",
       "      <td>0.0</td>\n",
       "      <td>0.0</td>\n",
       "      <td>0.0</td>\n",
       "      <td>0.0</td>\n",
       "      <td>0.0</td>\n",
       "      <td>0.004846</td>\n",
       "      <td>0.0</td>\n",
       "    </tr>\n",
       "    <tr>\n",
       "      <th>19</th>\n",
       "      <td>1.945643</td>\n",
       "      <td>1.381080</td>\n",
       "      <td>15.912103</td>\n",
       "      <td>1.326009</td>\n",
       "      <td>0.321336</td>\n",
       "      <td>0.372239</td>\n",
       "      <td>2.584343</td>\n",
       "      <td>0.811783</td>\n",
       "      <td>0.222715</td>\n",
       "      <td>16.710690</td>\n",
       "      <td>...</td>\n",
       "      <td>0.0</td>\n",
       "      <td>0.0</td>\n",
       "      <td>0.0</td>\n",
       "      <td>0.0</td>\n",
       "      <td>0.0</td>\n",
       "      <td>0.0</td>\n",
       "      <td>0.0</td>\n",
       "      <td>0.0</td>\n",
       "      <td>0.010990</td>\n",
       "      <td>1.0</td>\n",
       "    </tr>\n",
       "    <tr>\n",
       "      <th>20</th>\n",
       "      <td>8.895392</td>\n",
       "      <td>8.120823</td>\n",
       "      <td>71.554924</td>\n",
       "      <td>5.962910</td>\n",
       "      <td>0.323308</td>\n",
       "      <td>2.500105</td>\n",
       "      <td>9.901545</td>\n",
       "      <td>0.190786</td>\n",
       "      <td>0.805917</td>\n",
       "      <td>19.375550</td>\n",
       "      <td>...</td>\n",
       "      <td>0.0</td>\n",
       "      <td>0.0</td>\n",
       "      <td>0.0</td>\n",
       "      <td>0.0</td>\n",
       "      <td>0.0</td>\n",
       "      <td>0.0</td>\n",
       "      <td>0.0</td>\n",
       "      <td>0.0</td>\n",
       "      <td>0.001373</td>\n",
       "      <td>1.0</td>\n",
       "    </tr>\n",
       "    <tr>\n",
       "      <th>21</th>\n",
       "      <td>2.785478</td>\n",
       "      <td>1.972994</td>\n",
       "      <td>23.469116</td>\n",
       "      <td>1.955760</td>\n",
       "      <td>0.853442</td>\n",
       "      <td>0.479055</td>\n",
       "      <td>0.913520</td>\n",
       "      <td>0.371158</td>\n",
       "      <td>0.146313</td>\n",
       "      <td>19.387080</td>\n",
       "      <td>...</td>\n",
       "      <td>0.0</td>\n",
       "      <td>0.0</td>\n",
       "      <td>0.0</td>\n",
       "      <td>0.0</td>\n",
       "      <td>0.0</td>\n",
       "      <td>0.0</td>\n",
       "      <td>0.0</td>\n",
       "      <td>0.0</td>\n",
       "      <td>0.013240</td>\n",
       "      <td>1.0</td>\n",
       "    </tr>\n",
       "    <tr>\n",
       "      <th>22</th>\n",
       "      <td>2.784609</td>\n",
       "      <td>1.636491</td>\n",
       "      <td>17.881361</td>\n",
       "      <td>1.490113</td>\n",
       "      <td>0.597949</td>\n",
       "      <td>0.335632</td>\n",
       "      <td>1.695243</td>\n",
       "      <td>0.219683</td>\n",
       "      <td>1.339620</td>\n",
       "      <td>17.157090</td>\n",
       "      <td>...</td>\n",
       "      <td>0.0</td>\n",
       "      <td>0.0</td>\n",
       "      <td>0.0</td>\n",
       "      <td>0.0</td>\n",
       "      <td>0.0</td>\n",
       "      <td>0.0</td>\n",
       "      <td>0.0</td>\n",
       "      <td>0.0</td>\n",
       "      <td>0.016907</td>\n",
       "      <td>1.0</td>\n",
       "    </tr>\n",
       "    <tr>\n",
       "      <th>23</th>\n",
       "      <td>0.071568</td>\n",
       "      <td>0.057255</td>\n",
       "      <td>0.687058</td>\n",
       "      <td>0.057255</td>\n",
       "      <td>0.166564</td>\n",
       "      <td>0.426455</td>\n",
       "      <td>3.206931</td>\n",
       "      <td>0.484076</td>\n",
       "      <td>0.709987</td>\n",
       "      <td>6.808655</td>\n",
       "      <td>...</td>\n",
       "      <td>0.0</td>\n",
       "      <td>0.0</td>\n",
       "      <td>0.0</td>\n",
       "      <td>0.0</td>\n",
       "      <td>0.0</td>\n",
       "      <td>0.0</td>\n",
       "      <td>0.0</td>\n",
       "      <td>0.0</td>\n",
       "      <td>0.016314</td>\n",
       "      <td>0.0</td>\n",
       "    </tr>\n",
       "    <tr>\n",
       "      <th>24</th>\n",
       "      <td>3.371172</td>\n",
       "      <td>2.580971</td>\n",
       "      <td>30.656268</td>\n",
       "      <td>2.554689</td>\n",
       "      <td>0.145299</td>\n",
       "      <td>1.216064</td>\n",
       "      <td>1.667605</td>\n",
       "      <td>0.088998</td>\n",
       "      <td>0.348829</td>\n",
       "      <td>18.010390</td>\n",
       "      <td>...</td>\n",
       "      <td>0.0</td>\n",
       "      <td>0.0</td>\n",
       "      <td>0.0</td>\n",
       "      <td>0.0</td>\n",
       "      <td>0.0</td>\n",
       "      <td>0.0</td>\n",
       "      <td>0.0</td>\n",
       "      <td>0.0</td>\n",
       "      <td>0.013240</td>\n",
       "      <td>1.0</td>\n",
       "    </tr>\n",
       "    <tr>\n",
       "      <th>25</th>\n",
       "      <td>2.289276</td>\n",
       "      <td>1.251643</td>\n",
       "      <td>14.500328</td>\n",
       "      <td>1.208361</td>\n",
       "      <td>0.354140</td>\n",
       "      <td>0.217198</td>\n",
       "      <td>1.265683</td>\n",
       "      <td>0.015624</td>\n",
       "      <td>1.731291</td>\n",
       "      <td>15.885430</td>\n",
       "      <td>...</td>\n",
       "      <td>0.0</td>\n",
       "      <td>0.0</td>\n",
       "      <td>0.0</td>\n",
       "      <td>0.0</td>\n",
       "      <td>0.0</td>\n",
       "      <td>0.0</td>\n",
       "      <td>0.0</td>\n",
       "      <td>0.0</td>\n",
       "      <td>0.015949</td>\n",
       "      <td>1.0</td>\n",
       "    </tr>\n",
       "    <tr>\n",
       "      <th>26</th>\n",
       "      <td>1.642215</td>\n",
       "      <td>1.041398</td>\n",
       "      <td>12.266605</td>\n",
       "      <td>1.022217</td>\n",
       "      <td>0.277521</td>\n",
       "      <td>0.081256</td>\n",
       "      <td>1.662162</td>\n",
       "      <td>0.295891</td>\n",
       "      <td>0.984545</td>\n",
       "      <td>22.317790</td>\n",
       "      <td>...</td>\n",
       "      <td>0.0</td>\n",
       "      <td>0.0</td>\n",
       "      <td>0.0</td>\n",
       "      <td>0.0</td>\n",
       "      <td>0.0</td>\n",
       "      <td>0.0</td>\n",
       "      <td>0.0</td>\n",
       "      <td>0.0</td>\n",
       "      <td>0.017459</td>\n",
       "      <td>0.0</td>\n",
       "    </tr>\n",
       "    <tr>\n",
       "      <th>27</th>\n",
       "      <td>1.556290</td>\n",
       "      <td>1.106384</td>\n",
       "      <td>13.119129</td>\n",
       "      <td>1.093261</td>\n",
       "      <td>0.409804</td>\n",
       "      <td>0.187100</td>\n",
       "      <td>2.361151</td>\n",
       "      <td>0.564689</td>\n",
       "      <td>0.455460</td>\n",
       "      <td>16.092060</td>\n",
       "      <td>...</td>\n",
       "      <td>0.0</td>\n",
       "      <td>0.0</td>\n",
       "      <td>0.0</td>\n",
       "      <td>0.0</td>\n",
       "      <td>0.0</td>\n",
       "      <td>0.0</td>\n",
       "      <td>0.0</td>\n",
       "      <td>0.0</td>\n",
       "      <td>0.012923</td>\n",
       "      <td>1.0</td>\n",
       "    </tr>\n",
       "    <tr>\n",
       "      <th>28</th>\n",
       "      <td>1.420364</td>\n",
       "      <td>1.033409</td>\n",
       "      <td>11.302103</td>\n",
       "      <td>0.941842</td>\n",
       "      <td>0.074910</td>\n",
       "      <td>0.307315</td>\n",
       "      <td>1.697309</td>\n",
       "      <td>0.037287</td>\n",
       "      <td>0.538698</td>\n",
       "      <td>15.730890</td>\n",
       "      <td>...</td>\n",
       "      <td>0.0</td>\n",
       "      <td>0.0</td>\n",
       "      <td>0.0</td>\n",
       "      <td>0.0</td>\n",
       "      <td>0.0</td>\n",
       "      <td>0.0</td>\n",
       "      <td>0.0</td>\n",
       "      <td>0.0</td>\n",
       "      <td>0.012058</td>\n",
       "      <td>1.0</td>\n",
       "    </tr>\n",
       "    <tr>\n",
       "      <th>29</th>\n",
       "      <td>6.542012</td>\n",
       "      <td>4.936782</td>\n",
       "      <td>29.819246</td>\n",
       "      <td>2.484937</td>\n",
       "      <td>0.397870</td>\n",
       "      <td>0.220084</td>\n",
       "      <td>1.939689</td>\n",
       "      <td>0.484755</td>\n",
       "      <td>0.142505</td>\n",
       "      <td>20.395610</td>\n",
       "      <td>...</td>\n",
       "      <td>0.0</td>\n",
       "      <td>0.0</td>\n",
       "      <td>0.0</td>\n",
       "      <td>0.0</td>\n",
       "      <td>0.0</td>\n",
       "      <td>0.0</td>\n",
       "      <td>0.0</td>\n",
       "      <td>0.0</td>\n",
       "      <td>0.011301</td>\n",
       "      <td>0.0</td>\n",
       "    </tr>\n",
       "    <tr>\n",
       "      <th>...</th>\n",
       "      <td>...</td>\n",
       "      <td>...</td>\n",
       "      <td>...</td>\n",
       "      <td>...</td>\n",
       "      <td>...</td>\n",
       "      <td>...</td>\n",
       "      <td>...</td>\n",
       "      <td>...</td>\n",
       "      <td>...</td>\n",
       "      <td>...</td>\n",
       "      <td>...</td>\n",
       "      <td>...</td>\n",
       "      <td>...</td>\n",
       "      <td>...</td>\n",
       "      <td>...</td>\n",
       "      <td>...</td>\n",
       "      <td>...</td>\n",
       "      <td>...</td>\n",
       "      <td>...</td>\n",
       "      <td>...</td>\n",
       "      <td>...</td>\n",
       "    </tr>\n",
       "    <tr>\n",
       "      <th>30441</th>\n",
       "      <td>1.482746</td>\n",
       "      <td>1.036568</td>\n",
       "      <td>13.459068</td>\n",
       "      <td>1.121589</td>\n",
       "      <td>1.048962</td>\n",
       "      <td>0.269716</td>\n",
       "      <td>0.284300</td>\n",
       "      <td>0.189089</td>\n",
       "      <td>2.640803</td>\n",
       "      <td>10.378040</td>\n",
       "      <td>...</td>\n",
       "      <td>0.0</td>\n",
       "      <td>0.0</td>\n",
       "      <td>0.0</td>\n",
       "      <td>0.0</td>\n",
       "      <td>0.0</td>\n",
       "      <td>0.0</td>\n",
       "      <td>0.0</td>\n",
       "      <td>0.0</td>\n",
       "      <td>0.010315</td>\n",
       "      <td>1.0</td>\n",
       "    </tr>\n",
       "    <tr>\n",
       "      <th>30442</th>\n",
       "      <td>3.121542</td>\n",
       "      <td>2.436882</td>\n",
       "      <td>29.242588</td>\n",
       "      <td>2.436882</td>\n",
       "      <td>0.745286</td>\n",
       "      <td>0.936324</td>\n",
       "      <td>1.773759</td>\n",
       "      <td>0.456704</td>\n",
       "      <td>1.018137</td>\n",
       "      <td>1.014447</td>\n",
       "      <td>...</td>\n",
       "      <td>0.0</td>\n",
       "      <td>0.0</td>\n",
       "      <td>0.0</td>\n",
       "      <td>0.0</td>\n",
       "      <td>0.0</td>\n",
       "      <td>0.0</td>\n",
       "      <td>0.0</td>\n",
       "      <td>0.0</td>\n",
       "      <td>0.000331</td>\n",
       "      <td>1.0</td>\n",
       "    </tr>\n",
       "    <tr>\n",
       "      <th>30443</th>\n",
       "      <td>3.343157</td>\n",
       "      <td>2.037572</td>\n",
       "      <td>24.450869</td>\n",
       "      <td>2.037572</td>\n",
       "      <td>0.230087</td>\n",
       "      <td>0.044599</td>\n",
       "      <td>0.625673</td>\n",
       "      <td>0.360319</td>\n",
       "      <td>0.631064</td>\n",
       "      <td>16.103650</td>\n",
       "      <td>...</td>\n",
       "      <td>0.0</td>\n",
       "      <td>0.0</td>\n",
       "      <td>0.0</td>\n",
       "      <td>0.0</td>\n",
       "      <td>0.0</td>\n",
       "      <td>0.0</td>\n",
       "      <td>0.0</td>\n",
       "      <td>0.0</td>\n",
       "      <td>0.010058</td>\n",
       "      <td>0.0</td>\n",
       "    </tr>\n",
       "    <tr>\n",
       "      <th>30444</th>\n",
       "      <td>2.256099</td>\n",
       "      <td>1.050361</td>\n",
       "      <td>11.322397</td>\n",
       "      <td>0.943533</td>\n",
       "      <td>0.958374</td>\n",
       "      <td>0.631866</td>\n",
       "      <td>0.973781</td>\n",
       "      <td>0.038323</td>\n",
       "      <td>0.729962</td>\n",
       "      <td>16.727180</td>\n",
       "      <td>...</td>\n",
       "      <td>0.0</td>\n",
       "      <td>0.0</td>\n",
       "      <td>0.0</td>\n",
       "      <td>0.0</td>\n",
       "      <td>0.0</td>\n",
       "      <td>0.0</td>\n",
       "      <td>0.0</td>\n",
       "      <td>0.0</td>\n",
       "      <td>0.014183</td>\n",
       "      <td>1.0</td>\n",
       "    </tr>\n",
       "    <tr>\n",
       "      <th>30445</th>\n",
       "      <td>3.380114</td>\n",
       "      <td>2.117112</td>\n",
       "      <td>25.004226</td>\n",
       "      <td>2.083685</td>\n",
       "      <td>0.726512</td>\n",
       "      <td>1.071225</td>\n",
       "      <td>1.717844</td>\n",
       "      <td>0.395254</td>\n",
       "      <td>0.000000</td>\n",
       "      <td>14.695410</td>\n",
       "      <td>...</td>\n",
       "      <td>0.0</td>\n",
       "      <td>0.0</td>\n",
       "      <td>0.0</td>\n",
       "      <td>0.0</td>\n",
       "      <td>0.0</td>\n",
       "      <td>0.0</td>\n",
       "      <td>0.0</td>\n",
       "      <td>0.0</td>\n",
       "      <td>0.009291</td>\n",
       "      <td>1.0</td>\n",
       "    </tr>\n",
       "    <tr>\n",
       "      <th>30446</th>\n",
       "      <td>7.576081</td>\n",
       "      <td>5.938380</td>\n",
       "      <td>71.012576</td>\n",
       "      <td>5.917715</td>\n",
       "      <td>3.829123</td>\n",
       "      <td>4.272721</td>\n",
       "      <td>3.848776</td>\n",
       "      <td>0.207943</td>\n",
       "      <td>0.678044</td>\n",
       "      <td>8.813134</td>\n",
       "      <td>...</td>\n",
       "      <td>0.0</td>\n",
       "      <td>0.0</td>\n",
       "      <td>0.0</td>\n",
       "      <td>0.0</td>\n",
       "      <td>0.0</td>\n",
       "      <td>0.0</td>\n",
       "      <td>0.0</td>\n",
       "      <td>0.0</td>\n",
       "      <td>0.000143</td>\n",
       "      <td>1.0</td>\n",
       "    </tr>\n",
       "    <tr>\n",
       "      <th>30447</th>\n",
       "      <td>3.343157</td>\n",
       "      <td>2.037572</td>\n",
       "      <td>24.450869</td>\n",
       "      <td>2.037572</td>\n",
       "      <td>0.230087</td>\n",
       "      <td>0.044599</td>\n",
       "      <td>0.625673</td>\n",
       "      <td>0.360319</td>\n",
       "      <td>0.631064</td>\n",
       "      <td>16.103650</td>\n",
       "      <td>...</td>\n",
       "      <td>0.0</td>\n",
       "      <td>0.0</td>\n",
       "      <td>0.0</td>\n",
       "      <td>0.0</td>\n",
       "      <td>0.0</td>\n",
       "      <td>0.0</td>\n",
       "      <td>0.0</td>\n",
       "      <td>0.0</td>\n",
       "      <td>0.010058</td>\n",
       "      <td>0.0</td>\n",
       "    </tr>\n",
       "    <tr>\n",
       "      <th>30448</th>\n",
       "      <td>8.458554</td>\n",
       "      <td>6.732362</td>\n",
       "      <td>68.402944</td>\n",
       "      <td>5.700245</td>\n",
       "      <td>3.861878</td>\n",
       "      <td>3.532680</td>\n",
       "      <td>6.520123</td>\n",
       "      <td>0.183506</td>\n",
       "      <td>0.238926</td>\n",
       "      <td>13.997580</td>\n",
       "      <td>...</td>\n",
       "      <td>0.0</td>\n",
       "      <td>0.0</td>\n",
       "      <td>0.0</td>\n",
       "      <td>0.0</td>\n",
       "      <td>0.0</td>\n",
       "      <td>0.0</td>\n",
       "      <td>0.0</td>\n",
       "      <td>0.0</td>\n",
       "      <td>0.000541</td>\n",
       "      <td>1.0</td>\n",
       "    </tr>\n",
       "    <tr>\n",
       "      <th>30449</th>\n",
       "      <td>3.380114</td>\n",
       "      <td>2.117112</td>\n",
       "      <td>25.004226</td>\n",
       "      <td>2.083685</td>\n",
       "      <td>0.726512</td>\n",
       "      <td>1.071225</td>\n",
       "      <td>1.717844</td>\n",
       "      <td>0.395254</td>\n",
       "      <td>0.000000</td>\n",
       "      <td>14.695410</td>\n",
       "      <td>...</td>\n",
       "      <td>0.0</td>\n",
       "      <td>0.0</td>\n",
       "      <td>0.0</td>\n",
       "      <td>0.0</td>\n",
       "      <td>0.0</td>\n",
       "      <td>0.0</td>\n",
       "      <td>0.0</td>\n",
       "      <td>0.0</td>\n",
       "      <td>0.009291</td>\n",
       "      <td>1.0</td>\n",
       "    </tr>\n",
       "    <tr>\n",
       "      <th>30450</th>\n",
       "      <td>3.117263</td>\n",
       "      <td>1.660396</td>\n",
       "      <td>19.924755</td>\n",
       "      <td>1.660396</td>\n",
       "      <td>0.092937</td>\n",
       "      <td>0.435947</td>\n",
       "      <td>1.359138</td>\n",
       "      <td>0.432031</td>\n",
       "      <td>1.122768</td>\n",
       "      <td>22.081640</td>\n",
       "      <td>...</td>\n",
       "      <td>0.0</td>\n",
       "      <td>0.0</td>\n",
       "      <td>0.0</td>\n",
       "      <td>0.0</td>\n",
       "      <td>0.0</td>\n",
       "      <td>0.0</td>\n",
       "      <td>0.0</td>\n",
       "      <td>0.0</td>\n",
       "      <td>0.017459</td>\n",
       "      <td>0.0</td>\n",
       "    </tr>\n",
       "    <tr>\n",
       "      <th>30451</th>\n",
       "      <td>32.400256</td>\n",
       "      <td>37.907517</td>\n",
       "      <td>534.645955</td>\n",
       "      <td>44.553830</td>\n",
       "      <td>23.526686</td>\n",
       "      <td>26.499723</td>\n",
       "      <td>16.769467</td>\n",
       "      <td>0.556235</td>\n",
       "      <td>5.910545</td>\n",
       "      <td>37.667390</td>\n",
       "      <td>...</td>\n",
       "      <td>0.0</td>\n",
       "      <td>0.0</td>\n",
       "      <td>0.0</td>\n",
       "      <td>0.0</td>\n",
       "      <td>0.0</td>\n",
       "      <td>0.0</td>\n",
       "      <td>0.0</td>\n",
       "      <td>0.0</td>\n",
       "      <td>0.000041</td>\n",
       "      <td>1.0</td>\n",
       "    </tr>\n",
       "    <tr>\n",
       "      <th>30452</th>\n",
       "      <td>5.183068</td>\n",
       "      <td>3.778300</td>\n",
       "      <td>45.339596</td>\n",
       "      <td>3.778300</td>\n",
       "      <td>0.463896</td>\n",
       "      <td>0.827176</td>\n",
       "      <td>1.504747</td>\n",
       "      <td>0.237011</td>\n",
       "      <td>0.675151</td>\n",
       "      <td>14.420450</td>\n",
       "      <td>...</td>\n",
       "      <td>0.0</td>\n",
       "      <td>0.0</td>\n",
       "      <td>0.0</td>\n",
       "      <td>0.0</td>\n",
       "      <td>0.0</td>\n",
       "      <td>0.0</td>\n",
       "      <td>0.0</td>\n",
       "      <td>0.0</td>\n",
       "      <td>0.006781</td>\n",
       "      <td>0.0</td>\n",
       "    </tr>\n",
       "    <tr>\n",
       "      <th>30453</th>\n",
       "      <td>4.890878</td>\n",
       "      <td>2.860399</td>\n",
       "      <td>19.251380</td>\n",
       "      <td>1.604282</td>\n",
       "      <td>0.727786</td>\n",
       "      <td>1.002582</td>\n",
       "      <td>3.658193</td>\n",
       "      <td>0.000000</td>\n",
       "      <td>1.810046</td>\n",
       "      <td>4.134976</td>\n",
       "      <td>...</td>\n",
       "      <td>0.0</td>\n",
       "      <td>0.0</td>\n",
       "      <td>0.0</td>\n",
       "      <td>0.0</td>\n",
       "      <td>0.0</td>\n",
       "      <td>0.0</td>\n",
       "      <td>0.0</td>\n",
       "      <td>0.0</td>\n",
       "      <td>0.006816</td>\n",
       "      <td>1.0</td>\n",
       "    </tr>\n",
       "    <tr>\n",
       "      <th>30454</th>\n",
       "      <td>1.746389</td>\n",
       "      <td>1.242111</td>\n",
       "      <td>14.842129</td>\n",
       "      <td>1.236844</td>\n",
       "      <td>0.082434</td>\n",
       "      <td>0.152964</td>\n",
       "      <td>2.783188</td>\n",
       "      <td>0.204512</td>\n",
       "      <td>0.501588</td>\n",
       "      <td>16.663030</td>\n",
       "      <td>...</td>\n",
       "      <td>0.0</td>\n",
       "      <td>0.0</td>\n",
       "      <td>0.0</td>\n",
       "      <td>0.0</td>\n",
       "      <td>0.0</td>\n",
       "      <td>0.0</td>\n",
       "      <td>0.0</td>\n",
       "      <td>0.0</td>\n",
       "      <td>0.012058</td>\n",
       "      <td>1.0</td>\n",
       "    </tr>\n",
       "    <tr>\n",
       "      <th>30455</th>\n",
       "      <td>2.596394</td>\n",
       "      <td>2.077115</td>\n",
       "      <td>24.925384</td>\n",
       "      <td>2.077115</td>\n",
       "      <td>1.170413</td>\n",
       "      <td>1.545730</td>\n",
       "      <td>4.894845</td>\n",
       "      <td>0.214336</td>\n",
       "      <td>0.117490</td>\n",
       "      <td>17.049540</td>\n",
       "      <td>...</td>\n",
       "      <td>0.0</td>\n",
       "      <td>0.0</td>\n",
       "      <td>0.0</td>\n",
       "      <td>0.0</td>\n",
       "      <td>0.0</td>\n",
       "      <td>0.0</td>\n",
       "      <td>0.0</td>\n",
       "      <td>0.0</td>\n",
       "      <td>0.000157</td>\n",
       "      <td>1.0</td>\n",
       "    </tr>\n",
       "    <tr>\n",
       "      <th>30456</th>\n",
       "      <td>1.207656</td>\n",
       "      <td>0.695893</td>\n",
       "      <td>8.350721</td>\n",
       "      <td>0.695893</td>\n",
       "      <td>0.621263</td>\n",
       "      <td>0.316661</td>\n",
       "      <td>0.973809</td>\n",
       "      <td>0.079039</td>\n",
       "      <td>0.547333</td>\n",
       "      <td>16.791370</td>\n",
       "      <td>...</td>\n",
       "      <td>0.0</td>\n",
       "      <td>0.0</td>\n",
       "      <td>0.0</td>\n",
       "      <td>0.0</td>\n",
       "      <td>0.0</td>\n",
       "      <td>0.0</td>\n",
       "      <td>0.0</td>\n",
       "      <td>0.0</td>\n",
       "      <td>0.014183</td>\n",
       "      <td>1.0</td>\n",
       "    </tr>\n",
       "    <tr>\n",
       "      <th>30457</th>\n",
       "      <td>10.010509</td>\n",
       "      <td>7.009630</td>\n",
       "      <td>84.480123</td>\n",
       "      <td>7.040010</td>\n",
       "      <td>0.123436</td>\n",
       "      <td>0.174792</td>\n",
       "      <td>2.175829</td>\n",
       "      <td>0.833910</td>\n",
       "      <td>2.196639</td>\n",
       "      <td>23.798810</td>\n",
       "      <td>...</td>\n",
       "      <td>0.0</td>\n",
       "      <td>0.0</td>\n",
       "      <td>0.0</td>\n",
       "      <td>0.0</td>\n",
       "      <td>0.0</td>\n",
       "      <td>0.0</td>\n",
       "      <td>0.0</td>\n",
       "      <td>0.0</td>\n",
       "      <td>0.011301</td>\n",
       "      <td>0.0</td>\n",
       "    </tr>\n",
       "    <tr>\n",
       "      <th>30458</th>\n",
       "      <td>2.523793</td>\n",
       "      <td>1.780698</td>\n",
       "      <td>21.368381</td>\n",
       "      <td>1.780698</td>\n",
       "      <td>1.075395</td>\n",
       "      <td>1.690124</td>\n",
       "      <td>2.166759</td>\n",
       "      <td>0.294153</td>\n",
       "      <td>0.437857</td>\n",
       "      <td>15.164050</td>\n",
       "      <td>...</td>\n",
       "      <td>0.0</td>\n",
       "      <td>0.0</td>\n",
       "      <td>0.0</td>\n",
       "      <td>0.0</td>\n",
       "      <td>0.0</td>\n",
       "      <td>0.0</td>\n",
       "      <td>0.0</td>\n",
       "      <td>0.0</td>\n",
       "      <td>0.000541</td>\n",
       "      <td>1.0</td>\n",
       "    </tr>\n",
       "    <tr>\n",
       "      <th>30459</th>\n",
       "      <td>3.343157</td>\n",
       "      <td>2.037572</td>\n",
       "      <td>24.450869</td>\n",
       "      <td>2.037572</td>\n",
       "      <td>0.230087</td>\n",
       "      <td>0.044599</td>\n",
       "      <td>0.625673</td>\n",
       "      <td>0.360319</td>\n",
       "      <td>0.631064</td>\n",
       "      <td>16.103650</td>\n",
       "      <td>...</td>\n",
       "      <td>0.0</td>\n",
       "      <td>0.0</td>\n",
       "      <td>0.0</td>\n",
       "      <td>0.0</td>\n",
       "      <td>0.0</td>\n",
       "      <td>0.0</td>\n",
       "      <td>0.0</td>\n",
       "      <td>0.0</td>\n",
       "      <td>0.010058</td>\n",
       "      <td>0.0</td>\n",
       "    </tr>\n",
       "    <tr>\n",
       "      <th>30460</th>\n",
       "      <td>1.817750</td>\n",
       "      <td>1.359065</td>\n",
       "      <td>14.473533</td>\n",
       "      <td>1.206128</td>\n",
       "      <td>0.332310</td>\n",
       "      <td>0.288461</td>\n",
       "      <td>0.967196</td>\n",
       "      <td>0.203649</td>\n",
       "      <td>1.824382</td>\n",
       "      <td>9.477324</td>\n",
       "      <td>...</td>\n",
       "      <td>0.0</td>\n",
       "      <td>0.0</td>\n",
       "      <td>0.0</td>\n",
       "      <td>0.0</td>\n",
       "      <td>0.0</td>\n",
       "      <td>0.0</td>\n",
       "      <td>0.0</td>\n",
       "      <td>0.0</td>\n",
       "      <td>0.007046</td>\n",
       "      <td>1.0</td>\n",
       "    </tr>\n",
       "    <tr>\n",
       "      <th>30461</th>\n",
       "      <td>3.000099</td>\n",
       "      <td>1.596772</td>\n",
       "      <td>17.619417</td>\n",
       "      <td>1.468285</td>\n",
       "      <td>0.417062</td>\n",
       "      <td>0.249355</td>\n",
       "      <td>1.198874</td>\n",
       "      <td>0.364467</td>\n",
       "      <td>1.240444</td>\n",
       "      <td>9.872418</td>\n",
       "      <td>...</td>\n",
       "      <td>0.0</td>\n",
       "      <td>0.0</td>\n",
       "      <td>0.0</td>\n",
       "      <td>0.0</td>\n",
       "      <td>0.0</td>\n",
       "      <td>0.0</td>\n",
       "      <td>0.0</td>\n",
       "      <td>0.0</td>\n",
       "      <td>0.012994</td>\n",
       "      <td>1.0</td>\n",
       "    </tr>\n",
       "    <tr>\n",
       "      <th>30462</th>\n",
       "      <td>3.380114</td>\n",
       "      <td>2.117112</td>\n",
       "      <td>25.004226</td>\n",
       "      <td>2.083685</td>\n",
       "      <td>0.726512</td>\n",
       "      <td>1.071225</td>\n",
       "      <td>1.717844</td>\n",
       "      <td>0.395254</td>\n",
       "      <td>0.000000</td>\n",
       "      <td>14.695410</td>\n",
       "      <td>...</td>\n",
       "      <td>0.0</td>\n",
       "      <td>0.0</td>\n",
       "      <td>0.0</td>\n",
       "      <td>0.0</td>\n",
       "      <td>0.0</td>\n",
       "      <td>0.0</td>\n",
       "      <td>0.0</td>\n",
       "      <td>0.0</td>\n",
       "      <td>0.009291</td>\n",
       "      <td>1.0</td>\n",
       "    </tr>\n",
       "    <tr>\n",
       "      <th>30463</th>\n",
       "      <td>2.622565</td>\n",
       "      <td>1.580238</td>\n",
       "      <td>8.510351</td>\n",
       "      <td>0.709196</td>\n",
       "      <td>0.225720</td>\n",
       "      <td>0.193474</td>\n",
       "      <td>1.876243</td>\n",
       "      <td>0.349807</td>\n",
       "      <td>1.646417</td>\n",
       "      <td>16.656070</td>\n",
       "      <td>...</td>\n",
       "      <td>0.0</td>\n",
       "      <td>0.0</td>\n",
       "      <td>0.0</td>\n",
       "      <td>0.0</td>\n",
       "      <td>0.0</td>\n",
       "      <td>0.0</td>\n",
       "      <td>0.0</td>\n",
       "      <td>0.0</td>\n",
       "      <td>0.016907</td>\n",
       "      <td>1.0</td>\n",
       "    </tr>\n",
       "    <tr>\n",
       "      <th>30464</th>\n",
       "      <td>0.815305</td>\n",
       "      <td>0.652244</td>\n",
       "      <td>7.447930</td>\n",
       "      <td>0.620661</td>\n",
       "      <td>0.414927</td>\n",
       "      <td>0.566309</td>\n",
       "      <td>0.680210</td>\n",
       "      <td>0.143626</td>\n",
       "      <td>0.000000</td>\n",
       "      <td>20.271190</td>\n",
       "      <td>...</td>\n",
       "      <td>0.0</td>\n",
       "      <td>0.0</td>\n",
       "      <td>0.0</td>\n",
       "      <td>0.0</td>\n",
       "      <td>0.0</td>\n",
       "      <td>0.0</td>\n",
       "      <td>0.0</td>\n",
       "      <td>0.0</td>\n",
       "      <td>0.013580</td>\n",
       "      <td>0.0</td>\n",
       "    </tr>\n",
       "    <tr>\n",
       "      <th>30465</th>\n",
       "      <td>1.482746</td>\n",
       "      <td>1.036568</td>\n",
       "      <td>13.459068</td>\n",
       "      <td>1.121589</td>\n",
       "      <td>1.048962</td>\n",
       "      <td>0.269716</td>\n",
       "      <td>0.284300</td>\n",
       "      <td>0.189089</td>\n",
       "      <td>2.640803</td>\n",
       "      <td>10.378040</td>\n",
       "      <td>...</td>\n",
       "      <td>0.0</td>\n",
       "      <td>0.0</td>\n",
       "      <td>0.0</td>\n",
       "      <td>0.0</td>\n",
       "      <td>0.0</td>\n",
       "      <td>0.0</td>\n",
       "      <td>0.0</td>\n",
       "      <td>0.0</td>\n",
       "      <td>0.010315</td>\n",
       "      <td>1.0</td>\n",
       "    </tr>\n",
       "    <tr>\n",
       "      <th>30466</th>\n",
       "      <td>1.384021</td>\n",
       "      <td>0.659002</td>\n",
       "      <td>8.158093</td>\n",
       "      <td>0.679841</td>\n",
       "      <td>0.132645</td>\n",
       "      <td>0.349899</td>\n",
       "      <td>1.972527</td>\n",
       "      <td>0.139814</td>\n",
       "      <td>0.702853</td>\n",
       "      <td>22.746320</td>\n",
       "      <td>...</td>\n",
       "      <td>0.0</td>\n",
       "      <td>0.0</td>\n",
       "      <td>0.0</td>\n",
       "      <td>0.0</td>\n",
       "      <td>0.0</td>\n",
       "      <td>0.0</td>\n",
       "      <td>0.0</td>\n",
       "      <td>0.0</td>\n",
       "      <td>0.017459</td>\n",
       "      <td>0.0</td>\n",
       "    </tr>\n",
       "    <tr>\n",
       "      <th>30467</th>\n",
       "      <td>1.060577</td>\n",
       "      <td>0.781217</td>\n",
       "      <td>9.374609</td>\n",
       "      <td>0.781217</td>\n",
       "      <td>0.276256</td>\n",
       "      <td>0.362681</td>\n",
       "      <td>1.036452</td>\n",
       "      <td>0.271861</td>\n",
       "      <td>0.473020</td>\n",
       "      <td>13.867820</td>\n",
       "      <td>...</td>\n",
       "      <td>0.0</td>\n",
       "      <td>0.0</td>\n",
       "      <td>0.0</td>\n",
       "      <td>0.0</td>\n",
       "      <td>0.0</td>\n",
       "      <td>0.0</td>\n",
       "      <td>0.0</td>\n",
       "      <td>0.0</td>\n",
       "      <td>0.010315</td>\n",
       "      <td>1.0</td>\n",
       "    </tr>\n",
       "    <tr>\n",
       "      <th>30468</th>\n",
       "      <td>2.152792</td>\n",
       "      <td>1.722233</td>\n",
       "      <td>20.666800</td>\n",
       "      <td>1.722233</td>\n",
       "      <td>0.897889</td>\n",
       "      <td>1.234235</td>\n",
       "      <td>4.566595</td>\n",
       "      <td>0.427248</td>\n",
       "      <td>0.353642</td>\n",
       "      <td>16.784630</td>\n",
       "      <td>...</td>\n",
       "      <td>0.0</td>\n",
       "      <td>0.0</td>\n",
       "      <td>0.0</td>\n",
       "      <td>0.0</td>\n",
       "      <td>0.0</td>\n",
       "      <td>0.0</td>\n",
       "      <td>0.0</td>\n",
       "      <td>0.0</td>\n",
       "      <td>0.000157</td>\n",
       "      <td>1.0</td>\n",
       "    </tr>\n",
       "    <tr>\n",
       "      <th>30469</th>\n",
       "      <td>3.377814</td>\n",
       "      <td>2.047312</td>\n",
       "      <td>24.567748</td>\n",
       "      <td>2.047312</td>\n",
       "      <td>0.203020</td>\n",
       "      <td>0.130667</td>\n",
       "      <td>1.772506</td>\n",
       "      <td>0.227547</td>\n",
       "      <td>2.397723</td>\n",
       "      <td>11.397520</td>\n",
       "      <td>...</td>\n",
       "      <td>0.0</td>\n",
       "      <td>0.0</td>\n",
       "      <td>0.0</td>\n",
       "      <td>0.0</td>\n",
       "      <td>0.0</td>\n",
       "      <td>0.0</td>\n",
       "      <td>0.0</td>\n",
       "      <td>0.0</td>\n",
       "      <td>0.012994</td>\n",
       "      <td>1.0</td>\n",
       "    </tr>\n",
       "    <tr>\n",
       "      <th>30470</th>\n",
       "      <td>0.584636</td>\n",
       "      <td>0.454650</td>\n",
       "      <td>5.455795</td>\n",
       "      <td>0.454650</td>\n",
       "      <td>0.093619</td>\n",
       "      <td>0.378950</td>\n",
       "      <td>0.848766</td>\n",
       "      <td>0.559699</td>\n",
       "      <td>0.455194</td>\n",
       "      <td>10.451010</td>\n",
       "      <td>...</td>\n",
       "      <td>0.0</td>\n",
       "      <td>0.0</td>\n",
       "      <td>0.0</td>\n",
       "      <td>0.0</td>\n",
       "      <td>0.0</td>\n",
       "      <td>0.0</td>\n",
       "      <td>0.0</td>\n",
       "      <td>0.0</td>\n",
       "      <td>0.021514</td>\n",
       "      <td>1.0</td>\n",
       "    </tr>\n",
       "  </tbody>\n",
       "</table>\n",
       "<p>30217 rows × 372 columns</p>\n",
       "</div>"
      ],
      "text/plain": [
       "       metro_min_avto  metro_km_avto  metro_min_walk  metro_km_walk  \\\n",
       "0            2.590241       1.131260       13.575119       1.131260   \n",
       "1            0.936700       0.647337        7.620630       0.635053   \n",
       "2            2.120999       1.637996       17.351515       1.445960   \n",
       "3            1.489049       0.984537       11.565624       0.963802   \n",
       "4            1.257186       0.876620        8.266305       0.688859   \n",
       "5            2.735884       1.593246       18.378170       1.531514   \n",
       "6            1.453762       1.026916       12.322993       1.026916   \n",
       "7            3.623270       1.593203       11.527788       0.960649   \n",
       "8            2.175431       1.338707       14.742289       1.228524   \n",
       "9            1.383373       0.396275        4.755297       0.396275   \n",
       "10           1.775183       1.278159       14.860185       1.238349   \n",
       "11           2.844125       2.067243       27.678043       2.306504   \n",
       "12           2.124787       1.623329       19.479949       1.623329   \n",
       "13           1.598880       1.214706       14.576476       1.214706   \n",
       "14           1.023328       0.590130        7.081564       0.590130   \n",
       "15           1.495313       1.045237       12.542844       1.045237   \n",
       "16           0.908195       0.683326        7.453252       0.621104   \n",
       "17           1.612975       1.183976       14.134526       1.177877   \n",
       "18           2.047848       1.428758       17.145101       1.428758   \n",
       "19           1.945643       1.381080       15.912103       1.326009   \n",
       "20           8.895392       8.120823       71.554924       5.962910   \n",
       "21           2.785478       1.972994       23.469116       1.955760   \n",
       "22           2.784609       1.636491       17.881361       1.490113   \n",
       "23           0.071568       0.057255        0.687058       0.057255   \n",
       "24           3.371172       2.580971       30.656268       2.554689   \n",
       "25           2.289276       1.251643       14.500328       1.208361   \n",
       "26           1.642215       1.041398       12.266605       1.022217   \n",
       "27           1.556290       1.106384       13.119129       1.093261   \n",
       "28           1.420364       1.033409       11.302103       0.941842   \n",
       "29           6.542012       4.936782       29.819246       2.484937   \n",
       "...               ...            ...             ...            ...   \n",
       "30441        1.482746       1.036568       13.459068       1.121589   \n",
       "30442        3.121542       2.436882       29.242588       2.436882   \n",
       "30443        3.343157       2.037572       24.450869       2.037572   \n",
       "30444        2.256099       1.050361       11.322397       0.943533   \n",
       "30445        3.380114       2.117112       25.004226       2.083685   \n",
       "30446        7.576081       5.938380       71.012576       5.917715   \n",
       "30447        3.343157       2.037572       24.450869       2.037572   \n",
       "30448        8.458554       6.732362       68.402944       5.700245   \n",
       "30449        3.380114       2.117112       25.004226       2.083685   \n",
       "30450        3.117263       1.660396       19.924755       1.660396   \n",
       "30451       32.400256      37.907517      534.645955      44.553830   \n",
       "30452        5.183068       3.778300       45.339596       3.778300   \n",
       "30453        4.890878       2.860399       19.251380       1.604282   \n",
       "30454        1.746389       1.242111       14.842129       1.236844   \n",
       "30455        2.596394       2.077115       24.925384       2.077115   \n",
       "30456        1.207656       0.695893        8.350721       0.695893   \n",
       "30457       10.010509       7.009630       84.480123       7.040010   \n",
       "30458        2.523793       1.780698       21.368381       1.780698   \n",
       "30459        3.343157       2.037572       24.450869       2.037572   \n",
       "30460        1.817750       1.359065       14.473533       1.206128   \n",
       "30461        3.000099       1.596772       17.619417       1.468285   \n",
       "30462        3.380114       2.117112       25.004226       2.083685   \n",
       "30463        2.622565       1.580238        8.510351       0.709196   \n",
       "30464        0.815305       0.652244        7.447930       0.620661   \n",
       "30465        1.482746       1.036568       13.459068       1.121589   \n",
       "30466        1.384021       0.659002        8.158093       0.679841   \n",
       "30467        1.060577       0.781217        9.374609       0.781217   \n",
       "30468        2.152792       1.722233       20.666800       1.722233   \n",
       "30469        3.377814       2.047312       24.567748       2.047312   \n",
       "30470        0.584636       0.454650        5.455795       0.454650   \n",
       "\n",
       "       kindergarten_km  school_km    park_km  green_zone_km  industrial_km  \\\n",
       "0             0.145700   0.177975   2.158587       0.600973       1.080934   \n",
       "1             0.147754   0.273345   0.550690       0.065321       0.966479   \n",
       "2             0.049102   0.158072   0.374848       0.453172       0.939275   \n",
       "3             0.179441   0.236455   0.078090       0.106125       0.451173   \n",
       "4             0.247901   0.376838   0.258289       0.236214       0.392871   \n",
       "5             0.145955   0.113466   1.073495       1.497903       0.256487   \n",
       "6             0.501166   0.516979   2.393239       0.632445       0.707268   \n",
       "7             0.134365   0.581511   1.602056       0.165124       1.166992   \n",
       "8             0.112905   0.256589   0.939584       0.148957       0.670432   \n",
       "9             0.309673   0.150686   1.969774       0.191191       2.024971   \n",
       "10            0.175444   0.317739   0.202279       0.191740       0.859735   \n",
       "11            0.341368   0.185713   0.847394       0.455926       0.343829   \n",
       "12            0.240614   0.725989   2.370263       0.441058       0.093758   \n",
       "13            0.478112   0.718828   0.448685       0.086053       0.652803   \n",
       "14            0.196604   0.797255   1.479844       0.385974       0.256814   \n",
       "15            0.238081   0.302749   1.123550       0.175785       1.836321   \n",
       "16            0.354595   0.266978   1.093671       0.125797       2.055711   \n",
       "17            0.303114   0.462189   1.413752       0.263064       0.052200   \n",
       "18            0.161435   0.678491   0.421275       0.198449       0.911485   \n",
       "19            0.321336   0.372239   2.584343       0.811783       0.222715   \n",
       "20            0.323308   2.500105   9.901545       0.190786       0.805917   \n",
       "21            0.853442   0.479055   0.913520       0.371158       0.146313   \n",
       "22            0.597949   0.335632   1.695243       0.219683       1.339620   \n",
       "23            0.166564   0.426455   3.206931       0.484076       0.709987   \n",
       "24            0.145299   1.216064   1.667605       0.088998       0.348829   \n",
       "25            0.354140   0.217198   1.265683       0.015624       1.731291   \n",
       "26            0.277521   0.081256   1.662162       0.295891       0.984545   \n",
       "27            0.409804   0.187100   2.361151       0.564689       0.455460   \n",
       "28            0.074910   0.307315   1.697309       0.037287       0.538698   \n",
       "29            0.397870   0.220084   1.939689       0.484755       0.142505   \n",
       "...                ...        ...        ...            ...            ...   \n",
       "30441         1.048962   0.269716   0.284300       0.189089       2.640803   \n",
       "30442         0.745286   0.936324   1.773759       0.456704       1.018137   \n",
       "30443         0.230087   0.044599   0.625673       0.360319       0.631064   \n",
       "30444         0.958374   0.631866   0.973781       0.038323       0.729962   \n",
       "30445         0.726512   1.071225   1.717844       0.395254       0.000000   \n",
       "30446         3.829123   4.272721   3.848776       0.207943       0.678044   \n",
       "30447         0.230087   0.044599   0.625673       0.360319       0.631064   \n",
       "30448         3.861878   3.532680   6.520123       0.183506       0.238926   \n",
       "30449         0.726512   1.071225   1.717844       0.395254       0.000000   \n",
       "30450         0.092937   0.435947   1.359138       0.432031       1.122768   \n",
       "30451        23.526686  26.499723  16.769467       0.556235       5.910545   \n",
       "30452         0.463896   0.827176   1.504747       0.237011       0.675151   \n",
       "30453         0.727786   1.002582   3.658193       0.000000       1.810046   \n",
       "30454         0.082434   0.152964   2.783188       0.204512       0.501588   \n",
       "30455         1.170413   1.545730   4.894845       0.214336       0.117490   \n",
       "30456         0.621263   0.316661   0.973809       0.079039       0.547333   \n",
       "30457         0.123436   0.174792   2.175829       0.833910       2.196639   \n",
       "30458         1.075395   1.690124   2.166759       0.294153       0.437857   \n",
       "30459         0.230087   0.044599   0.625673       0.360319       0.631064   \n",
       "30460         0.332310   0.288461   0.967196       0.203649       1.824382   \n",
       "30461         0.417062   0.249355   1.198874       0.364467       1.240444   \n",
       "30462         0.726512   1.071225   1.717844       0.395254       0.000000   \n",
       "30463         0.225720   0.193474   1.876243       0.349807       1.646417   \n",
       "30464         0.414927   0.566309   0.680210       0.143626       0.000000   \n",
       "30465         1.048962   0.269716   0.284300       0.189089       2.640803   \n",
       "30466         0.132645   0.349899   1.972527       0.139814       0.702853   \n",
       "30467         0.276256   0.362681   1.036452       0.271861       0.473020   \n",
       "30468         0.897889   1.234235   4.566595       0.427248       0.353642   \n",
       "30469         0.203020   0.130667   1.772506       0.227547       2.397723   \n",
       "30470         0.093619   0.378950   0.848766       0.559699       0.455194   \n",
       "\n",
       "       water_treatment_km       ...        vostochnoe  vostochnoe degunino  \\\n",
       "0               23.683460       ...               0.0                  0.0   \n",
       "1                1.317476       ...               0.0                  0.0   \n",
       "2                4.912660       ...               0.0                  0.0   \n",
       "3               15.623710       ...               0.0                  0.0   \n",
       "4               10.683540       ...               0.0                  0.0   \n",
       "5                7.186740       ...               0.0                  0.0   \n",
       "6               13.900700       ...               0.0                  0.0   \n",
       "7               23.118380       ...               0.0                  0.0   \n",
       "8               20.940970       ...               0.0                  0.0   \n",
       "9               16.753090       ...               0.0                  0.0   \n",
       "10               4.355838       ...               0.0                  0.0   \n",
       "11              17.940390       ...               0.0                  0.0   \n",
       "12              18.754870       ...               0.0                  0.0   \n",
       "13              13.415910       ...               0.0                  0.0   \n",
       "14               9.341380       ...               0.0                  0.0   \n",
       "15               3.667428       ...               0.0                  0.0   \n",
       "16               5.025273       ...               0.0                  0.0   \n",
       "17               3.683112       ...               0.0                  0.0   \n",
       "18               4.091432       ...               0.0                  0.0   \n",
       "19              16.710690       ...               0.0                  0.0   \n",
       "20              19.375550       ...               0.0                  0.0   \n",
       "21              19.387080       ...               0.0                  0.0   \n",
       "22              17.157090       ...               0.0                  0.0   \n",
       "23               6.808655       ...               0.0                  0.0   \n",
       "24              18.010390       ...               0.0                  0.0   \n",
       "25              15.885430       ...               0.0                  0.0   \n",
       "26              22.317790       ...               0.0                  0.0   \n",
       "27              16.092060       ...               0.0                  0.0   \n",
       "28              15.730890       ...               0.0                  0.0   \n",
       "29              20.395610       ...               0.0                  0.0   \n",
       "...                   ...       ...               ...                  ...   \n",
       "30441           10.378040       ...               0.0                  0.0   \n",
       "30442            1.014447       ...               0.0                  0.0   \n",
       "30443           16.103650       ...               0.0                  0.0   \n",
       "30444           16.727180       ...               0.0                  0.0   \n",
       "30445           14.695410       ...               0.0                  0.0   \n",
       "30446            8.813134       ...               0.0                  0.0   \n",
       "30447           16.103650       ...               0.0                  0.0   \n",
       "30448           13.997580       ...               0.0                  0.0   \n",
       "30449           14.695410       ...               0.0                  0.0   \n",
       "30450           22.081640       ...               0.0                  0.0   \n",
       "30451           37.667390       ...               0.0                  0.0   \n",
       "30452           14.420450       ...               0.0                  0.0   \n",
       "30453            4.134976       ...               0.0                  0.0   \n",
       "30454           16.663030       ...               0.0                  0.0   \n",
       "30455           17.049540       ...               0.0                  0.0   \n",
       "30456           16.791370       ...               0.0                  0.0   \n",
       "30457           23.798810       ...               0.0                  0.0   \n",
       "30458           15.164050       ...               0.0                  0.0   \n",
       "30459           16.103650       ...               0.0                  0.0   \n",
       "30460            9.477324       ...               0.0                  0.0   \n",
       "30461            9.872418       ...               0.0                  0.0   \n",
       "30462           14.695410       ...               0.0                  0.0   \n",
       "30463           16.656070       ...               0.0                  0.0   \n",
       "30464           20.271190       ...               0.0                  0.0   \n",
       "30465           10.378040       ...               0.0                  0.0   \n",
       "30466           22.746320       ...               0.0                  0.0   \n",
       "30467           13.867820       ...               0.0                  0.0   \n",
       "30468           16.784630       ...               0.0                  0.0   \n",
       "30469           11.397520       ...               0.0                  0.0   \n",
       "30470           10.451010       ...               0.0                  0.0   \n",
       "\n",
       "       vostochnoe izmajlovo  vyhino-zhulebino  zamoskvorech'e  \\\n",
       "0                       0.0               0.0             0.0   \n",
       "1                       0.0               0.0             0.0   \n",
       "2                       0.0               0.0             0.0   \n",
       "3                       0.0               0.0             0.0   \n",
       "4                       0.0               0.0             0.0   \n",
       "5                       0.0               0.0             0.0   \n",
       "6                       0.0               0.0             0.0   \n",
       "7                       0.0               0.0             0.0   \n",
       "8                       0.0               0.0             0.0   \n",
       "9                       0.0               0.0             0.0   \n",
       "10                      0.0               0.0             0.0   \n",
       "11                      0.0               0.0             0.0   \n",
       "12                      0.0               0.0             0.0   \n",
       "13                      0.0               0.0             0.0   \n",
       "14                      0.0               0.0             0.0   \n",
       "15                      0.0               0.0             0.0   \n",
       "16                      0.0               0.0             0.0   \n",
       "17                      0.0               0.0             0.0   \n",
       "18                      0.0               0.0             0.0   \n",
       "19                      0.0               0.0             0.0   \n",
       "20                      0.0               0.0             0.0   \n",
       "21                      0.0               0.0             0.0   \n",
       "22                      0.0               0.0             0.0   \n",
       "23                      0.0               0.0             0.0   \n",
       "24                      0.0               0.0             0.0   \n",
       "25                      0.0               0.0             0.0   \n",
       "26                      0.0               0.0             0.0   \n",
       "27                      0.0               0.0             0.0   \n",
       "28                      0.0               0.0             0.0   \n",
       "29                      0.0               0.0             0.0   \n",
       "...                     ...               ...             ...   \n",
       "30441                   0.0               0.0             0.0   \n",
       "30442                   0.0               0.0             0.0   \n",
       "30443                   0.0               0.0             0.0   \n",
       "30444                   0.0               0.0             0.0   \n",
       "30445                   0.0               0.0             0.0   \n",
       "30446                   0.0               0.0             0.0   \n",
       "30447                   0.0               0.0             0.0   \n",
       "30448                   0.0               0.0             0.0   \n",
       "30449                   0.0               0.0             0.0   \n",
       "30450                   0.0               0.0             0.0   \n",
       "30451                   0.0               0.0             0.0   \n",
       "30452                   0.0               0.0             0.0   \n",
       "30453                   0.0               0.0             0.0   \n",
       "30454                   0.0               0.0             0.0   \n",
       "30455                   0.0               0.0             0.0   \n",
       "30456                   0.0               0.0             0.0   \n",
       "30457                   0.0               0.0             0.0   \n",
       "30458                   0.0               0.0             0.0   \n",
       "30459                   0.0               0.0             0.0   \n",
       "30460                   0.0               0.0             0.0   \n",
       "30461                   0.0               0.0             0.0   \n",
       "30462                   0.0               0.0             0.0   \n",
       "30463                   0.0               0.0             0.0   \n",
       "30464                   0.0               0.0             0.0   \n",
       "30465                   0.0               0.0             0.0   \n",
       "30466                   0.0               0.0             0.0   \n",
       "30467                   0.0               0.0             0.0   \n",
       "30468                   0.0               0.0             0.0   \n",
       "30469                   0.0               0.0             0.0   \n",
       "30470                   0.0               0.0             0.0   \n",
       "\n",
       "       zapadnoe degunino  zjablikovo  zjuzino   density  green > indust  \n",
       "0                    0.0         0.0      0.0  0.024279             1.0  \n",
       "1                    0.0         0.0      0.0  0.012029             1.0  \n",
       "2                    0.0         0.0      0.0  0.021153             0.0  \n",
       "3                    0.0         0.0      0.0  0.014183             1.0  \n",
       "4                    0.0         0.0      0.0  0.012880             0.0  \n",
       "5                    0.0         0.0      0.0  0.005834             0.0  \n",
       "6                    0.0         0.0      0.0  0.005562             1.0  \n",
       "7                    0.0         0.0      0.0  0.024279             1.0  \n",
       "8                    0.0         0.0      0.0  0.020253             0.0  \n",
       "9                    0.0         0.0      0.0  0.002721             1.0  \n",
       "10                   0.0         0.0      0.0  0.004846             0.0  \n",
       "11                   1.0         0.0      0.0  0.010325             0.0  \n",
       "12                   0.0         0.0      0.0  0.002721             1.0  \n",
       "13                   0.0         0.0      0.0  0.010593             1.0  \n",
       "14                   0.0         0.0      0.0  0.010004             0.0  \n",
       "15                   0.0         0.0      0.0  0.021053             1.0  \n",
       "16                   0.0         0.0      0.0  0.017815             1.0  \n",
       "17                   0.0         0.0      0.0  0.014712             0.0  \n",
       "18                   0.0         0.0      0.0  0.004846             0.0  \n",
       "19                   0.0         0.0      0.0  0.010990             1.0  \n",
       "20                   0.0         0.0      0.0  0.001373             1.0  \n",
       "21                   0.0         0.0      0.0  0.013240             1.0  \n",
       "22                   0.0         0.0      0.0  0.016907             1.0  \n",
       "23                   0.0         0.0      0.0  0.016314             0.0  \n",
       "24                   0.0         0.0      0.0  0.013240             1.0  \n",
       "25                   0.0         0.0      0.0  0.015949             1.0  \n",
       "26                   0.0         0.0      0.0  0.017459             0.0  \n",
       "27                   0.0         0.0      0.0  0.012923             1.0  \n",
       "28                   0.0         0.0      0.0  0.012058             1.0  \n",
       "29                   0.0         0.0      0.0  0.011301             0.0  \n",
       "...                  ...         ...      ...       ...             ...  \n",
       "30441                0.0         0.0      0.0  0.010315             1.0  \n",
       "30442                0.0         0.0      0.0  0.000331             1.0  \n",
       "30443                0.0         0.0      0.0  0.010058             0.0  \n",
       "30444                0.0         0.0      0.0  0.014183             1.0  \n",
       "30445                0.0         0.0      0.0  0.009291             1.0  \n",
       "30446                0.0         0.0      0.0  0.000143             1.0  \n",
       "30447                0.0         0.0      0.0  0.010058             0.0  \n",
       "30448                0.0         0.0      0.0  0.000541             1.0  \n",
       "30449                0.0         0.0      0.0  0.009291             1.0  \n",
       "30450                0.0         0.0      0.0  0.017459             0.0  \n",
       "30451                0.0         0.0      0.0  0.000041             1.0  \n",
       "30452                0.0         0.0      0.0  0.006781             0.0  \n",
       "30453                0.0         0.0      0.0  0.006816             1.0  \n",
       "30454                0.0         0.0      0.0  0.012058             1.0  \n",
       "30455                0.0         0.0      0.0  0.000157             1.0  \n",
       "30456                0.0         0.0      0.0  0.014183             1.0  \n",
       "30457                0.0         0.0      0.0  0.011301             0.0  \n",
       "30458                0.0         0.0      0.0  0.000541             1.0  \n",
       "30459                0.0         0.0      0.0  0.010058             0.0  \n",
       "30460                0.0         0.0      0.0  0.007046             1.0  \n",
       "30461                0.0         0.0      0.0  0.012994             1.0  \n",
       "30462                0.0         0.0      0.0  0.009291             1.0  \n",
       "30463                0.0         0.0      0.0  0.016907             1.0  \n",
       "30464                0.0         0.0      0.0  0.013580             0.0  \n",
       "30465                0.0         0.0      0.0  0.010315             1.0  \n",
       "30466                0.0         0.0      0.0  0.017459             0.0  \n",
       "30467                0.0         0.0      0.0  0.010315             1.0  \n",
       "30468                0.0         0.0      0.0  0.000157             1.0  \n",
       "30469                0.0         0.0      0.0  0.012994             1.0  \n",
       "30470                0.0         0.0      0.0  0.021514             1.0  \n",
       "\n",
       "[30217 rows x 372 columns]"
      ]
     },
     "execution_count": 97,
     "metadata": {},
     "output_type": "execute_result"
    }
   ],
   "source": [
    "train.ix[:, 'metro_min_avto' :]"
   ]
  },
  {
   "cell_type": "markdown",
   "metadata": {},
   "source": [
    "# Some plots"
   ]
  },
  {
   "cell_type": "code",
   "execution_count": 102,
   "metadata": {
    "collapsed": true
   },
   "outputs": [],
   "source": [
    "Y = train['price_doc']"
   ]
  },
  {
   "cell_type": "code",
   "execution_count": 103,
   "metadata": {
    "collapsed": false
   },
   "outputs": [
    {
     "name": "stdout",
     "output_type": "stream",
     "text": [
      "5326\n"
     ]
    }
   ],
   "source": [
    "print(train['full_sq'].max())\n",
    "\n",
    "#Чепуха! Скорее всего, придется изменить:\n",
    "train.loc[3527 : 3527, 'full_sq' : 'full_sq'] = 53.26"
   ]
  },
  {
   "cell_type": "code",
   "execution_count": 104,
   "metadata": {
    "collapsed": false
   },
   "outputs": [
    {
     "name": "stdout",
     "output_type": "stream",
     "text": [
      "637.0\n"
     ]
    }
   ],
   "source": [
    "print(train['life_sq'].max())\n",
    "\n",
    "#Чепуха! Скорее всего, придется исправить:\n",
    "train.loc[13546 : 13546, 'life_sq' : 'life_sq'] = 74.78"
   ]
  },
  {
   "cell_type": "code",
   "execution_count": 105,
   "metadata": {
    "collapsed": false
   },
   "outputs": [
    {
     "data": {
      "text/plain": [
       "[<matplotlib.lines.Line2D at 0x17443e48>]"
      ]
     },
     "execution_count": 105,
     "metadata": {},
     "output_type": "execute_result"
    },
    {
     "data": {
      "image/png": "[encoded data removed]",
      "text/plain": [
       "<matplotlib.figure.Figure at 0x19667b8>"
      ]
     },
     "metadata": {},
     "output_type": "display_data"
    }
   ],
   "source": [
    "plt.plot(Y)"
   ]
  },
  {
   "cell_type": "code",
   "execution_count": 106,
   "metadata": {
    "collapsed": false
   },
   "outputs": [
    {
     "data": {
      "text/plain": [
       "<matplotlib.collections.PathCollection at 0x173d43c8>"
      ]
     },
     "execution_count": 106,
     "metadata": {},
     "output_type": "execute_result"
    },
    {
     "data": {
      "image/png": "[encoded data removed]",
      "text/plain": [
       "<matplotlib.figure.Figure at 0x17211470>"
      ]
     },
     "metadata": {},
     "output_type": "display_data"
    }
   ],
   "source": [
    "plt.scatter(train['full_sq'], Y, cmap = 'winter')"
   ]
  },
  {
   "cell_type": "code",
   "execution_count": 107,
   "metadata": {
    "collapsed": false
   },
   "outputs": [
    {
     "data": {
      "text/plain": [
       "<matplotlib.collections.PathCollection at 0x17776748>"
      ]
     },
     "execution_count": 107,
     "metadata": {},
     "output_type": "execute_result"
    },
    {
     "data": {
      "image/png": "[encoded data removed]",
      "text/plain": [
       "<matplotlib.figure.Figure at 0x1b867f0>"
      ]
     },
     "metadata": {},
     "output_type": "display_data"
    }
   ],
   "source": [
    "plt.scatter(train['num_room'], Y, cmap = 'winter')"
   ]
  },
  {
   "cell_type": "code",
   "execution_count": 108,
   "metadata": {
    "collapsed": false
   },
   "outputs": [
    {
     "data": {
      "text/plain": [
       "<matplotlib.collections.PathCollection at 0x179fd128>"
      ]
     },
     "execution_count": 108,
     "metadata": {},
     "output_type": "execute_result"
    },
    {
     "data": {
      "image/png": "[encoded data removed]",
      "text/plain": [
       "<matplotlib.figure.Figure at 0xc2607f0>"
      ]
     },
     "metadata": {},
     "output_type": "display_data"
    }
   ],
   "source": [
    "plt.scatter(train['state'], Y, cmap = 'winter')"
   ]
  },
  {
   "cell_type": "code",
   "execution_count": 109,
   "metadata": {
    "collapsed": false
   },
   "outputs": [
    {
     "data": {
      "text/plain": [
       "<matplotlib.collections.PathCollection at 0x17987278>"
      ]
     },
     "execution_count": 109,
     "metadata": {},
     "output_type": "execute_result"
    },
    {
     "data": {
      "image/png": "[encoded data removed]",
      "text/plain": [
       "<matplotlib.figure.Figure at 0x16ab9470>"
      ]
     },
     "metadata": {},
     "output_type": "display_data"
    }
   ],
   "source": [
    "plt.scatter(train['density'], Y, cmap = 'winter')"
   ]
  },
  {
   "cell_type": "code",
   "execution_count": 110,
   "metadata": {
    "collapsed": false
   },
   "outputs": [
    {
     "name": "stdout",
     "output_type": "stream",
     "text": [
      "0 0\n"
     ]
    }
   ],
   "source": [
    "a = 'office_sqm_5000'\n",
    "print(train[a].isnull().sum(), test[a].isnull().sum())"
   ]
  },
  {
   "cell_type": "code",
   "execution_count": 118,
   "metadata": {
    "collapsed": false
   },
   "outputs": [
    {
     "data": {
      "text/html": [
       "<div>\n",
       "<table border=\"1\" class=\"dataframe\">\n",
       "  <thead>\n",
       "    <tr style=\"text-align: right;\">\n",
       "      <th></th>\n",
       "      <th>price_doc</th>\n",
       "      <th>life_sq</th>\n",
       "      <th>full_sq</th>\n",
       "      <th>kitch_sq</th>\n",
       "      <th>num_room</th>\n",
       "      <th>density</th>\n",
       "      <th>children_preschool</th>\n",
       "      <th>poselenie_in_sub_area</th>\n",
       "      <th>trc_count_5000</th>\n",
       "      <th>healthcare_centers_raion</th>\n",
       "      <th>young_male</th>\n",
       "      <th>metro_min_walk</th>\n",
       "    </tr>\n",
       "  </thead>\n",
       "  <tbody>\n",
       "    <tr>\n",
       "      <th>price_doc</th>\n",
       "      <td>1.000000</td>\n",
       "      <td>0.420813</td>\n",
       "      <td>0.569472</td>\n",
       "      <td>0.217929</td>\n",
       "      <td>0.400473</td>\n",
       "      <td>0.166450</td>\n",
       "      <td>0.133471</td>\n",
       "      <td>-0.211930</td>\n",
       "      <td>0.288631</td>\n",
       "      <td>0.189798</td>\n",
       "      <td>0.134846</td>\n",
       "      <td>-0.182281</td>\n",
       "    </tr>\n",
       "    <tr>\n",
       "      <th>life_sq</th>\n",
       "      <td>0.420813</td>\n",
       "      <td>1.000000</td>\n",
       "      <td>0.661603</td>\n",
       "      <td>0.076474</td>\n",
       "      <td>0.443643</td>\n",
       "      <td>-0.099901</td>\n",
       "      <td>-0.074151</td>\n",
       "      <td>0.089108</td>\n",
       "      <td>-0.004804</td>\n",
       "      <td>-0.028270</td>\n",
       "      <td>-0.072528</td>\n",
       "      <td>0.041617</td>\n",
       "    </tr>\n",
       "    <tr>\n",
       "      <th>full_sq</th>\n",
       "      <td>0.569472</td>\n",
       "      <td>0.661603</td>\n",
       "      <td>1.000000</td>\n",
       "      <td>0.114884</td>\n",
       "      <td>0.555178</td>\n",
       "      <td>-0.094601</td>\n",
       "      <td>-0.047519</td>\n",
       "      <td>0.052690</td>\n",
       "      <td>0.000311</td>\n",
       "      <td>-0.013442</td>\n",
       "      <td>-0.047504</td>\n",
       "      <td>0.052501</td>\n",
       "    </tr>\n",
       "    <tr>\n",
       "      <th>kitch_sq</th>\n",
       "      <td>0.217929</td>\n",
       "      <td>0.076474</td>\n",
       "      <td>0.114884</td>\n",
       "      <td>1.000000</td>\n",
       "      <td>0.078832</td>\n",
       "      <td>0.183303</td>\n",
       "      <td>0.193660</td>\n",
       "      <td>-0.202066</td>\n",
       "      <td>0.112797</td>\n",
       "      <td>0.126699</td>\n",
       "      <td>0.191748</td>\n",
       "      <td>-0.040241</td>\n",
       "    </tr>\n",
       "    <tr>\n",
       "      <th>num_room</th>\n",
       "      <td>0.400473</td>\n",
       "      <td>0.443643</td>\n",
       "      <td>0.555178</td>\n",
       "      <td>0.078832</td>\n",
       "      <td>1.000000</td>\n",
       "      <td>0.056204</td>\n",
       "      <td>0.050754</td>\n",
       "      <td>-0.072010</td>\n",
       "      <td>0.079956</td>\n",
       "      <td>0.049025</td>\n",
       "      <td>0.052364</td>\n",
       "      <td>-0.030027</td>\n",
       "    </tr>\n",
       "    <tr>\n",
       "      <th>density</th>\n",
       "      <td>0.166450</td>\n",
       "      <td>-0.099901</td>\n",
       "      <td>-0.094601</td>\n",
       "      <td>0.183303</td>\n",
       "      <td>0.056204</td>\n",
       "      <td>1.000000</td>\n",
       "      <td>0.591520</td>\n",
       "      <td>-0.670235</td>\n",
       "      <td>0.546071</td>\n",
       "      <td>0.392653</td>\n",
       "      <td>0.596425</td>\n",
       "      <td>-0.381129</td>\n",
       "    </tr>\n",
       "    <tr>\n",
       "      <th>children_preschool</th>\n",
       "      <td>0.133471</td>\n",
       "      <td>-0.074151</td>\n",
       "      <td>-0.047519</td>\n",
       "      <td>0.193660</td>\n",
       "      <td>0.050754</td>\n",
       "      <td>0.591520</td>\n",
       "      <td>1.000000</td>\n",
       "      <td>-0.601158</td>\n",
       "      <td>0.307467</td>\n",
       "      <td>0.465971</td>\n",
       "      <td>0.996583</td>\n",
       "      <td>-0.307155</td>\n",
       "    </tr>\n",
       "    <tr>\n",
       "      <th>poselenie_in_sub_area</th>\n",
       "      <td>-0.211930</td>\n",
       "      <td>0.089108</td>\n",
       "      <td>0.052690</td>\n",
       "      <td>-0.202066</td>\n",
       "      <td>-0.072010</td>\n",
       "      <td>-0.670235</td>\n",
       "      <td>-0.601158</td>\n",
       "      <td>1.000000</td>\n",
       "      <td>-0.556570</td>\n",
       "      <td>-0.461596</td>\n",
       "      <td>-0.600782</td>\n",
       "      <td>0.355086</td>\n",
       "    </tr>\n",
       "    <tr>\n",
       "      <th>trc_count_5000</th>\n",
       "      <td>0.288631</td>\n",
       "      <td>-0.004804</td>\n",
       "      <td>0.000311</td>\n",
       "      <td>0.112797</td>\n",
       "      <td>0.079956</td>\n",
       "      <td>0.546071</td>\n",
       "      <td>0.307467</td>\n",
       "      <td>-0.556570</td>\n",
       "      <td>1.000000</td>\n",
       "      <td>0.480123</td>\n",
       "      <td>0.326818</td>\n",
       "      <td>-0.421516</td>\n",
       "    </tr>\n",
       "    <tr>\n",
       "      <th>healthcare_centers_raion</th>\n",
       "      <td>0.189798</td>\n",
       "      <td>-0.028270</td>\n",
       "      <td>-0.013442</td>\n",
       "      <td>0.126699</td>\n",
       "      <td>0.049025</td>\n",
       "      <td>0.392653</td>\n",
       "      <td>0.465971</td>\n",
       "      <td>-0.461596</td>\n",
       "      <td>0.480123</td>\n",
       "      <td>1.000000</td>\n",
       "      <td>0.463703</td>\n",
       "      <td>-0.230345</td>\n",
       "    </tr>\n",
       "    <tr>\n",
       "      <th>young_male</th>\n",
       "      <td>0.134846</td>\n",
       "      <td>-0.072528</td>\n",
       "      <td>-0.047504</td>\n",
       "      <td>0.191748</td>\n",
       "      <td>0.052364</td>\n",
       "      <td>0.596425</td>\n",
       "      <td>0.996583</td>\n",
       "      <td>-0.600782</td>\n",
       "      <td>0.326818</td>\n",
       "      <td>0.463703</td>\n",
       "      <td>1.000000</td>\n",
       "      <td>-0.308475</td>\n",
       "    </tr>\n",
       "    <tr>\n",
       "      <th>metro_min_walk</th>\n",
       "      <td>-0.182281</td>\n",
       "      <td>0.041617</td>\n",
       "      <td>0.052501</td>\n",
       "      <td>-0.040241</td>\n",
       "      <td>-0.030027</td>\n",
       "      <td>-0.381129</td>\n",
       "      <td>-0.307155</td>\n",
       "      <td>0.355086</td>\n",
       "      <td>-0.421516</td>\n",
       "      <td>-0.230345</td>\n",
       "      <td>-0.308475</td>\n",
       "      <td>1.000000</td>\n",
       "    </tr>\n",
       "  </tbody>\n",
       "</table>\n",
       "</div>"
      ],
      "text/plain": [
       "                          price_doc   life_sq   full_sq  kitch_sq  num_room  \\\n",
       "price_doc                  1.000000  0.420813  0.569472  0.217929  0.400473   \n",
       "life_sq                    0.420813  1.000000  0.661603  0.076474  0.443643   \n",
       "full_sq                    0.569472  0.661603  1.000000  0.114884  0.555178   \n",
       "kitch_sq                   0.217929  0.076474  0.114884  1.000000  0.078832   \n",
       "num_room                   0.400473  0.443643  0.555178  0.078832  1.000000   \n",
       "density                    0.166450 -0.099901 -0.094601  0.183303  0.056204   \n",
       "children_preschool         0.133471 -0.074151 -0.047519  0.193660  0.050754   \n",
       "poselenie_in_sub_area     -0.211930  0.089108  0.052690 -0.202066 -0.072010   \n",
       "trc_count_5000             0.288631 -0.004804  0.000311  0.112797  0.079956   \n",
       "healthcare_centers_raion   0.189798 -0.028270 -0.013442  0.126699  0.049025   \n",
       "young_male                 0.134846 -0.072528 -0.047504  0.191748  0.052364   \n",
       "metro_min_walk            -0.182281  0.041617  0.052501 -0.040241 -0.030027   \n",
       "\n",
       "                           density  children_preschool  poselenie_in_sub_area  \\\n",
       "price_doc                 0.166450            0.133471              -0.211930   \n",
       "life_sq                  -0.099901           -0.074151               0.089108   \n",
       "full_sq                  -0.094601           -0.047519               0.052690   \n",
       "kitch_sq                  0.183303            0.193660              -0.202066   \n",
       "num_room                  0.056204            0.050754              -0.072010   \n",
       "density                   1.000000            0.591520              -0.670235   \n",
       "children_preschool        0.591520            1.000000              -0.601158   \n",
       "poselenie_in_sub_area    -0.670235           -0.601158               1.000000   \n",
       "trc_count_5000            0.546071            0.307467              -0.556570   \n",
       "healthcare_centers_raion  0.392653            0.465971              -0.461596   \n",
       "young_male                0.596425            0.996583              -0.600782   \n",
       "metro_min_walk           -0.381129           -0.307155               0.355086   \n",
       "\n",
       "                          trc_count_5000  healthcare_centers_raion  \\\n",
       "price_doc                       0.288631                  0.189798   \n",
       "life_sq                        -0.004804                 -0.028270   \n",
       "full_sq                         0.000311                 -0.013442   \n",
       "kitch_sq                        0.112797                  0.126699   \n",
       "num_room                        0.079956                  0.049025   \n",
       "density                         0.546071                  0.392653   \n",
       "children_preschool              0.307467                  0.465971   \n",
       "poselenie_in_sub_area          -0.556570                 -0.461596   \n",
       "trc_count_5000                  1.000000                  0.480123   \n",
       "healthcare_centers_raion        0.480123                  1.000000   \n",
       "young_male                      0.326818                  0.463703   \n",
       "metro_min_walk                 -0.421516                 -0.230345   \n",
       "\n",
       "                          young_male  metro_min_walk  \n",
       "price_doc                   0.134846       -0.182281  \n",
       "life_sq                    -0.072528        0.041617  \n",
       "full_sq                    -0.047504        0.052501  \n",
       "kitch_sq                    0.191748       -0.040241  \n",
       "num_room                    0.052364       -0.030027  \n",
       "density                     0.596425       -0.381129  \n",
       "children_preschool          0.996583       -0.307155  \n",
       "poselenie_in_sub_area      -0.600782        0.355086  \n",
       "trc_count_5000              0.326818       -0.421516  \n",
       "healthcare_centers_raion    0.463703       -0.230345  \n",
       "young_male                  1.000000       -0.308475  \n",
       "metro_min_walk             -0.308475        1.000000  "
      ]
     },
     "execution_count": 118,
     "metadata": {},
     "output_type": "execute_result"
    }
   ],
   "source": [
    "train[['price_doc', 'life_sq', 'full_sq', 'kitch_sq', 'num_room', 'density', 'children_preschool', 'poselenie_in_sub_area',\n",
    "       'trc_count_5000', 'healthcare_centers_raion', 'young_male', 'metro_min_walk']].corr()"
   ]
  },
  {
   "cell_type": "code",
   "execution_count": 119,
   "metadata": {
    "collapsed": false
   },
   "outputs": [
    {
     "name": "stdout",
     "output_type": "stream",
     "text": [
      "...ready\n"
     ]
    }
   ],
   "source": [
    "#Сохранить для промежуточной работы\n",
    "\n",
    "train[['price_doc', 'life_sq', 'full_sq', 'kitch_sq', 'num_room', 'density', 'children_preschool', 'poselenie_in_sub_area', 'trc_count_5000', 'sport_count_5000', 'sport_count_3000', 'metro_min_walk']].to_csv(DIR + 'train_slow_models.csv', index = 0)\n",
    "test[['life_sq', 'full_sq', 'kitch_sq', 'num_room', 'density', 'children_preschool', 'poselenie_in_sub_area', 'trc_count_5000', 'sport_count_5000', 'sport_count_3000', 'metro_min_walk']].to_csv(DIR + 'test_slow_models.csv', index = 0)\n",
    "print('...ready')"
   ]
  },
  {
   "cell_type": "code",
   "execution_count": 112,
   "metadata": {
    "collapsed": false
   },
   "outputs": [
    {
     "name": "stdout",
     "output_type": "stream",
     "text": [
      "Investment       19339\n",
      "OwnerOccupier    10878\n",
      "Name: product_type, dtype: int64\n",
      "Нанов в трейне нет, нанов в тесте: 33\n"
     ]
    }
   ],
   "source": [
    "#Only two groups!\n",
    "print(train['product_type'].value_counts())\n",
    "print('Нанов в трейне нет, нанов в тесте: ' + str(test['product_type'].isnull().sum()))"
   ]
  },
  {
   "cell_type": "code",
   "execution_count": 113,
   "metadata": {
    "collapsed": false
   },
   "outputs": [],
   "source": [
    "#Заполняем наиболее частотным\n",
    "test['product_type'] = test['product_type'].fillna('Investment')\n",
    "train['product_type'], test['product_type'] = label_encoder('product_type')"
   ]
  },
  {
   "cell_type": "code",
   "execution_count": 114,
   "metadata": {
    "collapsed": false
   },
   "outputs": [
    {
     "name": "stdout",
     "output_type": "stream",
     "text": [
      "Sub_area is 100% correct: \n",
      "0 0\n"
     ]
    }
   ],
   "source": [
    "#Sub_area\n",
    "#Nans in sub_area\n",
    "print('Sub_area is 100% correct: ')\n",
    "print(train['sub_area'].isnull().sum(), test['sub_area'].isnull().sum())"
   ]
  },
  {
   "cell_type": "code",
   "execution_count": 115,
   "metadata": {
    "collapsed": false
   },
   "outputs": [
    {
     "name": "stdout",
     "output_type": "stream",
     "text": [
      "Only 146 sub_areas!\n"
     ]
    }
   ],
   "source": [
    "print('Only ' + str(len(pd.concat([train['sub_area'], test['sub_area']], axis = 0).value_counts())) +  ' sub_areas!')\n",
    "#Can use KMeans and hdbscan to cluster regions"
   ]
  },
  {
   "cell_type": "code",
   "execution_count": 116,
   "metadata": {
    "collapsed": true
   },
   "outputs": [],
   "source": [
    "sub_areas = pd.concat([train['sub_area'], test['sub_area']], axis = 0)\n",
    "sub_areas = sub_areas.apply(lambda x: x.lower())"
   ]
  },
  {
   "cell_type": "code",
   "execution_count": 117,
   "metadata": {
    "collapsed": false
   },
   "outputs": [],
   "source": [
    "#125 районов и 21 поселения\n",
    "train['poselenie_in_sub_area'] = train['sub_area'].apply(lambda x: x.lower()).apply(lambda x: 1 if 'poselenie' in x.lower() else 0)\n",
    "test['poselenie_in_sub_area'] = test['sub_area'].apply(lambda x: x.lower()).apply(lambda x: 1 if 'poselenie' in x.lower() else 0)"
   ]
  },
  {
   "cell_type": "code",
   "execution_count": 69,
   "metadata": {
    "collapsed": false
   },
   "outputs": [
    {
     "name": "stdout",
     "output_type": "stream",
     "text": [
      "5181109.4211 4950000.0\n",
      "7656028.9963 6600000.0\n"
     ]
    }
   ],
   "source": [
    "# В поселениях меньше цена?\n",
    "print(train[train['poselenie_in_sub_area'] == 1]['price_doc'].mean(), train[train['poselenie_in_sub_area'] == 1]['price_doc'].median())\n",
    "print(train[train['poselenie_in_sub_area'] == 0]['price_doc'].mean(), train[train['poselenie_in_sub_area'] == 0]['price_doc'].median())"
   ]
  },
  {
   "cell_type": "code",
   "execution_count": 302,
   "metadata": {
    "collapsed": false
   },
   "outputs": [
    {
     "name": "stdout",
     "output_type": "stream",
     "text": [
      "0 0 2546 2546\n"
     ]
    }
   ],
   "source": [
    "#Население района: все в порядке!\n",
    "print(train['full_all'].isnull().sum(), test['full_all'].isnull().sum(), train['full_all'].min(), test['full_all'].min())"
   ]
  },
  {
   "cell_type": "code",
   "execution_count": 70,
   "metadata": {
    "collapsed": false
   },
   "outputs": [
    {
     "data": {
      "text/plain": [
       "koptevo                           234\n",
       "rjazanskij                        232\n",
       "novogireevo                       231\n",
       "filevskij park                    230\n",
       "ivanovskoe                        228\n",
       "taganskoe                         228\n",
       "sviblovo                          226\n",
       "obruchevskoe                      225\n",
       "chertanovo central'noe            225\n",
       "pokrovskoe streshnevo             222\n",
       "brateevo                          221\n",
       "timirjazevskoe                    219\n",
       "losinoostrovskoe                  218\n",
       "juzhnoe tushino                   213\n",
       "hovrino                           209\n",
       "severnoe medvedkovo               208\n",
       "dmitrovskoe                       208\n",
       "severnoe butovo                   206\n",
       "teplyj stan                       206\n",
       "severnoe izmajlovo                204\n",
       "nagatino-sadovniki                202\n",
       "beskudnikovskoe                   199\n",
       "shhukino                          198\n",
       "novo-peredelkino                  197\n",
       "cheremushki                       194\n",
       "preobrazhenskoe                   190\n",
       "donskoe                           189\n",
       "juzhnoe medvedkovo                184\n",
       "kotlovka                          184\n",
       "vostochnoe izmajlovo              183\n",
       "                                 ... \n",
       "sokol                             101\n",
       "jakimanka                         101\n",
       "severnoe                          101\n",
       "ostankinskoe                       99\n",
       "rostokino                          92\n",
       "nizhegorodskoe                     88\n",
       "altuf'evskoe                       80\n",
       "kurkino                            79\n",
       "sokol'niki                         73\n",
       "begovoe                            70\n",
       "dorogomilovo                       68\n",
       "zamoskvorech'e                     67\n",
       "metrogorodok                       65\n",
       "kapotnja                           59\n",
       "vnukovo                            52\n",
       "krasnosel'skoe                     44\n",
       "poselenie rjazanovskoe             41\n",
       "poselenie rogovskoe                33\n",
       "poselenie krasnopahorskoe          25\n",
       "poselenie mosrentgen               23\n",
       "poselenie kokoshkino               23\n",
       "arbat                              22\n",
       "vostochnoe                         12\n",
       "poselenie voronovskoe               8\n",
       "poselenie marushkinskoe             7\n",
       "poselenie shhapovskoe               4\n",
       "molzhaninovskoe                     4\n",
       "poselenie kievskij                  3\n",
       "poselenie mihajlovo-jarcevskoe      2\n",
       "poselenie klenovskoe                1\n",
       "Name: sub_area, dtype: int64"
      ]
     },
     "execution_count": 70,
     "metadata": {},
     "output_type": "execute_result"
    }
   ],
   "source": [
    "sub_areas.value_counts()['koptevo':]"
   ]
  },
  {
   "cell_type": "code",
   "execution_count": null,
   "metadata": {
    "collapsed": true
   },
   "outputs": [],
   "source": []
  },
  {
   "cell_type": "code",
   "execution_count": 71,
   "metadata": {
    "collapsed": false
   },
   "outputs": [
    {
     "name": "stdout",
     "output_type": "stream",
     "text": [
      "skew: 1.4290384566856071\n"
     ]
    },
    {
     "data": {
      "image/png": "[encoded data removed]",
      "text/plain": [
       "<matplotlib.figure.Figure at 0xbcf6d68>"
      ]
     },
     "metadata": {},
     "output_type": "display_data"
    },
    {
     "name": "stdout",
     "output_type": "stream",
     "text": [
      "skew: 1.6779370956726485\n"
     ]
    },
    {
     "data": {
      "image/png": "[encoded data removed]",
      "text/plain": [
       "<matplotlib.figure.Figure at 0xbf9fcf8>"
      ]
     },
     "metadata": {},
     "output_type": "display_data"
    }
   ],
   "source": [
    "train['num_room'].hist(facecolor = '#5fe620', bins = 50)\n",
    "print('skew: ' + str(skew(train['num_room'])))\n",
    "plt.show()\n",
    "\n",
    "test['num_room'].hist(facecolor = '#cc0605', bins = 50)\n",
    "print('skew: ' + str(skew(test['num_room'])))"
   ]
  },
  {
   "cell_type": "code",
   "execution_count": 72,
   "metadata": {
    "collapsed": false
   },
   "outputs": [],
   "source": [
    "#New  target - price per room\n",
    "Y_per_room = train['price_doc'] / train['num_room']"
   ]
  },
  {
   "cell_type": "code",
   "execution_count": 282,
   "metadata": {
    "collapsed": false
   },
   "outputs": [
    {
     "name": "stdout",
     "output_type": "stream",
     "text": [
      "skew(Y_per_room) = 4.73049217811886\n"
     ]
    },
    {
     "data": {
      "image/png": "[encoded data removed]",
      "text/plain": [
       "<matplotlib.figure.Figure at 0x161f7320>"
      ]
     },
     "metadata": {},
     "output_type": "display_data"
    },
    {
     "name": "stdout",
     "output_type": "stream",
     "text": [
      "skew(log(1 + Y_per_room)) = -1.0205815910712137\n"
     ]
    },
    {
     "data": {
      "image/png": "[encoded data removed]",
      "text/plain": [
       "<matplotlib.figure.Figure at 0x162d8080>"
      ]
     },
     "metadata": {},
     "output_type": "display_data"
    },
    {
     "name": "stdout",
     "output_type": "stream",
     "text": [
      "skew(Y_per_room ** 0.25) = -0.21818860791868094\n"
     ]
    },
    {
     "data": {
      "image/png": "[encoded data removed]",
      "text/plain": [
       "<matplotlib.figure.Figure at 0x1635f860>"
      ]
     },
     "metadata": {},
     "output_type": "display_data"
    }
   ],
   "source": [
    "Y_per_room.hist(facecolor = '#5fe620')\n",
    "print('skew(Y_per_room) = ' + str(skew(Y_per_room)))\n",
    "plt.show()\n",
    "\n",
    "np.log(1 + Y_per_room).hist(facecolor = '#32cd32')\n",
    "print('skew(log(1 + Y_per_room)) = ' + str(skew(np.log(1 + Y_per_room))))\n",
    "plt.show()\n",
    "\n",
    "(Y_life_sq ** 0.25).hist(facecolor = '#0bda51')\n",
    "print('skew(Y_per_room ** 0.25) = ' + str(skew(Y_per_room ** 0.25)))\n",
    "plt.show()"
   ]
  },
  {
   "cell_type": "code",
   "execution_count": 284,
   "metadata": {
    "collapsed": false
   },
   "outputs": [
    {
     "data": {
      "text/plain": [
       "<matplotlib.collections.PathCollection at 0x17f23518>"
      ]
     },
     "execution_count": 284,
     "metadata": {},
     "output_type": "execute_result"
    },
    {
     "data": {
      "image/png": "[encoded data removed]",
      "text/plain": [
       "<matplotlib.figure.Figure at 0x165ce518>"
      ]
     },
     "metadata": {},
     "output_type": "display_data"
    }
   ],
   "source": [
    "plt.scatter(train['num_room'], train['full_sq'], c = Y, cmap = 'winter')"
   ]
  },
  {
   "cell_type": "code",
   "execution_count": 291,
   "metadata": {
    "collapsed": true
   },
   "outputs": [],
   "source": [
    "#train['kitch_percentage'] = train['kitch_sq'] / (train['full_sq'] - train['life_sq'])\n",
    "train['kitch_percentage'] = train['kitch_sq'] / train['full_sq']\n",
    "test['kitch_percentage'] = test['kitch_sq'] / test['full_sq']"
   ]
  },
  {
   "cell_type": "code",
   "execution_count": null,
   "metadata": {
    "collapsed": true
   },
   "outputs": [],
   "source": []
  },
  {
   "cell_type": "code",
   "execution_count": null,
   "metadata": {
    "collapsed": true
   },
   "outputs": [],
   "source": []
  },
  {
   "cell_type": "code",
   "execution_count": 286,
   "metadata": {
    "collapsed": false
   },
   "outputs": [],
   "source": [
    "#Хороший признак!\n",
    "train['popul / area_m'] = train['raion_popul'] / train['area_m']\n",
    "test['popul / area_m'] = test['raion_popul'] / test['area_m']"
   ]
  },
  {
   "cell_type": "code",
   "execution_count": 288,
   "metadata": {
    "collapsed": false
   },
   "outputs": [
    {
     "name": "stdout",
     "output_type": "stream",
     "text": [
      "skew: 0.2303040582164954\n"
     ]
    },
    {
     "data": {
      "image/png": "[encoded data removed]",
      "text/plain": [
       "<matplotlib.figure.Figure at 0x17f408d0>"
      ]
     },
     "metadata": {},
     "output_type": "display_data"
    },
    {
     "name": "stdout",
     "output_type": "stream",
     "text": [
      "skew: 0.15956038239486148\n"
     ]
    },
    {
     "data": {
      "image/png": "[encoded data removed]",
      "text/plain": [
       "<matplotlib.figure.Figure at 0x194e0dd8>"
      ]
     },
     "metadata": {},
     "output_type": "display_data"
    }
   ],
   "source": [
    "train['popul / area_m'].hist(facecolor = '#5fe620')\n",
    "print('skew: ' + str(skew(train['popul / area_m'])))\n",
    "plt.show()\n",
    "\n",
    "test['popul / area_m'].hist(facecolor = '#cc0605')\n",
    "print('skew: ' + str(skew(test['popul / area_m'])))"
   ]
  },
  {
   "cell_type": "code",
   "execution_count": 289,
   "metadata": {
    "collapsed": false
   },
   "outputs": [
    {
     "name": "stdout",
     "output_type": "stream",
     "text": [
      "skew: 3.302678675625882\n"
     ]
    },
    {
     "data": {
      "image/png": "[encoded data removed]",
      "text/plain": [
       "<matplotlib.figure.Figure at 0x194c96a0>"
      ]
     },
     "metadata": {},
     "output_type": "display_data"
    },
    {
     "name": "stdout",
     "output_type": "stream",
     "text": [
      "skew: 3.694723234248909\n"
     ]
    },
    {
     "data": {
      "image/png": "[encoded data removed]",
      "text/plain": [
       "<matplotlib.figure.Figure at 0x17f4cc88>"
      ]
     },
     "metadata": {},
     "output_type": "display_data"
    }
   ],
   "source": [
    "train['area_m'].hist(facecolor = '#5fe620')\n",
    "print('skew: ' + str(skew(train['area_m'])))\n",
    "plt.show()\n",
    "\n",
    "test['area_m'].hist(facecolor = '#cc0605')\n",
    "print('skew: ' + str(skew(test['area_m'])))"
   ]
  },
  {
   "cell_type": "code",
   "execution_count": 290,
   "metadata": {
    "collapsed": false
   },
   "outputs": [
    {
     "name": "stdout",
     "output_type": "stream",
     "text": [
      "skew: 0.7983086924852175\n"
     ]
    },
    {
     "data": {
      "image/png": "[encoded data removed]",
      "text/plain": [
       "<matplotlib.figure.Figure at 0x162026d8>"
      ]
     },
     "metadata": {},
     "output_type": "display_data"
    },
    {
     "name": "stdout",
     "output_type": "stream",
     "text": [
      "skew: 0.8741072163822683\n"
     ]
    },
    {
     "data": {
      "image/png": "[encoded data removed]",
      "text/plain": [
       "<matplotlib.figure.Figure at 0x17eada90>"
      ]
     },
     "metadata": {},
     "output_type": "display_data"
    }
   ],
   "source": [
    "np.log(1 + train['area_m']).hist(facecolor = '#5fe620')\n",
    "print('skew: ' + str(skew(np.log(1 + train['area_m']))))\n",
    "plt.show()\n",
    "\n",
    "np.log(1 + test['area_m']).hist(facecolor = '#cc0605')\n",
    "print('skew: ' + str(skew(np.log(1 + test['area_m']))))\n",
    "\n",
    "#Можно применить преобразование x -> log(1 + x)"
   ]
  },
  {
   "cell_type": "code",
   "execution_count": 301,
   "metadata": {
    "collapsed": true
   },
   "outputs": [],
   "source": [
    "train['log_area_m'] = np.log(1 + train['area_m'])\n",
    "test['log_area_m'] = np.log(1 + test['area_m'])"
   ]
  },
  {
   "cell_type": "code",
   "execution_count": null,
   "metadata": {
    "collapsed": true
   },
   "outputs": [],
   "source": []
  },
  {
   "cell_type": "code",
   "execution_count": 315,
   "metadata": {
    "collapsed": false
   },
   "outputs": [
    {
     "data": {
      "text/plain": [
       "state                                   0\n",
       "product_type                            0\n",
       "sub_area                                0\n",
       "area_m                                  0\n",
       "raion_popul                             0\n",
       "green_zone_part                         0\n",
       "indust_part                             0\n",
       "children_preschool                      0\n",
       "preschool_quota                      6688\n",
       "preschool_education_centers_raion       0\n",
       "dtype: int64"
      ]
     },
     "execution_count": 315,
     "metadata": {},
     "output_type": "execute_result"
    }
   ],
   "source": [
    "train.ix[:, 'state' : 'preschool_education_centers_raion'].isnull().sum()"
   ]
  },
  {
   "cell_type": "code",
   "execution_count": 322,
   "metadata": {
    "collapsed": false
   },
   "outputs": [
    {
     "data": {
      "text/plain": [
       "state                                0\n",
       "product_type                         0\n",
       "sub_area                             0\n",
       "area_m                               0\n",
       "raion_popul                          0\n",
       "green_zone_part                      0\n",
       "indust_part                          0\n",
       "children_preschool                   0\n",
       "preschool_quota                      0\n",
       "preschool_education_centers_raion    0\n",
       "dtype: int64"
      ]
     },
     "execution_count": 322,
     "metadata": {},
     "output_type": "execute_result"
    }
   ],
   "source": [
    "test.ix[:, 'state' : 'preschool_education_centers_raion'].isnull().sum()"
   ]
  },
  {
   "cell_type": "code",
   "execution_count": null,
   "metadata": {
    "collapsed": true
   },
   "outputs": [],
   "source": []
  },
  {
   "cell_type": "code",
   "execution_count": 321,
   "metadata": {
    "collapsed": false
   },
   "outputs": [],
   "source": [
    "train['preschool_quota'], test['preschool_quota'] = fill_median('preschool_quota')"
   ]
  },
  {
   "cell_type": "code",
   "execution_count": 329,
   "metadata": {
    "collapsed": false
   },
   "outputs": [],
   "source": [
    "train['green > ind'] = (train['green_zone_part'] > train['indust_part']).apply(lambda x: int(x))\n",
    "test['green > ind'] = (test['green_zone_part'] > test['indust_part']).apply(lambda x: int(x))"
   ]
  },
  {
   "cell_type": "code",
   "execution_count": 333,
   "metadata": {
    "collapsed": false
   },
   "outputs": [],
   "source": [
    "train['preschool_quota / popul'] = train['preschool_quota'] / train['raion_popul']\n",
    "test['preschool_quota / popul'] = test['preschool_quota'] / test['raion_popul']"
   ]
  },
  {
   "cell_type": "code",
   "execution_count": 340,
   "metadata": {
    "collapsed": true
   },
   "outputs": [],
   "source": [
    "train['children_preschool / popul'] = train['children_preschool'] / train['raion_popul']\n",
    "test['children_preschool / popul'] = test['children_preschool'] / test['raion_popul']"
   ]
  },
  {
   "cell_type": "code",
   "execution_count": 345,
   "metadata": {
    "collapsed": false
   },
   "outputs": [],
   "source": [
    "train['children_preschool / edu_centers'] = train['children_preschool'] / train['preschool_education_centers_raion']\n",
    "test['children_preschool / edu_centers'] = test['children_preschool'] / test['preschool_education_centers_raion']"
   ]
  },
  {
   "cell_type": "code",
   "execution_count": null,
   "metadata": {
    "collapsed": true
   },
   "outputs": [],
   "source": []
  },
  {
   "cell_type": "code",
   "execution_count": 351,
   "metadata": {
    "collapsed": false
   },
   "outputs": [
    {
     "data": {
      "text/plain": [
       "preschool_education_centers_raion            0\n",
       "children_school                              0\n",
       "school_quota                              6685\n",
       "school_education_centers_raion               0\n",
       "school_education_centers_top_20_raion        0\n",
       "hospital_beds_raion                      14441\n",
       "healthcare_centers_raion                     0\n",
       "university_top_20_raion                      0\n",
       "sport_objects_raion                          0\n",
       "dtype: int64"
      ]
     },
     "execution_count": 351,
     "metadata": {},
     "output_type": "execute_result"
    }
   ],
   "source": [
    "train.ix[:, 'preschool_education_centers_raion' : 'sport_objects_raion'].isnull().sum()"
   ]
  },
  {
   "cell_type": "code",
   "execution_count": 353,
   "metadata": {
    "collapsed": false
   },
   "outputs": [
    {
     "data": {
      "text/plain": [
       "preschool_education_centers_raion           0\n",
       "children_school                             0\n",
       "school_quota                             1595\n",
       "school_education_centers_raion              0\n",
       "school_education_centers_top_20_raion       0\n",
       "hospital_beds_raion                      3418\n",
       "healthcare_centers_raion                    0\n",
       "university_top_20_raion                     0\n",
       "sport_objects_raion                         0\n",
       "dtype: int64"
      ]
     },
     "execution_count": 353,
     "metadata": {},
     "output_type": "execute_result"
    }
   ],
   "source": [
    "test.ix[:, 'preschool_education_centers_raion' : 'sport_objects_raion'].isnull().sum()"
   ]
  },
  {
   "cell_type": "code",
   "execution_count": 355,
   "metadata": {
    "collapsed": false
   },
   "outputs": [
    {
     "name": "stdout",
     "output_type": "stream",
     "text": [
      "skew: 0.9396363647028585\n"
     ]
    },
    {
     "data": {
      "image/png": "[encoded data removed]",
      "text/plain": [
       "<matplotlib.figure.Figure at 0x12d8d080>"
      ]
     },
     "metadata": {},
     "output_type": "display_data"
    },
    {
     "name": "stdout",
     "output_type": "stream",
     "text": [
      "skew: 0.8708168950143342\n"
     ]
    },
    {
     "data": {
      "image/png": "[encoded data removed]",
      "text/plain": [
       "<matplotlib.figure.Figure at 0x12d29d68>"
      ]
     },
     "metadata": {},
     "output_type": "display_data"
    }
   ],
   "source": [
    "train['children_school'].hist(facecolor = '#5fe620')\n",
    "print('skew: ' + str(skew(train['children_school'])))\n",
    "plt.show()\n",
    "\n",
    "test['children_school'].hist(facecolor = '#cc0605')\n",
    "print('skew: ' + str(skew(test['children_school'])))"
   ]
  },
  {
   "cell_type": "code",
   "execution_count": 357,
   "metadata": {
    "collapsed": true
   },
   "outputs": [],
   "source": [
    "train['school_quota'], test['school_quota'] = fill_median('school_quota')\n",
    "train['hospital_beds_raion'], test['hospital_beds_raion'] = fill_median('hospital_beds_raion')"
   ]
  },
  {
   "cell_type": "code",
   "execution_count": 359,
   "metadata": {
    "collapsed": false
   },
   "outputs": [
    {
     "data": {
      "text/plain": [
       "sport_objects_raion             0\n",
       "additional_education_raion      0\n",
       "culture_objects_top_25          0\n",
       "culture_objects_top_25_raion    0\n",
       "shopping_centers_raion          0\n",
       "office_raion                    0\n",
       "thermal_power_plant_raion       0\n",
       "incineration_raion              0\n",
       "oil_chemistry_raion             0\n",
       "radiation_raion                 0\n",
       "railroad_terminal_raion         0\n",
       "big_market_raion                0\n",
       "nuclear_reactor_raion           0\n",
       "detention_facility_raion        0\n",
       "dtype: int64"
      ]
     },
     "execution_count": 359,
     "metadata": {},
     "output_type": "execute_result"
    }
   ],
   "source": [
    "train.ix[:, 'sport_objects_raion' : 'detention_facility_raion'].isnull().sum()"
   ]
  },
  {
   "cell_type": "code",
   "execution_count": 363,
   "metadata": {
    "collapsed": false
   },
   "outputs": [
    {
     "data": {
      "text/plain": [
       "sport_objects_raion             0\n",
       "additional_education_raion      0\n",
       "culture_objects_top_25          0\n",
       "culture_objects_top_25_raion    0\n",
       "shopping_centers_raion          0\n",
       "office_raion                    0\n",
       "thermal_power_plant_raion       0\n",
       "incineration_raion              0\n",
       "oil_chemistry_raion             0\n",
       "radiation_raion                 0\n",
       "railroad_terminal_raion         0\n",
       "big_market_raion                0\n",
       "nuclear_reactor_raion           0\n",
       "detention_facility_raion        0\n",
       "dtype: int64"
      ]
     },
     "execution_count": 363,
     "metadata": {},
     "output_type": "execute_result"
    }
   ],
   "source": [
    "test.ix[:, 'sport_objects_raion' : 'detention_facility_raion'].isnull().sum()"
   ]
  },
  {
   "cell_type": "code",
   "execution_count": 396,
   "metadata": {
    "collapsed": false
   },
   "outputs": [
    {
     "data": {
      "text/plain": [
       "90"
      ]
     },
     "execution_count": 396,
     "metadata": {},
     "output_type": "execute_result"
    }
   ],
   "source": [
    "macro['balance_trade_growth'].isnull().sum()"
   ]
  },
  {
   "cell_type": "code",
   "execution_count": 394,
   "metadata": {
    "collapsed": false
   },
   "outputs": [
    {
     "data": {
      "text/plain": [
       "<matplotlib.axes._subplots.AxesSubplot at 0x17551c88>"
      ]
     },
     "execution_count": 394,
     "metadata": {},
     "output_type": "execute_result"
    },
    {
     "data": {
      "image/png": "[encoded data removed]",
      "text/plain": [
       "<matplotlib.figure.Figure at 0x12d06d30>"
      ]
     },
     "metadata": {},
     "output_type": "display_data"
    }
   ],
   "source": [
    "macro['balance_trade'].hist()"
   ]
  },
  {
   "cell_type": "code",
   "execution_count": 398,
   "metadata": {
    "collapsed": false
   },
   "outputs": [
    {
     "data": {
      "text/plain": [
       "[<matplotlib.lines.Line2D at 0x18e05cc0>]"
      ]
     },
     "execution_count": 398,
     "metadata": {},
     "output_type": "execute_result"
    },
    {
     "data": {
      "image/png": "[encoded data removed]",
      "text/plain": [
       "<matplotlib.figure.Figure at 0x12d06eb8>"
      ]
     },
     "metadata": {},
     "output_type": "display_data"
    }
   ],
   "source": [
    "plt.plot(macro['usdrub'])"
   ]
  },
  {
   "cell_type": "code",
   "execution_count": null,
   "metadata": {
    "collapsed": true
   },
   "outputs": [],
   "source": []
  },
  {
   "cell_type": "code",
   "execution_count": null,
   "metadata": {
    "collapsed": true
   },
   "outputs": [],
   "source": []
  },
  {
   "cell_type": "code",
   "execution_count": null,
   "metadata": {
    "collapsed": true
   },
   "outputs": [],
   "source": []
  },
  {
   "cell_type": "code",
   "execution_count": 6,
   "metadata": {
    "collapsed": false
   },
   "outputs": [],
   "source": [
    "train_test = pd.concat([train, test], axis = 0)"
   ]
  },
  {
   "cell_type": "code",
   "execution_count": 10,
   "metadata": {
    "collapsed": false
   },
   "outputs": [
    {
     "data": {
      "text/plain": [
       "array(['0_13_all', '0_13_female', '0_13_male', '0_17_all', '0_17_female',\n",
       "       '0_17_male', '0_6_all', '0_6_female', '0_6_male', '16_29_all',\n",
       "       '16_29_female', '16_29_male', '7_14_all', '7_14_female',\n",
       "       '7_14_male', 'ID_big_road1', 'ID_big_road2', 'ID_bus_terminal',\n",
       "       'ID_metro', 'ID_railroad_station_avto', 'ID_railroad_terminal',\n",
       "       'additional_education_km', 'additional_education_raion', 'area_m',\n",
       "       'basketball_km', 'big_church_count_1000', 'big_church_count_1500',\n",
       "       'big_church_count_2000', 'big_church_count_3000',\n",
       "       'big_church_count_500', 'big_church_count_5000', 'big_church_km',\n",
       "       'big_market_km', 'big_market_raion', 'big_road1_1line',\n",
       "       'big_road1_km', 'big_road2_km', 'bulvar_ring_km',\n",
       "       'bus_terminal_avto_km', 'cafe_count_1000',\n",
       "       'cafe_count_1000_na_price', 'cafe_count_1000_price_1000',\n",
       "       'cafe_count_1000_price_1500', 'cafe_count_1000_price_2500',\n",
       "       'cafe_count_1000_price_4000', 'cafe_count_1000_price_500',\n",
       "       'cafe_count_1000_price_high', 'cafe_count_1500',\n",
       "       'cafe_count_1500_na_price', 'cafe_count_1500_price_1000',\n",
       "       'cafe_count_1500_price_1500', 'cafe_count_1500_price_2500',\n",
       "       'cafe_count_1500_price_4000', 'cafe_count_1500_price_500',\n",
       "       'cafe_count_1500_price_high', 'cafe_count_2000',\n",
       "       'cafe_count_2000_na_price', 'cafe_count_2000_price_1000',\n",
       "       'cafe_count_2000_price_1500', 'cafe_count_2000_price_2500',\n",
       "       'cafe_count_2000_price_4000', 'cafe_count_2000_price_500',\n",
       "       'cafe_count_2000_price_high', 'cafe_count_3000',\n",
       "       'cafe_count_3000_na_price', 'cafe_count_3000_price_1000',\n",
       "       'cafe_count_3000_price_1500', 'cafe_count_3000_price_2500',\n",
       "       'cafe_count_3000_price_4000', 'cafe_count_3000_price_500',\n",
       "       'cafe_count_3000_price_high', 'cafe_count_500', 'cafe_count_5000',\n",
       "       'cafe_count_5000_na_price', 'cafe_count_5000_price_1000',\n",
       "       'cafe_count_5000_price_1500', 'cafe_count_5000_price_2500',\n",
       "       'cafe_count_5000_price_4000', 'cafe_count_5000_price_500',\n",
       "       'cafe_count_5000_price_high', 'cafe_count_500_na_price',\n",
       "       'cafe_count_500_price_1000', 'cafe_count_500_price_1500',\n",
       "       'cafe_count_500_price_2500', 'cafe_count_500_price_4000',\n",
       "       'cafe_count_500_price_500', 'cafe_count_500_price_high',\n",
       "       'catering_km', 'cemetery_km', 'children_preschool',\n",
       "       'children_school', 'church_count_1000', 'church_count_1500',\n",
       "       'church_count_2000', 'church_count_3000', 'church_count_500',\n",
       "       'church_count_5000', 'church_synagogue_km',\n",
       "       'culture_objects_top_25', 'culture_objects_top_25_raion',\n",
       "       'detention_facility_km', 'detention_facility_raion', 'ecology',\n",
       "       'ekder_all', 'ekder_female', 'ekder_male', 'exhibition_km',\n",
       "       'female_f', 'fitness_km', 'full_all', 'full_sq', 'green_part_1000',\n",
       "       'green_part_1500', 'green_part_3000', 'green_part_500',\n",
       "       'green_part_5000', 'green_zone_km', 'green_zone_part',\n",
       "       'healthcare_centers_raion', 'hospice_morgue_km', 'ice_rink_km',\n",
       "       'id', 'incineration_km', 'incineration_raion', 'indust_part',\n",
       "       'industrial_km', 'kindergarten_km', 'kremlin_km',\n",
       "       'leisure_count_1000', 'leisure_count_1500', 'leisure_count_2000',\n",
       "       'leisure_count_3000', 'leisure_count_500', 'leisure_count_5000',\n",
       "       'male_f', 'market_count_1000', 'market_count_1500',\n",
       "       'market_count_2000', 'market_count_3000', 'market_count_500',\n",
       "       'market_count_5000', 'market_shop_km', 'metro_km_avto',\n",
       "       'metro_min_avto', 'mkad_km', 'mosque_count_1000',\n",
       "       'mosque_count_1500', 'mosque_count_2000', 'mosque_count_3000',\n",
       "       'mosque_count_500', 'mosque_count_5000', 'mosque_km', 'museum_km',\n",
       "       'nuclear_reactor_km', 'nuclear_reactor_raion', 'office_count_1000',\n",
       "       'office_count_1500', 'office_count_2000', 'office_count_3000',\n",
       "       'office_count_500', 'office_count_5000', 'office_km',\n",
       "       'office_raion', 'office_sqm_1000', 'office_sqm_1500',\n",
       "       'office_sqm_2000', 'office_sqm_3000', 'office_sqm_500',\n",
       "       'office_sqm_5000', 'oil_chemistry_km', 'oil_chemistry_raion',\n",
       "       'park_km', 'power_transmission_line_km',\n",
       "       'preschool_education_centers_raion', 'preschool_km',\n",
       "       'prom_part_1000', 'prom_part_1500', 'prom_part_2000',\n",
       "       'prom_part_3000', 'prom_part_500', 'public_healthcare_km',\n",
       "       'public_transport_station_km', 'public_transport_station_min_walk',\n",
       "       'radiation_km', 'radiation_raion', 'railroad_1line', 'railroad_km',\n",
       "       'railroad_station_avto_km', 'railroad_station_avto_min',\n",
       "       'railroad_terminal_raion', 'raion_popul', 'sadovoe_km',\n",
       "       'school_education_centers_raion',\n",
       "       'school_education_centers_top_20_raion', 'school_km',\n",
       "       'shopping_centers_km', 'shopping_centers_raion', 'sport_count_1000',\n",
       "       'sport_count_1500', 'sport_count_2000', 'sport_count_3000',\n",
       "       'sport_count_500', 'sport_count_5000', 'sport_objects_raion',\n",
       "       'stadium_km', 'sub_area', 'swim_pool_km', 'theater_km',\n",
       "       'thermal_power_plant_km', 'thermal_power_plant_raion', 'timestamp',\n",
       "       'trc_count_1000', 'trc_count_1500', 'trc_count_2000',\n",
       "       'trc_count_3000', 'trc_count_500', 'trc_count_5000', 'trc_sqm_1000',\n",
       "       'trc_sqm_1500', 'trc_sqm_2000', 'trc_sqm_3000', 'trc_sqm_500',\n",
       "       'trc_sqm_5000', 'ts_km', 'ttk_km', 'university_km',\n",
       "       'university_top_20_raion', 'water_1line', 'water_km',\n",
       "       'water_treatment_km', 'work_all', 'work_female', 'work_male',\n",
       "       'workplaces_km', 'young_all', 'young_female', 'young_male',\n",
       "       'zd_vokzaly_avto_km'], dtype=object)"
      ]
     },
     "execution_count": 10,
     "metadata": {},
     "output_type": "execute_result"
    }
   ],
   "source": [
    "train_test.isnull().sum()[train_test.isnull().sum() == 0].index.values"
   ]
  },
  {
   "cell_type": "code",
   "execution_count": 26,
   "metadata": {
    "collapsed": false
   },
   "outputs": [
    {
     "data": {
      "text/plain": [
       "timestamp                              0\n",
       "oil_urals                              0\n",
       "gdp_annual                             0\n",
       "gdp_annual_growth                      0\n",
       "average_provision_of_build_contract    0\n",
       "deposits_value                         0\n",
       "mortgage_value                         0\n",
       "mortgage_rate                          0\n",
       "fixed_basket                           0\n",
       "dtype: int64"
      ]
     },
     "execution_count": 26,
     "metadata": {},
     "output_type": "execute_result"
    }
   ],
   "source": [
    "macro.isnull().sum()[macro.isnull().sum() == 0]"
   ]
  },
  {
   "cell_type": "code",
   "execution_count": null,
   "metadata": {
    "collapsed": true
   },
   "outputs": [],
   "source": []
  },
  {
   "cell_type": "code",
   "execution_count": null,
   "metadata": {
    "collapsed": true
   },
   "outputs": [],
   "source": [
    "#Count encode selected variables!\n",
    "to_count_encode = ['full_sq', 'life_sq', 'kitch_sq', 'sub_area', 'product_type',\n",
    "                   'floor', 'max_floor', 'material', 'build_year', 'state', 'num_room', 'year', 'weekday', 'floor_diff']\n",
    "for j in to_count_encode:\n",
    "    train['count_' + j], test['count_' + j] = count_encoder(j)"
   ]
  },
  {
   "cell_type": "code",
   "execution_count": 27,
   "metadata": {
    "collapsed": false
   },
   "outputs": [],
   "source": [
    "from_macro = ['timestamp', 'oil_urals', 'gdp_annual', 'gdp_annual_growth', 'mortgage_rate', 'mortgage_value',\n",
    "             'average_provision_of_build_contract', 'fixed_basket', 'deposits_value']\n",
    "train = pd.merge(train, macro[from_macro], on = 'timestamp', how = 'inner')\n",
    "test = pd.merge(test, macro[from_macro], on = 'timestamp', how = 'inner')"
   ]
  },
  {
   "cell_type": "code",
   "execution_count": 199,
   "metadata": {
    "collapsed": false
   },
   "outputs": [
    {
     "data": {
      "text/plain": [
       "('full_sq', 'life_sq', 'floor')"
      ]
     },
     "execution_count": 199,
     "metadata": {},
     "output_type": "execute_result"
    }
   ],
   "source": [
    "'full_sq', 'life_sq', 'floor', 'max_floor', 'product_type', 'material', 'build_year',      #обработаны"
   ]
  },
  {
   "cell_type": "code",
   "execution_count": null,
   "metadata": {
    "collapsed": true
   },
   "outputs": [],
   "source": []
  }
 ],
 "metadata": {
  "anaconda-cloud": {},
  "kernelspec": {
   "display_name": "Python 3",
   "language": "python",
   "name": "python3"
  },
  "language_info": {
   "codemirror_mode": {
    "name": "ipython",
    "version": 3
   },
   "file_extension": ".py",
   "mimetype": "text/x-python",
   "name": "python",
   "nbconvert_exporter": "python",
   "pygments_lexer": "ipython3",
   "version": "3.4.5"
  }
 },
 "nbformat": 4,
 "nbformat_minor": 1
}
