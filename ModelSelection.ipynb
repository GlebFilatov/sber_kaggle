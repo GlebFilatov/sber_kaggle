{
 "cells": [
  {
   "cell_type": "code",
   "execution_count": 1,
   "metadata": {
    "collapsed": true
   },
   "outputs": [],
   "source": [
    "import time\n",
    "import pandas as pd\n",
    "import numpy as np\n",
    "from sklearn.ensemble import RandomForestRegressor, GradientBoostingRegressor\n",
    "from sklearn.model_selection import KFold"
   ]
  },
  {
   "cell_type": "code",
   "execution_count": 4,
   "metadata": {
    "collapsed": true
   },
   "outputs": [],
   "source": [
    "train = pd.read_csv('data/train_v1.csv')[train['price_doc'] <= 1e6]\n",
    "test = pd.read_csv('data/test_v1.csv')\n",
    "Y_0 = train['price_doc']\n",
    "Y_1 = train['per_meter']\n",
    "del train['price_doc']\n",
    "del train['per_meter']\n",
    "del test['price_doc']\n",
    "del test['per_meter']"
   ]
  },
  {
   "cell_type": "code",
   "execution_count": 6,
   "metadata": {
    "collapsed": true
   },
   "outputs": [],
   "source": [
    "def rmsle(preds, Y):\n",
    "        return np.sqrt(np.mean((np.log(Y+1)-np.log(preds+1))**2))\n",
    "def evaluate_RF(train, test, Y):    \n",
    "    '''train, test - DataFrame; Y - Series'''\n",
    "    \n",
    "    model = RandomForestRegressor(n_estimators=1000,n_jobs = 8)\n",
    "    model_train_preds = np.zeros(train.shape[0])\n",
    "    model_test_preds = np.zeros(test.shape[0])\n",
    "     \n",
    "\n",
    "    k = 0\n",
    "    \n",
    "    kf = KFold(n_splits = 7, random_state = 2016, shuffle = True)\n",
    "    for train_index, test_index in kf.split(train, Y):\n",
    "        print('Fitting fold {0}.....'.format(k))\n",
    "        start = time.time()\n",
    "        X_train, X_test = train.iloc[train_index], train.iloc[test_index]\n",
    "        Y_train = Y.iloc[train_index]\n",
    "        \n",
    "        model.fit(X_train, Y_train)\n",
    "        \n",
    "        model_train_preds[test_index] = model.predict(X_test)\n",
    "        model_test_preds += model.predict(test)\n",
    "    \n",
    "        k += 1\n",
    "        end = time.time()\n",
    "        print('Elapsed: {0}'.format(start-end))\n",
    "    model_test_preds /= 7\n",
    "    \n",
    "    model_train_preds[model_train_preds < 0] = np.median(model_train_preds)\n",
    "    model_test_preds[model_test_preds < 0] = np.median(model_test_preds)\n",
    "    \n",
    "    return (model_train_preds, model_test_preds, rmsle(Y, model_train_preds))"
   ]
  },
  {
   "cell_type": "code",
   "execution_count": 4,
   "metadata": {
    "collapsed": false
   },
   "outputs": [
    {
     "name": "stdout",
     "output_type": "stream",
     "text": [
      "Fitting fold 0.....\n",
      "Elapsed: -1220.341232061386\n",
      "Fitting fold 1.....\n",
      "Elapsed: -1197.131464958191\n",
      "Fitting fold 2.....\n",
      "Elapsed: -1226.1360960006714\n",
      "Fitting fold 3.....\n",
      "Elapsed: -1244.724762916565\n",
      "Fitting fold 4.....\n",
      "Elapsed: -1197.3302178382874\n",
      "Fitting fold 5.....\n",
      "Elapsed: -1182.692083120346\n",
      "Fitting fold 6.....\n",
      "Elapsed: -1179.2416639328003\n"
     ]
    }
   ],
   "source": [
    "model_train_preds, model_test_preds, error = evaluate_RF(train,test,Y_0)"
   ]
  },
  {
   "cell_type": "code",
   "execution_count": null,
   "metadata": {
    "collapsed": true
   },
   "outputs": [],
   "source": []
  }
 ],
 "metadata": {
  "kernelspec": {
   "display_name": "Python 3",
   "language": "python",
   "name": "python3"
  },
  "language_info": {
   "codemirror_mode": {
    "name": "ipython",
    "version": 3
   },
   "file_extension": ".py",
   "mimetype": "text/x-python",
   "name": "python",
   "nbconvert_exporter": "python",
   "pygments_lexer": "ipython3",
   "version": "3.4.5"
  }
 },
 "nbformat": 4,
 "nbformat_minor": 2
}
